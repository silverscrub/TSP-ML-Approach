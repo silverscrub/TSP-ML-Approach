{
 "cells": [
  {
   "cell_type": "code",
   "execution_count": 1,
   "metadata": {},
   "outputs": [
    {
     "name": "stderr",
     "output_type": "stream",
     "text": [
      "hash-2.2.6.1 provided by Decision Patterns\n",
      "\n",
      "\n",
      "Warning message in file(con, \"r\"):\n",
      "“cannot open file '/home/LC/mailo01/TSP-ML-Approach/src/R/CLUSTER_DIV/main.tsp': No such file or directory”\n"
     ]
    },
    {
     "ename": "ERROR",
     "evalue": "Error in file(con, \"r\"): cannot open the connection\n",
     "output_type": "error",
     "traceback": [
      "Error in file(con, \"r\"): cannot open the connection\nTraceback:\n",
      "1. read_TSPLIB(\"/home/LC/mailo01/TSP-ML-Approach/src/R/CLUSTER_DIV/main.tsp\")",
      "2. readLines(file)",
      "3. file(con, \"r\")"
     ]
    }
   ],
   "source": [
    "library(\"TSP\")\n",
    "library(\"hash\")\n",
    "library(\"sets\")\n",
    "\n",
    "dataTSP <- read_TSPLIB(\"/home/LC/mailo01/TSP-ML-Approach/src/R/CLUSTER_DIV/main.tsp\")\n",
    "\n",
    "\n",
    "pointSet <- hash()\n",
    "noPts <- length(dataTSP)/2\n",
    "for (i in 1:noPts){\n",
    "    pointSet[[toString(i)]] <- tuple(dataTSP[i], dataTSP[i+noPts])\n",
    "}\n",
    "\n",
    "dist_pts <- function(pt1,pt2){\n",
    "        return(sqrt((pt1[[1]]-pt2[[1]])^2 + (pt1[[2]]-pt2[[2]])^2))\n",
    "}\n",
    "\n",
    "angle <- function(x,y){\n",
    "  dot.prod <- x%*%y \n",
    "  norm.x <- norm(x,type=\"2\")\n",
    "  norm.y <- norm(y,type=\"2\")\n",
    "  theta <- acos(dot.prod / (norm.x * norm.y))\n",
    "  as.numeric(theta)\n",
    "}\n",
    "\n",
    "angle_pts <- function(pt1,pt2){\n",
    "    \n",
    "    if (pt1[[2]] -pt2[[2]] == 0){\n",
    "        if (pt1[[1]] -pt2[[1]]>0){\n",
    "            return(pi/2)\n",
    "        }\n",
    "        if (pt1[[1]] -pt2[[1]]<0){\n",
    "            return(-pi/2)\n",
    "        }\n",
    "        if (pt1[[1]] -pt2[[1]]==0){\n",
    "            return(0)\n",
    "        }\n",
    "    } else{\n",
    "        x<- pt1[[1]] -pt2[[1]]\n",
    "        y <-pt1[[2]] -pt2[[2]]\n",
    "        angle <- atan((y)/(x))\n",
    "        if (x < 0 & y>0){\n",
    "            angle <- pi + angle\n",
    "        }\n",
    "        if (x >0 & y <0){\n",
    "            angle <-2*pi +angle\n",
    "        }\n",
    "        if (x < 0 & y<0){\n",
    "            angle <- pi + angle\n",
    "        }\n",
    "        return(angle)\n",
    "        }\n",
    "}\n"
   ]
  },
  {
   "cell_type": "code",
   "execution_count": 2,
   "metadata": {},
   "outputs": [
    {
     "ename": "ERROR",
     "evalue": "Error in plot(dataTSP, xlim = c(0, 100), ylim = c(0, 100), pch = 20): object 'dataTSP' not found\n",
     "output_type": "error",
     "traceback": [
      "Error in plot(dataTSP, xlim = c(0, 100), ylim = c(0, 100), pch = 20): object 'dataTSP' not found\nTraceback:\n",
      "1. plot(dataTSP, xlim = c(0, 100), ylim = c(0, 100), pch = 20)"
     ]
    }
   ],
   "source": [
    "radius <-7\n",
    "plot(dataTSP,xlim=c(0,100), ylim=c(0,100), pch=20)\n",
    "symbols(dataTSP,circles=rep(radius,noPts), add=T, inches=F)\n",
    "\n",
    "##manual pick\n",
    "manual_point1 <- values(pointSet, keys =1)\n",
    "print(manual_point1)\n",
    "#points(manual_point1[[1]],manual_point1[[2]], col=\"2\")\n",
    "\n",
    "manual_point2<- values(pointSet, keys =1)\n",
    "print(manual_point2)\n",
    "points(manual_point2[[1]],manual_point2[[2]], col=\"3\")\n",
    "\n",
    "angle_pts(manual_point2,manual_point1)"
   ]
  },
  {
   "cell_type": "code",
   "execution_count": 3,
   "metadata": {},
   "outputs": [
    {
     "ename": "ERROR",
     "evalue": "Error in h(simpleError(msg, call)): error in evaluating the argument 'x' in selecting a method for function 'values': object 'pointSet' not found\n",
     "output_type": "error",
     "traceback": [
      "Error in h(simpleError(msg, call)): error in evaluating the argument 'x' in selecting a method for function 'values': object 'pointSet' not found\nTraceback:\n",
      "1. values(pointSet, keys = 1)",
      "2. .handleSimpleError(function (cond) \n . .Internal(C_tryCatchHelper(addr, 1L, cond)), \"object 'pointSet' not found\", \n .     base::quote(values(pointSet, keys = 1)))",
      "3. h(simpleError(msg, call))"
     ]
    }
   ],
   "source": [
    "pivot_point <- values(pointSet, keys =1)\n",
    "\n",
    "angle_based <- list()\n",
    "distance_based <-list()\n",
    "\n",
    "for (i in 1:noPts){\n",
    "    compare_point <- values(pointSet, keys= i)\n",
    "    element <-list(list(i, dist_pts(pivot_point,compare_point), angle_pts(compare_point,pivot_point)))\n",
    "    angle_based <- append(angle_based, element)\n",
    "    distance_based <- append(distance_based, element)\n",
    "}\n",
    "\n",
    "\n"
   ]
  },
  {
   "cell_type": "code",
   "execution_count": 6,
   "metadata": {},
   "outputs": [
    {
     "ename": "ERROR",
     "evalue": "Error in eval(expr, envir, enclos): object 'angle_based' not found\n",
     "output_type": "error",
     "traceback": [
      "Error in eval(expr, envir, enclos): object 'angle_based' not found\nTraceback:\n"
     ]
    }
   ],
   "source": [
    "start_time <- Sys.time()\n",
    "\n",
    "angle_based <- angle_based[order(sapply(distance_based, '[[', 3))]\n",
    "end_time <- Sys.time()\n",
    "end_time - start_time"
   ]
  },
  {
   "cell_type": "code",
   "execution_count": 7,
   "metadata": {},
   "outputs": [
    {
     "ename": "ERROR",
     "evalue": "Error in eval(expr, envir, enclos): object 'distance_based' not found\n",
     "output_type": "error",
     "traceback": [
      "Error in eval(expr, envir, enclos): object 'distance_based' not found\nTraceback:\n"
     ]
    }
   ],
   "source": [
    "start_time <- Sys.time()\n",
    "\n",
    "distance_based <- distance_based[order(sapply(distance_based,'[[',2))]\n",
    "end_time <- Sys.time()\n",
    "end_time - start_time"
   ]
  },
  {
   "cell_type": "code",
   "execution_count": 4,
   "metadata": {},
   "outputs": [],
   "source": [
    "get_item <- function(item_to_get, database){\n",
    "    counter <-1\n",
    "    cont <- TRUE \n",
    "    while (counter <= length(database) & cont == TRUE){\n",
    "        data_pt <-database[[counter]]\n",
    "        if (data_pt[1] == item_to_get){\n",
    "            return(data_pt)\n",
    "            cont <- FALSE\n",
    "        }\n",
    "        counter <- counter +1\n",
    "    }\n",
    "}\n",
    "\n",
    "get_pts_range_dist <- function(lower_bound, higher_bound){\n",
    "    cont = TRUE\n",
    "    counter <-1\n",
    "    eligible_vertices <-list()\n",
    "    while (counter <= length(distance_based) & cont ==TRUE){\n",
    "        distance_wrt_pivot <- distance_based[[counter]]\n",
    "        \n",
    "        if (distance_wrt_pivot[[2]] >= lower_bound & distance_wrt_pivot[[2]]<= higher_bound){\n",
    "            eligible_vertices <- append(eligible_vertices, distance_wrt_pivot[[1]])\n",
    "        }\n",
    "        if (distance_wrt_pivot[[2]]> higher_bound){\n",
    "            cont <- FALSE\n",
    "        }\n",
    "        counter <- counter +1\n",
    "    }\n",
    "    return(eligible_vertices)\n",
    "}\n",
    "\n",
    "obtain_angle_range <- function(lower_bound, higher_bound){\n",
    "    cont = TRUE\n",
    "    counter <-1\n",
    "    eligible_vertices <-list()\n",
    "    while (counter <= length(angle_based) & cont ==TRUE){\n",
    "        angle_wrt_hor <- angle_based[[counter]]\n",
    "        \n",
    "        if (angle_wrt_hor[[3]] >= lower_bound & angle_wrt_hor[[3]]<= higher_bound){\n",
    "            eligible_vertices <- append(eligible_vertices, angle_wrt_hor[[1]])\n",
    "        }\n",
    "        if (angle_wrt_hor[[3]]> higher_bound){\n",
    "            cont <- FALSE\n",
    "        }\n",
    "        counter <- counter +1\n",
    "    }\n",
    "    return(eligible_vertices)\n",
    "}\n",
    "\n",
    "conform_angle <- function(angle){\n",
    "    if (angle <0){\n",
    "        angle <- 2*pi + angle\n",
    "    }\n",
    "    if (angle >2*pi){\n",
    "        angle <- angle - 2*pi\n",
    "    }\n",
    "    \n",
    "    return(angle)\n",
    "}\n",
    "\n",
    "get_pts_range_angle <- function(distance_from_pivot, radius, angle){\n",
    "     eligible_vertices <-list()\n",
    "    if (distance_from_pivot < radius){\n",
    "        eligible_vertices <- append(eligible_vertices, angle_based)\n",
    "    }else{\n",
    "        if (radius == distance_from_pivot){\n",
    "            #r = d, gives the angle range that is 180 degrees. Gives which side?\n",
    "            higher_bound <- conform_angle(pi/2 - (pi - angle))\n",
    "            lower_bound<- conform_angle(higher_bound + pi)\n",
    "            eligible_vertices <- append(eligible_vertices, obtain_angle_range(lower_bound, higher_bound))\n",
    "        }else{\n",
    "            #r > d\n",
    "            phi <- asin(2*radius/distance_from_pivot)\n",
    "            if (angle + phi > 2*pi){\n",
    "                diff <-  angle + phi -2*pi \n",
    "                eligible_vertices <- append(eligible_vertices, obtain_angle_range(0,diff))\n",
    "                eligible_vertices <- append(eligible_vertices, obtain_angle_range(angle-phi, 2*pi))\n",
    "            } else {\n",
    "                if (angle - phi < 0){\n",
    "                    diff <- angle - phi \n",
    "                    eligible_vertices <- append(eligible_vertices, obtain_angle_range(2*pi + diff, 2*pi))\n",
    "                    eligible_vertices <- append(eligible_vertices, obtain_angle_range(0, angle+phi))\n",
    "                }else{\n",
    "                    eligible_vertices <- append(eligible_vertices, obtain_angle_range(angle-phi, angle+phi))\n",
    "                }\n",
    "            }\n",
    "        }\n",
    "    }    \n",
    "    return(eligible_vertices)\n",
    "\n",
    "}"
   ]
  },
  {
   "cell_type": "code",
   "execution_count": 8,
   "metadata": {},
   "outputs": [
    {
     "ename": "ERROR",
     "evalue": "Error in eval(expr, envir, enclos): object 'noPts' not found\n",
     "output_type": "error",
     "traceback": [
      "Error in eval(expr, envir, enclos): object 'noPts' not found\nTraceback:\n"
     ]
    }
   ],
   "source": [
    "start_time <- Sys.time()\n",
    "current_tree <- list()\n",
    "checklist <-(c(1:noPts))\n",
    "while (length(checklist) != 0){\n",
    "\n",
    "    branch <- list()\n",
    "    \n",
    "    old_branch_len<- length(branch)\n",
    "\n",
    "    startPt = checklist[1]\n",
    "    branch<-append(branch, startPt)\n",
    "\n",
    "    counter =1\n",
    "\n",
    "    while(old_branch_len != length(branch)){\n",
    "\n",
    "        current_branch_len <- length(branch)\n",
    "        \n",
    "        start <-old_branch_len+1\n",
    "        pts_to_connect <- c(branch[start:current_branch_len])\n",
    "\n",
    "\n",
    "        checklist <-checklist[!checklist %in% pts_to_connect]\n",
    "\n",
    "        old_branch_len= current_branch_len\n",
    "\n",
    "        for (connect_pt in pts_to_connect){\n",
    "            print(\"point\")\n",
    "            print(connect_pt)\n",
    "            ## to yield an estimates of near by points \n",
    "            pivot_data <- get_item(connect_pt, distance_based)\n",
    "            dist_wrt_pivot <- pivot_data[[2]][1]\n",
    "            angle_wrt_hor <-pivot_data[[3]][1]\n",
    "            if (dist_wrt_pivot == 0){\n",
    "                possible_connect <- get_pts_range_dist(0,2*radius)\n",
    "                \n",
    "            } else {\n",
    "                possible_angle <- get_pts_range_angle(dist_wrt_pivot, radius, angle_wrt_hor)\n",
    "                \n",
    "                possible_dist <- get_pts_range_dist(dist_wrt_pivot-2*radius, dist_wrt_pivot+2*radius)\n",
    "                possible_connect <- intersect(possible_angle, possible_dist)\n",
    "            }\n",
    "            print(\"possible pt to connect\")\n",
    "            print(possible_connect)\n",
    "            for (comparePt in possible_connect){\n",
    "\n",
    "                if (!comparePt %in%branch){\n",
    "                    vPt1 <-values(pointSet, keys=connect_pt) \n",
    "                    vPt2 <-values(pointSet, keys=comparePt) \n",
    "                    \n",
    "                    if (dist_pts(vPt1,vPt2) <= 2*radius){\n",
    "                        \n",
    "                        branch<-append(branch,comparePt)\n",
    "                        \n",
    "                        checklist <-checklist[!checklist %in% c(comparePt)]\n",
    "\n",
    "                        \n",
    "                    } else {}\n",
    "                } else{}\n",
    "            }\n",
    "        }\n",
    "        counter <- counter +1\n",
    "        \n",
    "    }\n",
    "    current_tree <- append(current_tree, list(branch))\n",
    "}\n",
    "end_time <- Sys.time()\n",
    "end_time - start_time\n"
   ]
  },
  {
   "cell_type": "code",
   "execution_count": 9,
   "metadata": {},
   "outputs": [
    {
     "ename": "ERROR",
     "evalue": "Error in plot(dataTSP, xlim = c(0, 100), ylim = c(0, 100), pch = 20): object 'dataTSP' not found\n",
     "output_type": "error",
     "traceback": [
      "Error in plot(dataTSP, xlim = c(0, 100), ylim = c(0, 100), pch = 20): object 'dataTSP' not found\nTraceback:\n",
      "1. plot(dataTSP, xlim = c(0, 100), ylim = c(0, 100), pch = 20)"
     ]
    }
   ],
   "source": [
    "plot(dataTSP,xlim=c(0,100), ylim=c(0,100), pch=20)\n",
    "symbols(dataTSP,circles=rep(radius,noPts), add=T, inches=F)\n",
    "\n",
    "branchNo = 10\n",
    "for (all in current_tree[[branchNo]]){\n",
    "    pt <- values(pointSet, keys =all)\n",
    "    points(pt[[1]],pt[[2]], col=\"3\", pch=2)\n",
    "}\n",
    "\n",
    "manual_pt <- values(pointSet, keys =1)\n",
    "#points(manual_pt[[1]],manual_pt[[2]], col=\"2\", pch=5)\n",
    "check <- c(22,29)\n",
    "for (pt in check){\n",
    "    #manual_pt <- values(pointSet, keys =pt)\n",
    "    #points(manual_pt[[1]],manual_pt[[2]], col=\"4\", pch=3)\n",
    "}\n",
    "\n",
    "vPt1 <-values(pointSet, keys=1) \n",
    "vPt2 <-values(pointSet, keys=29) \n",
    "vPt3 <-values(pointSet, keys =22)\n",
    "dist_pts(vPt1,vPt2)\n",
    "\n",
    "#vPt1\n",
    "#vPt2\n",
    "#vPt3\n",
    "#angle_pts(vPt2,vPt1)"
   ]
  },
  {
   "cell_type": "code",
   "execution_count": 10,
   "metadata": {},
   "outputs": [
    {
     "ename": "ERROR",
     "evalue": "Error in current_tree[[branchNo]]: subscript out of bounds\n",
     "output_type": "error",
     "traceback": [
      "Error in current_tree[[branchNo]]: subscript out of bounds\nTraceback:\n"
     ]
    }
   ],
   "source": [
    "for (branchNo in 1:length(current_tree)){\n",
    "    pts  <- data.frame(x=c(), y=c())\n",
    "    if ( length(current_tree[[branchNo]]) <=2){\n",
    "        ##write solution to be the same as the output to .sol file\n",
    "        file_name <- sprintf(\"/home/LC/mailo01/TSP-ML-Approach/src/R/CLUSTER_DIV/branch_%s_case_%s.sol\",branchNo,1)\n",
    "        if (length(branch) == 1){\n",
    "            write(c(1,0), file_name)\n",
    "        }\n",
    "\n",
    "        if (length(branch) == 2){\n",
    "            write(c(2, 1, 0), file_name )\n",
    "        }\n",
    "\n",
    "    }else{\n",
    "\n",
    "        for (pt in branch){\n",
    "            pt_data <- get_item(pt, distance_based)\n",
    "            pts <- rbind(pts, c(pt_data[[2]],pt_data[3]))\n",
    "\n",
    "        }\n",
    "        etsp <- ETSP(pts)\n",
    "            file_name <- sprintf(\"branch_%s_case_%s.tsp\",branchNo,1)\n",
    "            write_TSPLIB(etsp, file= file_name)\n",
    "    }\n",
    "}"
   ]
  },
  {
   "cell_type": "code",
   "execution_count": 11,
   "metadata": {},
   "outputs": [
    {
     "name": "stderr",
     "output_type": "stream",
     "text": [
      "Warning message in file(con, \"r\"):\n",
      "“cannot open file '/home/LC/mailo01/TSP-ML-Approach/src/R/CLUSTER_DIV/main.tsp': No such file or directory”\n"
     ]
    },
    {
     "ename": "ERROR",
     "evalue": "Error in file(con, \"r\"): cannot open the connection\n",
     "output_type": "error",
     "traceback": [
      "Error in file(con, \"r\"): cannot open the connection\nTraceback:\n",
      "1. read_TSPLIB(\"/home/LC/mailo01/TSP-ML-Approach/src/R/CLUSTER_DIV/main.tsp\")",
      "2. readLines(file)",
      "3. file(con, \"r\")"
     ]
    }
   ],
   "source": [
    "## import library\n",
    "library(\"TSP\")\n",
    "\n",
    "\n",
    "## listing of solutions provided by concorde\n",
    "dataTSP <- read_TSPLIB(\"/home/LC/mailo01/TSP-ML-Approach/src/R/CLUSTER_DIV/main.tsp\")\n",
    "dataTSPsub <- read_TSPLIB(\"/home/LC/mailo01/TSP-ML-Approach/src/R/CLUSTER_DIV/branch_35_case_1.tsp\")\n",
    "all_solutions <- scan(\"/home/LC/mailo01/TSP-ML-Approach/src/R/CLUSTER_DIV/solution_files.txt\", what=character())\n"
   ]
  },
  {
   "cell_type": "code",
   "execution_count": 12,
   "metadata": {},
   "outputs": [],
   "source": [
    "convert_sol_format <- function(content){\n",
    "    content <- content[-1]\n",
    "    for (index in 1:length(content)){\n",
    "        content[[index]] <- content[[index]] + 1\n",
    "    }\n",
    "    return(as.integer(content))\n",
    "}"
   ]
  },
  {
   "cell_type": "code",
   "execution_count": 13,
   "metadata": {},
   "outputs": [
    {
     "ename": "ERROR",
     "evalue": "Error in eval(expr, envir, enclos): object 'all_solutions' not found\n",
     "output_type": "error",
     "traceback": [
      "Error in eval(expr, envir, enclos): object 'all_solutions' not found\nTraceback:\n"
     ]
    }
   ],
   "source": [
    "all_solutions[[50]]\n",
    "content <- scan(all_solutions[[50]])\n",
    "\n",
    "content\n",
    "tour_info <- convert_sol_format(content)\n",
    "tour_info\n"
   ]
  },
  {
   "cell_type": "code",
   "execution_count": 14,
   "metadata": {},
   "outputs": [
    {
     "ename": "ERROR",
     "evalue": "Error in as.TOUR(tour_info): object 'tour_info' not found\n",
     "output_type": "error",
     "traceback": [
      "Error in as.TOUR(tour_info): object 'tour_info' not found\nTraceback:\n",
      "1. as.TOUR(tour_info)"
     ]
    }
   ],
   "source": [
    "tour <- as.TOUR(tour_info)\n",
    "tour"
   ]
  },
  {
   "cell_type": "code",
   "execution_count": 15,
   "metadata": {},
   "outputs": [
    {
     "ename": "ERROR",
     "evalue": "Error in plot(dataTSPsub, tour): object 'dataTSPsub' not found\n",
     "output_type": "error",
     "traceback": [
      "Error in plot(dataTSPsub, tour): object 'dataTSPsub' not found\nTraceback:\n",
      "1. plot(dataTSPsub, tour)"
     ]
    }
   ],
   "source": [
    "plot(dataTSPsub, tour)"
   ]
  },
  {
   "cell_type": "code",
   "execution_count": null,
   "metadata": {},
   "outputs": [],
   "source": []
  }
 ],
 "metadata": {
  "kernelspec": {
   "display_name": "R",
   "language": "R",
   "name": "ir"
  },
  "language_info": {
   "codemirror_mode": "r",
   "file_extension": ".r",
   "mimetype": "text/x-r-source",
   "name": "R",
   "pygments_lexer": "r",
   "version": "4.0.2"
  }
 },
 "nbformat": 4,
 "nbformat_minor": 4
}
