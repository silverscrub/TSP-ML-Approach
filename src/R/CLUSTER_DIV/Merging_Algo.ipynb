{
 "cells": [
  {
   "cell_type": "code",
   "execution_count": 135,
   "metadata": {},
   "outputs": [
    {
     "ename": "ERROR",
     "evalue": "Error in UseMethod(\"as.ETSP\"): no applicable method for 'as.ETSP' applied to an object of class \"c('double', 'numeric')\"\n",
     "output_type": "error",
     "traceback": [
      "Error in UseMethod(\"as.ETSP\"): no applicable method for 'as.ETSP' applied to an object of class \"c('double', 'numeric')\"\nTraceback:\n",
      "1. read_TSPLIB(\"/home/LC/mailo01/TSP-ML-Approach/src/R/CLUSTER_DIV/branch_03_case_1.tsp\")",
      "2. ETSP(data)",
      "3. as.ETSP(x)"
     ]
    }
   ],
   "source": [
    "## import library\n",
    "library(\"TSP\")\n",
    "\n",
    "\n",
    "## listing of solutions provided by concorde\n",
    "dataTSP <- read_TSPLIB(\"/home/LC/mailo01/TSP-ML-Approach/src/R/CLUSTER_DIV/main.tsp\")\n",
    "all_solutions <- scan(\"/home/LC/mailo01/TSP-ML-Approach/src/R/CLUSTER_DIV/solution_files.txt\", what=character())\n",
    "data1 <-read_TSPLIB(\"/home/LC/mailo01/TSP-ML-Approach/src/R/CLUSTER_DIV/branch_01_case_1.tsp\")\n",
    "data2 <-read_TSPLIB(\"/home/LC/mailo01/TSP-ML-Approach/src/R/CLUSTER_DIV/branch_02_case_1.tsp\")\n",
    "data3 <-read_TSPLIB(\"/home/LC/mailo01/TSP-ML-Approach/src/R/CLUSTER_DIV/branch_03_case_1.tsp\")"
   ]
  },
  {
   "cell_type": "code",
   "execution_count": 100,
   "metadata": {},
   "outputs": [
    {
     "data": {
      "text/html": [
       "<style>\n",
       ".list-inline {list-style: none; margin:0; padding: 0}\n",
       ".list-inline>li {display: inline-block}\n",
       ".list-inline>li:not(:last-child)::after {content: \"\\00b7\"; padding: 0 .5ex}\n",
       "</style>\n",
       "<ol class=list-inline><li>'branch_01_case_1.sol'</li><li>'branch_02_case_1.sol'</li><li>'branch_03_case_1.sol'</li><li>'branch_04_case_1.sol'</li><li>'branch_05_case_1.sol'</li><li>'branch_06_case_1.sol'</li><li>'branch_07_case_1.sol'</li><li>'branch_08_case_1.sol'</li><li>'branch_09_case_1.sol'</li><li>'branch_10_case_1.sol'</li></ol>\n"
      ],
      "text/latex": [
       "\\begin{enumerate*}\n",
       "\\item 'branch\\_01\\_case\\_1.sol'\n",
       "\\item 'branch\\_02\\_case\\_1.sol'\n",
       "\\item 'branch\\_03\\_case\\_1.sol'\n",
       "\\item 'branch\\_04\\_case\\_1.sol'\n",
       "\\item 'branch\\_05\\_case\\_1.sol'\n",
       "\\item 'branch\\_06\\_case\\_1.sol'\n",
       "\\item 'branch\\_07\\_case\\_1.sol'\n",
       "\\item 'branch\\_08\\_case\\_1.sol'\n",
       "\\item 'branch\\_09\\_case\\_1.sol'\n",
       "\\item 'branch\\_10\\_case\\_1.sol'\n",
       "\\end{enumerate*}\n"
      ],
      "text/markdown": [
       "1. 'branch_01_case_1.sol'\n",
       "2. 'branch_02_case_1.sol'\n",
       "3. 'branch_03_case_1.sol'\n",
       "4. 'branch_04_case_1.sol'\n",
       "5. 'branch_05_case_1.sol'\n",
       "6. 'branch_06_case_1.sol'\n",
       "7. 'branch_07_case_1.sol'\n",
       "8. 'branch_08_case_1.sol'\n",
       "9. 'branch_09_case_1.sol'\n",
       "10. 'branch_10_case_1.sol'\n",
       "\n",
       "\n"
      ],
      "text/plain": [
       " [1] \"branch_01_case_1.sol\" \"branch_02_case_1.sol\" \"branch_03_case_1.sol\"\n",
       " [4] \"branch_04_case_1.sol\" \"branch_05_case_1.sol\" \"branch_06_case_1.sol\"\n",
       " [7] \"branch_07_case_1.sol\" \"branch_08_case_1.sol\" \"branch_09_case_1.sol\"\n",
       "[10] \"branch_10_case_1.sol\""
      ]
     },
     "metadata": {},
     "output_type": "display_data"
    }
   ],
   "source": [
    "all_solutions"
   ]
  },
  {
   "cell_type": "code",
   "execution_count": 113,
   "metadata": {},
   "outputs": [
    {
     "data": {
      "text/html": [
       "<ol>\n",
       "\t<li><ol>\n",
       "\t<li>2</li>\n",
       "\t<li>1</li>\n",
       "\t<li>0</li>\n",
       "</ol>\n",
       "</li>\n",
       "</ol>\n"
      ],
      "text/latex": [
       "\\begin{enumerate}\n",
       "\\item \\begin{enumerate}\n",
       "\\item 2\n",
       "\\item 1\n",
       "\\item 0\n",
       "\\end{enumerate}\n",
       "\n",
       "\\end{enumerate}\n"
      ],
      "text/markdown": [
       "1. 1. 2\n",
       "2. 1\n",
       "3. 0\n",
       "\n",
       "\n",
       "\n",
       "\n",
       "\n"
      ],
      "text/plain": [
       "[[1]]\n",
       "[[1]][[1]]\n",
       "[1] 2\n",
       "\n",
       "[[1]][[2]]\n",
       "[1] 1\n",
       "\n",
       "[[1]][[3]]\n",
       "[1] 0\n",
       "\n"
      ]
     },
     "metadata": {},
     "output_type": "display_data"
    }
   ],
   "source": [
    "mom <- list(list())\n",
    "mom[[1]] <-  list(2,1,0)\n",
    "mom"
   ]
  },
  {
   "cell_type": "code",
   "execution_count": 114,
   "metadata": {},
   "outputs": [],
   "source": [
    "convert_sol_format <- function(content){\n",
    "    content <- content[-1]\n",
    "    for (index in 1:length(content)){\n",
    "        content[[index]] <- content[[index]] + 1\n",
    "    }\n",
    "    return(as.TOUR(as.integer(content)))\n",
    "}\n",
    "\n",
    "get_solutions <- function(){\n",
    "    len <-length(all_solutions)\n",
    "    all_solution_tours <- list(list())\n",
    "    for (index in 1:len){\n",
    "        individual_tour <- convert_sol_format(scan(all_solutions[[index]]))\n",
    "        all_solution_tours[[index]] <- individual_tour\n",
    "    }\n",
    "    return(all_solution_tours)\n",
    "}\n",
    "\n",
    "\n"
   ]
  },
  {
   "cell_type": "code",
   "execution_count": 115,
   "metadata": {
    "scrolled": true
   },
   "outputs": [
    {
     "data": {
      "text/html": [
       "<ol>\n",
       "\t<li><style>\n",
       ".list-inline {list-style: none; margin:0; padding: 0}\n",
       ".list-inline>li {display: inline-block}\n",
       ".list-inline>li:not(:last-child)::after {content: \"\\00b7\"; padding: 0 .5ex}\n",
       "</style>\n",
       "<ol class=list-inline><li>2</li><li>1</li></ol>\n",
       "</li>\n",
       "\t<li><style>\n",
       ".list-inline {list-style: none; margin:0; padding: 0}\n",
       ".list-inline>li {display: inline-block}\n",
       ".list-inline>li:not(:last-child)::after {content: \"\\00b7\"; padding: 0 .5ex}\n",
       "</style>\n",
       "<ol class=list-inline><li>1</li><li>2</li><li>3</li><li>4</li><li>6</li><li>5</li><li>8</li><li>7</li><li>9</li></ol>\n",
       "</li>\n",
       "\t<li>1</li>\n",
       "\t<li>1</li>\n",
       "\t<li><style>\n",
       ".list-inline {list-style: none; margin:0; padding: 0}\n",
       ".list-inline>li {display: inline-block}\n",
       ".list-inline>li:not(:last-child)::after {content: \"\\00b7\"; padding: 0 .5ex}\n",
       "</style>\n",
       "<ol class=list-inline><li>2</li><li>1</li></ol>\n",
       "</li>\n",
       "\t<li>1</li>\n",
       "\t<li>1</li>\n",
       "\t<li>1</li>\n",
       "\t<li>1</li>\n",
       "\t<li>1</li>\n",
       "</ol>\n"
      ],
      "text/latex": [
       "\\begin{enumerate}\n",
       "\\item \\begin{enumerate*}\n",
       "\\item 2\n",
       "\\item 1\n",
       "\\end{enumerate*}\n",
       "\n",
       "\\item \\begin{enumerate*}\n",
       "\\item 1\n",
       "\\item 2\n",
       "\\item 3\n",
       "\\item 4\n",
       "\\item 6\n",
       "\\item 5\n",
       "\\item 8\n",
       "\\item 7\n",
       "\\item 9\n",
       "\\end{enumerate*}\n",
       "\n",
       "\\item 1\n",
       "\\item 1\n",
       "\\item \\begin{enumerate*}\n",
       "\\item 2\n",
       "\\item 1\n",
       "\\end{enumerate*}\n",
       "\n",
       "\\item 1\n",
       "\\item 1\n",
       "\\item 1\n",
       "\\item 1\n",
       "\\item 1\n",
       "\\end{enumerate}\n"
      ],
      "text/markdown": [
       "1. 1. 2\n",
       "2. 1\n",
       "\n",
       "\n",
       "\n",
       "2. 1. 1\n",
       "2. 2\n",
       "3. 3\n",
       "4. 4\n",
       "5. 6\n",
       "6. 5\n",
       "7. 8\n",
       "8. 7\n",
       "9. 9\n",
       "\n",
       "\n",
       "\n",
       "3. 1\n",
       "4. 1\n",
       "5. 1. 2\n",
       "2. 1\n",
       "\n",
       "\n",
       "\n",
       "6. 1\n",
       "7. 1\n",
       "8. 1\n",
       "9. 1\n",
       "10. 1\n",
       "\n",
       "\n"
      ],
      "text/plain": [
       "[[1]]\n",
       "object of class ‘TOUR’ \n",
       "result of method  for 2 cities\n",
       "tour length: unknown\n",
       "\n",
       "[[2]]\n",
       "object of class ‘TOUR’ \n",
       "result of method  for 9 cities\n",
       "tour length: unknown\n",
       "\n",
       "[[3]]\n",
       "object of class ‘TOUR’ \n",
       "result of method  for 1 cities\n",
       "tour length: unknown\n",
       "\n",
       "[[4]]\n",
       "object of class ‘TOUR’ \n",
       "result of method  for 1 cities\n",
       "tour length: unknown\n",
       "\n",
       "[[5]]\n",
       "object of class ‘TOUR’ \n",
       "result of method  for 2 cities\n",
       "tour length: unknown\n",
       "\n",
       "[[6]]\n",
       "object of class ‘TOUR’ \n",
       "result of method  for 1 cities\n",
       "tour length: unknown\n",
       "\n",
       "[[7]]\n",
       "object of class ‘TOUR’ \n",
       "result of method  for 1 cities\n",
       "tour length: unknown\n",
       "\n",
       "[[8]]\n",
       "object of class ‘TOUR’ \n",
       "result of method  for 1 cities\n",
       "tour length: unknown\n",
       "\n",
       "[[9]]\n",
       "object of class ‘TOUR’ \n",
       "result of method  for 1 cities\n",
       "tour length: unknown\n",
       "\n",
       "[[10]]\n",
       "object of class ‘TOUR’ \n",
       "result of method  for 1 cities\n",
       "tour length: unknown\n"
      ]
     },
     "metadata": {},
     "output_type": "display_data"
    }
   ],
   "source": [
    "sol <- get_solutions()\n",
    "sol"
   ]
  },
  {
   "cell_type": "code",
   "execution_count": 140,
   "metadata": {},
   "outputs": [
    {
     "data": {
      "image/png": "[encoded data removed]",
      "text/plain": [
       "plot without title"
      ]
     },
     "metadata": {
      "image/png": {
       "height": 420,
       "width": 420
      },
      "text/plain": {
       "height": 420,
       "width": 420
      }
     },
     "output_type": "display_data"
    }
   ],
   "source": [
    "plot(dataTSP)"
   ]
  },
  {
   "cell_type": "code",
   "execution_count": 142,
   "metadata": {},
   "outputs": [
    {
     "data": {
      "image/png": "[encoded data removed]",
      "text/plain": [
       "plot without title"
      ]
     },
     "metadata": {
      "image/png": {
       "height": 420,
       "width": 420
      },
      "text/plain": {
       "height": 420,
       "width": 420
      }
     },
     "output_type": "display_data"
    }
   ],
   "source": [
    "tour1 <- as.TOUR(sol[[1]])\n",
    "tour2 <- as.TOUR(sol[[2]])\n",
    "plot(data2, tour2, xlim=c(0,100), ylim=c(0,100), pch=20)\n",
    "points(dataTSP,pch=20)"
   ]
  },
  {
   "cell_type": "code",
   "execution_count": null,
   "metadata": {},
   "outputs": [],
   "source": []
  },
  {
   "cell_type": "code",
   "execution_count": 90,
   "metadata": {},
   "outputs": [
    {
     "data": {
      "text/html": [
       "'branch_10_case_1.sol'"
      ],
      "text/latex": [
       "'branch\\_10\\_case\\_1.sol'"
      ],
      "text/markdown": [
       "'branch_10_case_1.sol'"
      ],
      "text/plain": [
       "[1] \"branch_10_case_1.sol\""
      ]
     },
     "metadata": {},
     "output_type": "display_data"
    }
   ],
   "source": []
  },
  {
   "cell_type": "code",
   "execution_count": 80,
   "metadata": {},
   "outputs": [
    {
     "data": {
      "text/html": [
       "1"
      ],
      "text/latex": [
       "1"
      ],
      "text/markdown": [
       "1"
      ],
      "text/plain": [
       "object of class ‘TOUR’ \n",
       "result of method  for 1 cities\n",
       "tour length: unknown"
      ]
     },
     "metadata": {},
     "output_type": "display_data"
    }
   ],
   "source": [
    "content1 <- scan(all_solutions[[7]])\n",
    "tour_info1 <- convert_sol_format(content1)\n",
    "tour1<- as.TOUR(tour_info1)\n",
    "tour1"
   ]
  },
  {
   "cell_type": "code",
   "execution_count": 67,
   "metadata": {},
   "outputs": [
    {
     "ename": "ERROR",
     "evalue": "Error in x[tour, ]: subscript out of bounds\n",
     "output_type": "error",
     "traceback": [
      "Error in x[tour, ]: subscript out of bounds\nTraceback:\n",
      "1. plot(dataTSPsub1, tour1, xlim = c(0, 100), ylim = c(0, 100))",
      "2. plot.ETSP(dataTSPsub1, tour1, xlim = c(0, 100), ylim = c(0, 100))",
      "3. polygon(x[tour, ], lty = tour_lty, border = tour_col)",
      "4. xy.coords(x, y, setLab = FALSE)"
     ]
    },
    {
     "data": {
      "image/png": "[encoded data removed]",
      "text/plain": [
       "plot without title"
      ]
     },
     "metadata": {
      "image/png": {
       "height": 420,
       "width": 420
      },
      "text/plain": {
       "height": 420,
       "width": 420
      }
     },
     "output_type": "display_data"
    }
   ],
   "source": [
    "plot(dataTSPsub1, tour1, xlim=c(0,100), ylim=c(0,100))\n",
    "plot(dataTSPsub2, tour2, xlim=c(0,100), ylim=c(0,100))"
   ]
  },
  {
   "cell_type": "code",
   "execution_count": 144,
   "metadata": {},
   "outputs": [
    {
     "name": "stderr",
     "output_type": "stream",
     "text": [
      "Warning message in mean.default(list(2, 3, 5, 6, 7)):\n",
      "“argument is not numeric or logical: returning NA”\n"
     ]
    },
    {
     "data": {
      "text/html": [
       "&lt;NA&gt;"
      ],
      "text/latex": [
       "<NA>"
      ],
      "text/markdown": [
       "&lt;NA&gt;"
      ],
      "text/plain": [
       "[1] NA"
      ]
     },
     "metadata": {},
     "output_type": "display_data"
    }
   ],
   "source": [
    "mean(c(2,3,5,6,7))"
   ]
  },
  {
   "cell_type": "code",
   "execution_count": 146,
   "metadata": {},
   "outputs": [
    {
     "data": {
      "text/html": [
       "<style>\n",
       ".list-inline {list-style: none; margin:0; padding: 0}\n",
       ".list-inline>li {display: inline-block}\n",
       ".list-inline>li:not(:last-child)::after {content: \"\\00b7\"; padding: 0 .5ex}\n",
       "</style>\n",
       "<ol class=list-inline><li>1</li><li>20</li><li>6</li><li>15</li><li>9</li><li>4</li><li>8</li><li>18</li><li>16</li><li>12</li><li>2</li><li>5</li><li>10</li><li>11</li><li>17</li><li>3</li><li>13</li><li>14</li><li>7</li><li>19</li></ol>\n"
      ],
      "text/latex": [
       "\\begin{enumerate*}\n",
       "\\item 1\n",
       "\\item 20\n",
       "\\item 6\n",
       "\\item 15\n",
       "\\item 9\n",
       "\\item 4\n",
       "\\item 8\n",
       "\\item 18\n",
       "\\item 16\n",
       "\\item 12\n",
       "\\item 2\n",
       "\\item 5\n",
       "\\item 10\n",
       "\\item 11\n",
       "\\item 17\n",
       "\\item 3\n",
       "\\item 13\n",
       "\\item 14\n",
       "\\item 7\n",
       "\\item 19\n",
       "\\end{enumerate*}\n"
      ],
      "text/markdown": [
       "1. 1\n",
       "2. 20\n",
       "3. 6\n",
       "4. 15\n",
       "5. 9\n",
       "6. 4\n",
       "7. 8\n",
       "8. 18\n",
       "9. 16\n",
       "10. 12\n",
       "11. 2\n",
       "12. 5\n",
       "13. 10\n",
       "14. 11\n",
       "15. 17\n",
       "16. 3\n",
       "17. 13\n",
       "18. 14\n",
       "19. 7\n",
       "20. 19\n",
       "\n",
       "\n"
      ],
      "text/plain": [
       "object of class ‘TOUR’ \n",
       "result of method  for 20 cities\n",
       "tour length: unknown"
      ]
     },
     "metadata": {},
     "output_type": "display_data"
    }
   ],
   "source": [
    "content<- scan(\"main.sol\")\n",
    "Rtour <- convert_sol_format(content)\n",
    "Rtour"
   ]
  },
  {
   "cell_type": "code",
   "execution_count": null,
   "metadata": {},
   "outputs": [],
   "source": []
  }
 ],
 "metadata": {
  "kernelspec": {
   "display_name": "R",
   "language": "R",
   "name": "ir"
  },
  "language_info": {
   "codemirror_mode": "r",
   "file_extension": ".r",
   "mimetype": "text/x-r-source",
   "name": "R",
   "pygments_lexer": "r",
   "version": "4.0.2"
  }
 },
 "nbformat": 4,
 "nbformat_minor": 4
}
