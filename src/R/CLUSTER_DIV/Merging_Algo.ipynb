{
 "cells": [
  {
   "cell_type": "code",
   "execution_count": 53,
   "metadata": {},
   "outputs": [],
   "source": [
    "## import library\n",
    "library(\"TSP\")\n",
    "\n",
    "\n",
    "## listing of solutions provided by concorde\n",
    "dataTSP <- read_TSPLIB(\"/home/LC/mailo01/TSP-ML-Approach/src/R/CLUSTER_DIV/main.tsp\")\n",
    "dataTSPsub1 <- read_TSPLIB(\"/home/LC/mailo01/TSP-ML-Approach/src/R/CLUSTER_DIV/branch_3_case_1.tsp\")\n",
    "dataTSPsub2 <- read_TSPLIB(\"/home/LC/mailo01/TSP-ML-Approach/src/R/CLUSTER_DIV/branch_1_case_1.tsp\")\n",
    "\n",
    "all_solutions <- scan(\"/home/LC/mailo01/TSP-ML-Approach/src/R/CLUSTER_DIV/solution_files.txt\", what=character())\n"
   ]
  },
  {
   "cell_type": "code",
   "execution_count": 39,
   "metadata": {},
   "outputs": [],
   "source": [
    "convert_sol_format <- function(content){\n",
    "    content <- content[-1]\n",
    "    for (index in 1:length(content)){\n",
    "        content[[index]] <- content[[index]] + 1\n",
    "    }\n",
    "    return(as.TOUR(as.integer(content)))\n",
    "}\n",
    "\n",
    "get_solutions <- function(){\n",
    "    all_solution_tours <- list()\n",
    "    for (file_solution in all_solutions){\n",
    "        individual_tour <- scan(file_solution_tour)\n",
    "        all_solution_tours <- append(all_solution_tours, individual_tour)\n",
    "    }\n",
    "}\n"
   ]
  },
  {
   "cell_type": "code",
   "execution_count": null,
   "metadata": {},
   "outputs": [],
   "source": []
  },
  {
   "cell_type": "code",
   "execution_count": 56,
   "metadata": {},
   "outputs": [
    {
     "data": {
      "text/html": [
       "<style>\n",
       ".list-inline {list-style: none; margin:0; padding: 0}\n",
       ".list-inline>li {display: inline-block}\n",
       ".list-inline>li:not(:last-child)::after {content: \"\\00b7\"; padding: 0 .5ex}\n",
       "</style>\n",
       "<ol class=list-inline><li>1</li><li>2</li><li>6</li><li>7</li><li>9</li><li>8</li><li>11</li><li>10</li><li>4</li><li>5</li><li>3</li></ol>\n"
      ],
      "text/latex": [
       "\\begin{enumerate*}\n",
       "\\item 1\n",
       "\\item 2\n",
       "\\item 6\n",
       "\\item 7\n",
       "\\item 9\n",
       "\\item 8\n",
       "\\item 11\n",
       "\\item 10\n",
       "\\item 4\n",
       "\\item 5\n",
       "\\item 3\n",
       "\\end{enumerate*}\n"
      ],
      "text/markdown": [
       "1. 1\n",
       "2. 2\n",
       "3. 6\n",
       "4. 7\n",
       "5. 9\n",
       "6. 8\n",
       "7. 11\n",
       "8. 10\n",
       "9. 4\n",
       "10. 5\n",
       "11. 3\n",
       "\n",
       "\n"
      ],
      "text/plain": [
       "object of class ‘TOUR’ \n",
       "result of method  for 11 cities\n",
       "tour length: unknown"
      ]
     },
     "metadata": {},
     "output_type": "display_data"
    }
   ],
   "source": [
    "\n"
   ]
  },
  {
   "cell_type": "code",
   "execution_count": 58,
   "metadata": {},
   "outputs": [
    {
     "data": {
      "text/html": [
       "<style>\n",
       ".list-inline {list-style: none; margin:0; padding: 0}\n",
       ".list-inline>li {display: inline-block}\n",
       ".list-inline>li:not(:last-child)::after {content: \"\\00b7\"; padding: 0 .5ex}\n",
       "</style>\n",
       "<ol class=list-inline><li>1</li><li>2</li><li>3</li></ol>\n"
      ],
      "text/latex": [
       "\\begin{enumerate*}\n",
       "\\item 1\n",
       "\\item 2\n",
       "\\item 3\n",
       "\\end{enumerate*}\n"
      ],
      "text/markdown": [
       "1. 1\n",
       "2. 2\n",
       "3. 3\n",
       "\n",
       "\n"
      ],
      "text/plain": [
       "object of class ‘TOUR’ \n",
       "result of method  for 3 cities\n",
       "tour length: unknown"
      ]
     },
     "metadata": {},
     "output_type": "display_data"
    }
   ],
   "source": [
    "content1 <- scan(all_solutions[[1]])\n",
    "tour_info1 <- convert_sol_format(content1)\n",
    "tour2<- as.TOUR(tour_info1)\n",
    "tour2"
   ]
  },
  {
   "cell_type": "code",
   "execution_count": 62,
   "metadata": {},
   "outputs": [
    {
     "data": {
      "image/png": "[encoded data removed]",
      "text/plain": [
       "plot without title"
      ]
     },
     "metadata": {
      "image/png": {
       "height": 420,
       "width": 420
      },
      "text/plain": {
       "height": 420,
       "width": 420
      }
     },
     "output_type": "display_data"
    },
    {
     "data": {
      "image/png": "[encoded data removed]",
      "text/plain": [
       "plot without title"
      ]
     },
     "metadata": {
      "image/png": {
       "height": 420,
       "width": 420
      },
      "text/plain": {
       "height": 420,
       "width": 420
      }
     },
     "output_type": "display_data"
    }
   ],
   "source": [
    "plot(dataTSPsub1, tour1, xlim=c(0,100), ylim=c(0,100))\n",
    "plot(dataTSPsub2, tour2, xlim=c(0,100), ylim=c(0,100))"
   ]
  },
  {
   "cell_type": "code",
   "execution_count": null,
   "metadata": {},
   "outputs": [],
   "source": []
  }
 ],
 "metadata": {
  "kernelspec": {
   "display_name": "R",
   "language": "R",
   "name": "ir"
  },
  "language_info": {
   "codemirror_mode": "r",
   "file_extension": ".r",
   "mimetype": "text/x-r-source",
   "name": "R",
   "pygments_lexer": "r",
   "version": "4.0.2"
  }
 },
 "nbformat": 4,
 "nbformat_minor": 4
}
