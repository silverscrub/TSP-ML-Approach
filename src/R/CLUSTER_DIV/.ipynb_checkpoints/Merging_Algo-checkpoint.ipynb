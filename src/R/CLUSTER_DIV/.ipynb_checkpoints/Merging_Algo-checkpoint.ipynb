{
 "cells": [
  {
   "cell_type": "code",
   "execution_count": 25,
   "metadata": {},
   "outputs": [],
   "source": [
    "## import library\n",
    "library(\"TSP\")\n",
    "\n",
    "\n",
    "## listing of solutions provided by concorde\n",
    "dataTSP <- read_TSPLIB(\"/home/LC/mailo01/TSP-ML-Approach/src/R/CLUSTER_DIV/main.tsp\")\n",
    "dataTSPsub <- read_TSPLIB(\"/home/LC/mailo01/TSP-ML-Approach/src/R/CLUSTER_DIV/branch_35_case_1.tsp\")\n",
    "all_solutions <- scan(\"/home/LC/mailo01/TSP-ML-Approach/src/R/CLUSTER_DIV/solution_files.txt\", what=character())\n"
   ]
  },
  {
   "cell_type": "code",
   "execution_count": 18,
   "metadata": {},
   "outputs": [],
   "source": [
    "convert_sol_format <- function(content){\n",
    "    content <- content[-1]\n",
    "    for (index in 1:length(content)){\n",
    "        content[[index]] <- content[[index]] + 1\n",
    "    }\n",
    "    return(as.integer(content))\n",
    "}"
   ]
  },
  {
   "cell_type": "code",
   "execution_count": 23,
   "metadata": {},
   "outputs": [
    {
     "data": {
      "text/html": [
       "'branch_35_case_1.sol'"
      ],
      "text/latex": [
       "'branch\\_35\\_case\\_1.sol'"
      ],
      "text/markdown": [
       "'branch_35_case_1.sol'"
      ],
      "text/plain": [
       "[1] \"branch_35_case_1.sol\""
      ]
     },
     "metadata": {},
     "output_type": "display_data"
    },
    {
     "data": {
      "text/html": [
       "<style>\n",
       ".list-inline {list-style: none; margin:0; padding: 0}\n",
       ".list-inline>li {display: inline-block}\n",
       ".list-inline>li:not(:last-child)::after {content: \"\\00b7\"; padding: 0 .5ex}\n",
       "</style>\n",
       "<ol class=list-inline><li>34</li><li>0</li><li>1</li><li>2</li><li>3</li><li>4</li><li>6</li><li>23</li><li>24</li><li>12</li><li>15</li><li>20</li><li>18</li><li>8</li><li>7</li><li>10</li><li>14</li><li>13</li><li>17</li><li>33</li><li>27</li><li>28</li><li>30</li><li>32</li><li>26</li><li>31</li><li>22</li><li>25</li><li>21</li><li>19</li><li>29</li><li>16</li><li>9</li><li>11</li><li>5</li></ol>\n"
      ],
      "text/latex": [
       "\\begin{enumerate*}\n",
       "\\item 34\n",
       "\\item 0\n",
       "\\item 1\n",
       "\\item 2\n",
       "\\item 3\n",
       "\\item 4\n",
       "\\item 6\n",
       "\\item 23\n",
       "\\item 24\n",
       "\\item 12\n",
       "\\item 15\n",
       "\\item 20\n",
       "\\item 18\n",
       "\\item 8\n",
       "\\item 7\n",
       "\\item 10\n",
       "\\item 14\n",
       "\\item 13\n",
       "\\item 17\n",
       "\\item 33\n",
       "\\item 27\n",
       "\\item 28\n",
       "\\item 30\n",
       "\\item 32\n",
       "\\item 26\n",
       "\\item 31\n",
       "\\item 22\n",
       "\\item 25\n",
       "\\item 21\n",
       "\\item 19\n",
       "\\item 29\n",
       "\\item 16\n",
       "\\item 9\n",
       "\\item 11\n",
       "\\item 5\n",
       "\\end{enumerate*}\n"
      ],
      "text/markdown": [
       "1. 34\n",
       "2. 0\n",
       "3. 1\n",
       "4. 2\n",
       "5. 3\n",
       "6. 4\n",
       "7. 6\n",
       "8. 23\n",
       "9. 24\n",
       "10. 12\n",
       "11. 15\n",
       "12. 20\n",
       "13. 18\n",
       "14. 8\n",
       "15. 7\n",
       "16. 10\n",
       "17. 14\n",
       "18. 13\n",
       "19. 17\n",
       "20. 33\n",
       "21. 27\n",
       "22. 28\n",
       "23. 30\n",
       "24. 32\n",
       "25. 26\n",
       "26. 31\n",
       "27. 22\n",
       "28. 25\n",
       "29. 21\n",
       "30. 19\n",
       "31. 29\n",
       "32. 16\n",
       "33. 9\n",
       "34. 11\n",
       "35. 5\n",
       "\n",
       "\n"
      ],
      "text/plain": [
       " [1] 34  0  1  2  3  4  6 23 24 12 15 20 18  8  7 10 14 13 17 33 27 28 30 32 26\n",
       "[26] 31 22 25 21 19 29 16  9 11  5"
      ]
     },
     "metadata": {},
     "output_type": "display_data"
    },
    {
     "data": {
      "text/html": [
       "<style>\n",
       ".list-inline {list-style: none; margin:0; padding: 0}\n",
       ".list-inline>li {display: inline-block}\n",
       ".list-inline>li:not(:last-child)::after {content: \"\\00b7\"; padding: 0 .5ex}\n",
       "</style>\n",
       "<ol class=list-inline><li>1</li><li>2</li><li>3</li><li>4</li><li>5</li><li>7</li><li>24</li><li>25</li><li>13</li><li>16</li><li>21</li><li>19</li><li>9</li><li>8</li><li>11</li><li>15</li><li>14</li><li>18</li><li>34</li><li>28</li><li>29</li><li>31</li><li>33</li><li>27</li><li>32</li><li>23</li><li>26</li><li>22</li><li>20</li><li>30</li><li>17</li><li>10</li><li>12</li><li>6</li></ol>\n"
      ],
      "text/latex": [
       "\\begin{enumerate*}\n",
       "\\item 1\n",
       "\\item 2\n",
       "\\item 3\n",
       "\\item 4\n",
       "\\item 5\n",
       "\\item 7\n",
       "\\item 24\n",
       "\\item 25\n",
       "\\item 13\n",
       "\\item 16\n",
       "\\item 21\n",
       "\\item 19\n",
       "\\item 9\n",
       "\\item 8\n",
       "\\item 11\n",
       "\\item 15\n",
       "\\item 14\n",
       "\\item 18\n",
       "\\item 34\n",
       "\\item 28\n",
       "\\item 29\n",
       "\\item 31\n",
       "\\item 33\n",
       "\\item 27\n",
       "\\item 32\n",
       "\\item 23\n",
       "\\item 26\n",
       "\\item 22\n",
       "\\item 20\n",
       "\\item 30\n",
       "\\item 17\n",
       "\\item 10\n",
       "\\item 12\n",
       "\\item 6\n",
       "\\end{enumerate*}\n"
      ],
      "text/markdown": [
       "1. 1\n",
       "2. 2\n",
       "3. 3\n",
       "4. 4\n",
       "5. 5\n",
       "6. 7\n",
       "7. 24\n",
       "8. 25\n",
       "9. 13\n",
       "10. 16\n",
       "11. 21\n",
       "12. 19\n",
       "13. 9\n",
       "14. 8\n",
       "15. 11\n",
       "16. 15\n",
       "17. 14\n",
       "18. 18\n",
       "19. 34\n",
       "20. 28\n",
       "21. 29\n",
       "22. 31\n",
       "23. 33\n",
       "24. 27\n",
       "25. 32\n",
       "26. 23\n",
       "27. 26\n",
       "28. 22\n",
       "29. 20\n",
       "30. 30\n",
       "31. 17\n",
       "32. 10\n",
       "33. 12\n",
       "34. 6\n",
       "\n",
       "\n"
      ],
      "text/plain": [
       " [1]  1  2  3  4  5  7 24 25 13 16 21 19  9  8 11 15 14 18 34 28 29 31 33 27 32\n",
       "[26] 23 26 22 20 30 17 10 12  6"
      ]
     },
     "metadata": {},
     "output_type": "display_data"
    }
   ],
   "source": [
    "all_solutions[[50]]\n",
    "content <- scan(all_solutions[[50]])\n",
    "\n",
    "content\n",
    "tour_info <- convert_sol_format(content)\n",
    "tour_info\n"
   ]
  },
  {
   "cell_type": "code",
   "execution_count": 20,
   "metadata": {},
   "outputs": [
    {
     "data": {
      "text/html": [
       "<style>\n",
       ".list-inline {list-style: none; margin:0; padding: 0}\n",
       ".list-inline>li {display: inline-block}\n",
       ".list-inline>li:not(:last-child)::after {content: \"\\00b7\"; padding: 0 .5ex}\n",
       "</style>\n",
       "<ol class=list-inline><li>1</li><li>2</li><li>3</li><li>4</li><li>5</li><li>7</li><li>24</li><li>25</li><li>13</li><li>16</li><li>21</li><li>19</li><li>9</li><li>8</li><li>11</li><li>15</li><li>14</li><li>18</li><li>34</li><li>28</li><li>29</li><li>31</li><li>33</li><li>27</li><li>32</li><li>23</li><li>26</li><li>22</li><li>20</li><li>30</li><li>17</li><li>10</li><li>12</li><li>6</li></ol>\n"
      ],
      "text/latex": [
       "\\begin{enumerate*}\n",
       "\\item 1\n",
       "\\item 2\n",
       "\\item 3\n",
       "\\item 4\n",
       "\\item 5\n",
       "\\item 7\n",
       "\\item 24\n",
       "\\item 25\n",
       "\\item 13\n",
       "\\item 16\n",
       "\\item 21\n",
       "\\item 19\n",
       "\\item 9\n",
       "\\item 8\n",
       "\\item 11\n",
       "\\item 15\n",
       "\\item 14\n",
       "\\item 18\n",
       "\\item 34\n",
       "\\item 28\n",
       "\\item 29\n",
       "\\item 31\n",
       "\\item 33\n",
       "\\item 27\n",
       "\\item 32\n",
       "\\item 23\n",
       "\\item 26\n",
       "\\item 22\n",
       "\\item 20\n",
       "\\item 30\n",
       "\\item 17\n",
       "\\item 10\n",
       "\\item 12\n",
       "\\item 6\n",
       "\\end{enumerate*}\n"
      ],
      "text/markdown": [
       "1. 1\n",
       "2. 2\n",
       "3. 3\n",
       "4. 4\n",
       "5. 5\n",
       "6. 7\n",
       "7. 24\n",
       "8. 25\n",
       "9. 13\n",
       "10. 16\n",
       "11. 21\n",
       "12. 19\n",
       "13. 9\n",
       "14. 8\n",
       "15. 11\n",
       "16. 15\n",
       "17. 14\n",
       "18. 18\n",
       "19. 34\n",
       "20. 28\n",
       "21. 29\n",
       "22. 31\n",
       "23. 33\n",
       "24. 27\n",
       "25. 32\n",
       "26. 23\n",
       "27. 26\n",
       "28. 22\n",
       "29. 20\n",
       "30. 30\n",
       "31. 17\n",
       "32. 10\n",
       "33. 12\n",
       "34. 6\n",
       "\n",
       "\n"
      ],
      "text/plain": [
       "object of class ‘TOUR’ \n",
       "result of method  for 34 cities\n",
       "tour length: unknown"
      ]
     },
     "metadata": {},
     "output_type": "display_data"
    }
   ],
   "source": [
    "tour <- as.TOUR(tour_info)\n",
    "tour"
   ]
  },
  {
   "cell_type": "code",
   "execution_count": 26,
   "metadata": {},
   "outputs": [
    {
     "data": {
      "image/png": "[encoded data removed]",
      "text/plain": [
       "plot without title"
      ]
     },
     "metadata": {
      "image/png": {
       "height": 420,
       "width": 420
      },
      "text/plain": {
       "height": 420,
       "width": 420
      }
     },
     "output_type": "display_data"
    }
   ],
   "source": [
    "plot(dataTSPsub, tour)"
   ]
  },
  {
   "cell_type": "code",
   "execution_count": null,
   "metadata": {},
   "outputs": [],
   "source": []
  }
 ],
 "metadata": {
  "kernelspec": {
   "display_name": "R",
   "language": "R",
   "name": "ir"
  },
  "language_info": {
   "codemirror_mode": "r",
   "file_extension": ".r",
   "mimetype": "text/x-r-source",
   "name": "R",
   "pygments_lexer": "r",
   "version": "4.0.2"
  }
 },
 "nbformat": 4,
 "nbformat_minor": 4
}
