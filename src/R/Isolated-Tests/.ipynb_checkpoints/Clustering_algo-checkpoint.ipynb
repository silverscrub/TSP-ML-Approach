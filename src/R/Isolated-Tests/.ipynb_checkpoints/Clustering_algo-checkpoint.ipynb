{
 "cells": [
  {
   "cell_type": "code",
   "execution_count": 308,
   "metadata": {},
   "outputs": [],
   "source": [
    "library(\"TSP\")\n",
    "library(\"hash\")\n",
    "library(\"sets\")\n",
    "\n",
    "dataTSP <- read_TSPLIB(\"/home/LC/mailo01/TSP-ML-Approach/src/R/CLUSTER_DIV/main.tsp\")\n",
    "\n",
    "\n",
    "pointSet <- hash()\n",
    "noPts <- length(dataTSP)/2\n",
    "for (i in 1:noPts){\n",
    "    pointSet[[toString(i)]] <- tuple(dataTSP[i], dataTSP[i+noPts])\n",
    "}\n",
    "\n",
    "dist_pts <- function(pt1,pt2){\n",
    "        return(sqrt((pt1[[1]]-pt2[[1]])^2 + (pt1[[2]]-pt2[[2]])^2))\n",
    "}\n"
   ]
  },
  {
   "cell_type": "code",
   "execution_count": 366,
   "metadata": {},
   "outputs": [],
   "source": [
    "radius <-13\n",
    "current_tree<- list()\n",
    "checklist <-(c(1:noPts))\n",
    "while (length(checklist) != 0){\n",
    "\n",
    "    branch <- list()\n",
    "    \n",
    "    old_branch_len<- length(branch)\n",
    "    \n",
    "    print(\"initial branch length\")\n",
    "    print(old_branch_len)\n",
    "\n",
    "    startPt = checklist[1]\n",
    "    branch<-append(branch, startPt)\n",
    "\n",
    "    print(\"initial branch length\")\n",
    "    print(old_branch_len)\n",
    "    print(\"current branch length\")\n",
    "    print(length(branch))\n",
    "\n",
    "    counter =1\n",
    "\n",
    "    while(old_branch_len != length(branch)){\n",
    "        print(\"iteration\")\n",
    "        print(counter)\n",
    "\n",
    "        current_branch_len <- length(branch)\n",
    "        print(\"old branch length\")\n",
    "        print(old_branch_len)\n",
    "        print(\"current_branch_len is: \")\n",
    "        print(current_branch_len)\n",
    "        print(\"current pts on branch to connect: \")\n",
    "        pts_to_connect <- c(branch[old_branch_len+1:current_branch_len])\n",
    "\n",
    "        print(\"points to continue carrying out comparisons\")\n",
    "        print(pts_to_connect)\n",
    "\n",
    "        checklist <-checklist[!checklist %in% pts_to_connect]\n",
    "\n",
    "        print(\"remove pts to connect from checklist. Current state of checklist\")\n",
    "        print(checklist)\n",
    "\n",
    "        print(\"updating the number of vertices in branch. Length:\")\n",
    "\n",
    "        old_branch_len= current_branch_len\n",
    "\n",
    "        print(old_branch_len)\n",
    "\n",
    "        print(\"attempt to connect all points in branch to different points\")\n",
    "\n",
    "        for (connect_pt in pts_to_connect){\n",
    "            print(\"enter loop lvl 1. Gather pivot point to connect\")\n",
    "            print(connect_pt)\n",
    "            print(values(pointSet,keys=connect_pt))\n",
    "\n",
    "            for (comparePt in checklist){\n",
    "                print(\"enter loop lvl 2. Gather compare point to connect\")\n",
    "                print(comparePt)\n",
    "                print(values(pointSet,keys=comparePt))\n",
    "\n",
    "                if (!comparePt %in%branch){\n",
    "                    vPt1 <-values(pointSet, keys=connect_pt) \n",
    "                    vPt2 <-values(pointSet, keys=comparePt) \n",
    "\n",
    "                    print(\"distance between connect and compare points\")\n",
    "                    print(dist_pts(vPt1,vPt2))\n",
    "\n",
    "                    if (dist_pts(vPt1,vPt2) <= 2*radius){\n",
    "                        print(\"compare point within range of pivot point. Added to branch\")\n",
    "\n",
    "                        branch<-append(branch,comparePt)\n",
    "\n",
    "                        print(\"current state of branch\")\n",
    "                        print(branch)\n",
    "                    } else {print(\"point out of range\")}\n",
    "                } else{\n",
    "                    print(\"point already in branch. Move on\")\n",
    "                    print(\"current state of branch\")\n",
    "                    print(branch)}\n",
    "            }\n",
    "        }\n",
    "        counter <- counter +1\n",
    "        \n",
    "    }\n",
    "    print(\"hello\")\n",
    "    current_tree <- append(current_tree, list(branch))\n",
    "}\n"
   ]
  },
  {
   "cell_type": "code",
   "execution_count": 364,
   "metadata": {},
   "outputs": [
    {
     "data": {
      "text/html": [
       "<ol>\n",
       "\t<li><ol>\n",
       "\t<li>1</li>\n",
       "\t<li>11</li>\n",
       "\t<li>13</li>\n",
       "\t<li>14</li>\n",
       "\t<li>20</li>\n",
       "\t<li>30</li>\n",
       "\t<li>5</li>\n",
       "\t<li>6</li>\n",
       "\t<li>17</li>\n",
       "\t<li>18</li>\n",
       "\t<li>25</li>\n",
       "\t<li>4</li>\n",
       "\t<li>29</li>\n",
       "\t<li>22</li>\n",
       "\t<li>24</li>\n",
       "\t<li>8</li>\n",
       "\t<li>3</li>\n",
       "\t<li>12</li>\n",
       "\t<li>28</li>\n",
       "\t<li>23</li>\n",
       "</ol>\n",
       "</li>\n",
       "</ol>\n"
      ],
      "text/latex": [
       "\\begin{enumerate}\n",
       "\\item \\begin{enumerate}\n",
       "\\item 1\n",
       "\\item 11\n",
       "\\item 13\n",
       "\\item 14\n",
       "\\item 20\n",
       "\\item 30\n",
       "\\item 5\n",
       "\\item 6\n",
       "\\item 17\n",
       "\\item 18\n",
       "\\item 25\n",
       "\\item 4\n",
       "\\item 29\n",
       "\\item 22\n",
       "\\item 24\n",
       "\\item 8\n",
       "\\item 3\n",
       "\\item 12\n",
       "\\item 28\n",
       "\\item 23\n",
       "\\end{enumerate}\n",
       "\n",
       "\\end{enumerate}\n"
      ],
      "text/markdown": [
       "1. 1. 1\n",
       "2. 11\n",
       "3. 13\n",
       "4. 14\n",
       "5. 20\n",
       "6. 30\n",
       "7. 5\n",
       "8. 6\n",
       "9. 17\n",
       "10. 18\n",
       "11. 25\n",
       "12. 4\n",
       "13. 29\n",
       "14. 22\n",
       "15. 24\n",
       "16. 8\n",
       "17. 3\n",
       "18. 12\n",
       "19. 28\n",
       "20. 23\n",
       "\n",
       "\n",
       "\n",
       "\n",
       "\n"
      ],
      "text/plain": [
       "[[1]]\n",
       "[[1]][[1]]\n",
       "[1] 1\n",
       "\n",
       "[[1]][[2]]\n",
       "[1] 11\n",
       "\n",
       "[[1]][[3]]\n",
       "[1] 13\n",
       "\n",
       "[[1]][[4]]\n",
       "[1] 14\n",
       "\n",
       "[[1]][[5]]\n",
       "[1] 20\n",
       "\n",
       "[[1]][[6]]\n",
       "[1] 30\n",
       "\n",
       "[[1]][[7]]\n",
       "[1] 5\n",
       "\n",
       "[[1]][[8]]\n",
       "[1] 6\n",
       "\n",
       "[[1]][[9]]\n",
       "[1] 17\n",
       "\n",
       "[[1]][[10]]\n",
       "[1] 18\n",
       "\n",
       "[[1]][[11]]\n",
       "[1] 25\n",
       "\n",
       "[[1]][[12]]\n",
       "[1] 4\n",
       "\n",
       "[[1]][[13]]\n",
       "[1] 29\n",
       "\n",
       "[[1]][[14]]\n",
       "[1] 22\n",
       "\n",
       "[[1]][[15]]\n",
       "[1] 24\n",
       "\n",
       "[[1]][[16]]\n",
       "[1] 8\n",
       "\n",
       "[[1]][[17]]\n",
       "[1] 3\n",
       "\n",
       "[[1]][[18]]\n",
       "[1] 12\n",
       "\n",
       "[[1]][[19]]\n",
       "[1] 28\n",
       "\n",
       "[[1]][[20]]\n",
       "[1] 23\n",
       "\n"
      ]
     },
     "metadata": {},
     "output_type": "display_data"
    }
   ],
   "source": [
    "current_tree"
   ]
  },
  {
   "cell_type": "code",
   "execution_count": 365,
   "metadata": {},
   "outputs": [
    {
     "data": {
      "text/html": [
       "<ol>\n",
       "\t<li>1</li>\n",
       "\t<li>11</li>\n",
       "\t<li>13</li>\n",
       "\t<li>14</li>\n",
       "\t<li>20</li>\n",
       "\t<li>30</li>\n",
       "\t<li>5</li>\n",
       "\t<li>6</li>\n",
       "\t<li>17</li>\n",
       "\t<li>18</li>\n",
       "\t<li>25</li>\n",
       "\t<li>4</li>\n",
       "\t<li>29</li>\n",
       "\t<li>22</li>\n",
       "\t<li>24</li>\n",
       "\t<li>8</li>\n",
       "\t<li>3</li>\n",
       "\t<li>12</li>\n",
       "\t<li>28</li>\n",
       "\t<li>23</li>\n",
       "</ol>\n"
      ],
      "text/latex": [
       "\\begin{enumerate}\n",
       "\\item 1\n",
       "\\item 11\n",
       "\\item 13\n",
       "\\item 14\n",
       "\\item 20\n",
       "\\item 30\n",
       "\\item 5\n",
       "\\item 6\n",
       "\\item 17\n",
       "\\item 18\n",
       "\\item 25\n",
       "\\item 4\n",
       "\\item 29\n",
       "\\item 22\n",
       "\\item 24\n",
       "\\item 8\n",
       "\\item 3\n",
       "\\item 12\n",
       "\\item 28\n",
       "\\item 23\n",
       "\\end{enumerate}\n"
      ],
      "text/markdown": [
       "1. 1\n",
       "2. 11\n",
       "3. 13\n",
       "4. 14\n",
       "5. 20\n",
       "6. 30\n",
       "7. 5\n",
       "8. 6\n",
       "9. 17\n",
       "10. 18\n",
       "11. 25\n",
       "12. 4\n",
       "13. 29\n",
       "14. 22\n",
       "15. 24\n",
       "16. 8\n",
       "17. 3\n",
       "18. 12\n",
       "19. 28\n",
       "20. 23\n",
       "\n",
       "\n"
      ],
      "text/plain": [
       "[[1]]\n",
       "[1] 1\n",
       "\n",
       "[[2]]\n",
       "[1] 11\n",
       "\n",
       "[[3]]\n",
       "[1] 13\n",
       "\n",
       "[[4]]\n",
       "[1] 14\n",
       "\n",
       "[[5]]\n",
       "[1] 20\n",
       "\n",
       "[[6]]\n",
       "[1] 30\n",
       "\n",
       "[[7]]\n",
       "[1] 5\n",
       "\n",
       "[[8]]\n",
       "[1] 6\n",
       "\n",
       "[[9]]\n",
       "[1] 17\n",
       "\n",
       "[[10]]\n",
       "[1] 18\n",
       "\n",
       "[[11]]\n",
       "[1] 25\n",
       "\n",
       "[[12]]\n",
       "[1] 4\n",
       "\n",
       "[[13]]\n",
       "[1] 29\n",
       "\n",
       "[[14]]\n",
       "[1] 22\n",
       "\n",
       "[[15]]\n",
       "[1] 24\n",
       "\n",
       "[[16]]\n",
       "[1] 8\n",
       "\n",
       "[[17]]\n",
       "[1] 3\n",
       "\n",
       "[[18]]\n",
       "[1] 12\n",
       "\n",
       "[[19]]\n",
       "[1] 28\n",
       "\n",
       "[[20]]\n",
       "[1] 23\n"
      ]
     },
     "metadata": {},
     "output_type": "display_data"
    }
   ],
   "source": [
    "branch"
   ]
  },
  {
   "cell_type": "code",
   "execution_count": 360,
   "metadata": {},
   "outputs": [
    {
     "data": {
      "text/html": [
       "<ol>\n",
       "\t<li><ol>\n",
       "\t<li>1</li>\n",
       "\t<li>11</li>\n",
       "\t<li>13</li>\n",
       "\t<li>14</li>\n",
       "\t<li>20</li>\n",
       "\t<li>30</li>\n",
       "\t<li>5</li>\n",
       "\t<li>6</li>\n",
       "\t<li>17</li>\n",
       "\t<li>18</li>\n",
       "\t<li>25</li>\n",
       "\t<li>4</li>\n",
       "\t<li>29</li>\n",
       "\t<li>22</li>\n",
       "\t<li>24</li>\n",
       "\t<li>8</li>\n",
       "\t<li>3</li>\n",
       "\t<li>12</li>\n",
       "\t<li>28</li>\n",
       "\t<li>23</li>\n",
       "</ol>\n",
       "</li>\n",
       "</ol>\n"
      ],
      "text/latex": [
       "\\begin{enumerate}\n",
       "\\item \\begin{enumerate}\n",
       "\\item 1\n",
       "\\item 11\n",
       "\\item 13\n",
       "\\item 14\n",
       "\\item 20\n",
       "\\item 30\n",
       "\\item 5\n",
       "\\item 6\n",
       "\\item 17\n",
       "\\item 18\n",
       "\\item 25\n",
       "\\item 4\n",
       "\\item 29\n",
       "\\item 22\n",
       "\\item 24\n",
       "\\item 8\n",
       "\\item 3\n",
       "\\item 12\n",
       "\\item 28\n",
       "\\item 23\n",
       "\\end{enumerate}\n",
       "\n",
       "\\end{enumerate}\n"
      ],
      "text/markdown": [
       "1. 1. 1\n",
       "2. 11\n",
       "3. 13\n",
       "4. 14\n",
       "5. 20\n",
       "6. 30\n",
       "7. 5\n",
       "8. 6\n",
       "9. 17\n",
       "10. 18\n",
       "11. 25\n",
       "12. 4\n",
       "13. 29\n",
       "14. 22\n",
       "15. 24\n",
       "16. 8\n",
       "17. 3\n",
       "18. 12\n",
       "19. 28\n",
       "20. 23\n",
       "\n",
       "\n",
       "\n",
       "\n",
       "\n"
      ],
      "text/plain": [
       "[[1]]\n",
       "[[1]][[1]]\n",
       "[1] 1\n",
       "\n",
       "[[1]][[2]]\n",
       "[1] 11\n",
       "\n",
       "[[1]][[3]]\n",
       "[1] 13\n",
       "\n",
       "[[1]][[4]]\n",
       "[1] 14\n",
       "\n",
       "[[1]][[5]]\n",
       "[1] 20\n",
       "\n",
       "[[1]][[6]]\n",
       "[1] 30\n",
       "\n",
       "[[1]][[7]]\n",
       "[1] 5\n",
       "\n",
       "[[1]][[8]]\n",
       "[1] 6\n",
       "\n",
       "[[1]][[9]]\n",
       "[1] 17\n",
       "\n",
       "[[1]][[10]]\n",
       "[1] 18\n",
       "\n",
       "[[1]][[11]]\n",
       "[1] 25\n",
       "\n",
       "[[1]][[12]]\n",
       "[1] 4\n",
       "\n",
       "[[1]][[13]]\n",
       "[1] 29\n",
       "\n",
       "[[1]][[14]]\n",
       "[1] 22\n",
       "\n",
       "[[1]][[15]]\n",
       "[1] 24\n",
       "\n",
       "[[1]][[16]]\n",
       "[1] 8\n",
       "\n",
       "[[1]][[17]]\n",
       "[1] 3\n",
       "\n",
       "[[1]][[18]]\n",
       "[1] 12\n",
       "\n",
       "[[1]][[19]]\n",
       "[1] 28\n",
       "\n",
       "[[1]][[20]]\n",
       "[1] 23\n",
       "\n"
      ]
     },
     "metadata": {},
     "output_type": "display_data"
    },
    {
     "data": {
      "text/html": [
       "<ol>\n",
       "</ol>\n"
      ],
      "text/latex": [
       "\\begin{enumerate}\n",
       "\\end{enumerate}\n"
      ],
      "text/markdown": [
       "\n",
       "\n"
      ],
      "text/plain": [
       "list()"
      ]
     },
     "metadata": {},
     "output_type": "display_data"
    }
   ],
   "source": [
    "append(current_tree, list(branch))\n",
    "current_tree"
   ]
  },
  {
   "cell_type": "code",
   "execution_count": 349,
   "metadata": {},
   "outputs": [
    {
     "data": {
      "image/png": "[encoded data removed]",
      "text/plain": [
       "plot without title"
      ]
     },
     "metadata": {
      "image/png": {
       "height": 420,
       "width": 420
      },
      "text/plain": {
       "height": 420,
       "width": 420
      }
     },
     "output_type": "display_data"
    }
   ],
   "source": [
    "\n",
    "plot(dataTSP,)\n",
    "symbols(dataTSP,circles=rep(radius,30), add=T, inches=F)\n",
    "\n",
    "\n",
    "for (num in branch){\n",
    "    pt <- values(pointSet, keys =num)\n",
    "    points(pt[1],pt[2], col='red')\n",
    "}\n",
    "\n",
    "manual <- 26\n",
    "checkpt <- values(pointSet, keys =toString(manual))\n",
    "\n",
    "points(checkpt[1],checkpt[2], col='blue')\n"
   ]
  },
  {
   "cell_type": "code",
   "execution_count": null,
   "metadata": {},
   "outputs": [],
   "source": []
  },
  {
   "cell_type": "code",
   "execution_count": null,
   "metadata": {},
   "outputs": [],
   "source": []
  },
  {
   "cell_type": "code",
   "execution_count": 315,
   "metadata": {},
   "outputs": [
    {
     "data": {
      "text/html": [
       "<style>\n",
       ".list-inline {list-style: none; margin:0; padding: 0}\n",
       ".list-inline>li {display: inline-block}\n",
       ".list-inline>li:not(:last-child)::after {content: \"\\00b7\"; padding: 0 .5ex}\n",
       "</style>\n",
       "<ol class=list-inline><li>2</li><li>7</li><li>9</li><li>10</li><li>15</li><li>16</li><li>19</li><li>21</li><li>26</li><li>27</li></ol>\n"
      ],
      "text/latex": [
       "\\begin{enumerate*}\n",
       "\\item 2\n",
       "\\item 7\n",
       "\\item 9\n",
       "\\item 10\n",
       "\\item 15\n",
       "\\item 16\n",
       "\\item 19\n",
       "\\item 21\n",
       "\\item 26\n",
       "\\item 27\n",
       "\\end{enumerate*}\n"
      ],
      "text/markdown": [
       "1. 2\n",
       "2. 7\n",
       "3. 9\n",
       "4. 10\n",
       "5. 15\n",
       "6. 16\n",
       "7. 19\n",
       "8. 21\n",
       "9. 26\n",
       "10. 27\n",
       "\n",
       "\n"
      ],
      "text/plain": [
       " [1]  2  7  9 10 15 16 19 21 26 27"
      ]
     },
     "metadata": {},
     "output_type": "display_data"
    }
   ],
   "source": [
    "checklist"
   ]
  },
  {
   "cell_type": "code",
   "execution_count": 274,
   "metadata": {},
   "outputs": [
    {
     "data": {
      "text/html": [
       "<table>\n",
       "<caption>A ETSP: 30 × 2 of type dbl</caption>\n",
       "<tbody>\n",
       "\t<tr><th scope=row>1</th><td> 7.495542</td><td>53.3850000</td></tr>\n",
       "\t<tr><th scope=row>2</th><td>93.852500</td><td>99.5927400</td></tr>\n",
       "\t<tr><th scope=row>3</th><td>66.114740</td><td> 1.0392910</td></tr>\n",
       "\t<tr><th scope=row>4</th><td>61.138550</td><td>67.0749000</td></tr>\n",
       "\t<tr><th scope=row>5</th><td>48.869040</td><td>62.2131800</td></tr>\n",
       "\t<tr><th scope=row>6</th><td>33.839880</td><td>83.5247400</td></tr>\n",
       "\t<tr><th scope=row>7</th><td>98.170110</td><td>88.5021400</td></tr>\n",
       "\t<tr><th scope=row>8</th><td>64.149250</td><td>20.8688400</td></tr>\n",
       "\t<tr><th scope=row>9</th><td>11.798100</td><td> 0.9854983</td></tr>\n",
       "\t<tr><th scope=row>10</th><td>98.497790</td><td>67.8302300</td></tr>\n",
       "\t<tr><th scope=row>11</th><td> 7.302435</td><td>55.2005200</td></tr>\n",
       "\t<tr><th scope=row>12</th><td>76.438090</td><td>19.1216700</td></tr>\n",
       "\t<tr><th scope=row>13</th><td>30.065830</td><td>59.9675000</td></tr>\n",
       "\t<tr><th scope=row>14</th><td> 7.411291</td><td>60.8010900</td></tr>\n",
       "\t<tr><th scope=row>15</th><td> 4.072589</td><td>18.8305800</td></tr>\n",
       "\t<tr><th scope=row>16</th><td>95.090930</td><td>84.0083900</td></tr>\n",
       "\t<tr><th scope=row>17</th><td>30.970450</td><td>41.3292000</td></tr>\n",
       "\t<tr><th scope=row>18</th><td>33.700790</td><td>39.8333900</td></tr>\n",
       "\t<tr><th scope=row>19</th><td>15.807060</td><td> 6.1926430</td></tr>\n",
       "\t<tr><th scope=row>20</th><td>26.672320</td><td>47.3671500</td></tr>\n",
       "\t<tr><th scope=row>21</th><td> 8.325846</td><td>12.6585100</td></tr>\n",
       "\t<tr><th scope=row>22</th><td>32.623070</td><td>98.8403100</td></tr>\n",
       "\t<tr><th scope=row>23</th><td>96.209050</td><td> 3.0996480</td></tr>\n",
       "\t<tr><th scope=row>24</th><td>49.521150</td><td>33.8195200</td></tr>\n",
       "\t<tr><th scope=row>25</th><td>48.353390</td><td>35.8319300</td></tr>\n",
       "\t<tr><th scope=row>26</th><td>99.108380</td><td>51.7436600</td></tr>\n",
       "\t<tr><th scope=row>27</th><td>29.029340</td><td> 2.6701990</td></tr>\n",
       "\t<tr><th scope=row>28</th><td>88.449500</td><td>14.9244500</td></tr>\n",
       "\t<tr><th scope=row>29</th><td>63.163900</td><td>69.5408800</td></tr>\n",
       "\t<tr><th scope=row>30</th><td> 5.561229</td><td>58.5403000</td></tr>\n",
       "</tbody>\n",
       "</table>\n"
      ],
      "text/latex": [
       "A ETSP: 30 × 2 of type dbl\n",
       "\\begin{tabular}{r|ll}\n",
       "\t1 &  7.495542 & 53.3850000\\\\\n",
       "\t2 & 93.852500 & 99.5927400\\\\\n",
       "\t3 & 66.114740 &  1.0392910\\\\\n",
       "\t4 & 61.138550 & 67.0749000\\\\\n",
       "\t5 & 48.869040 & 62.2131800\\\\\n",
       "\t6 & 33.839880 & 83.5247400\\\\\n",
       "\t7 & 98.170110 & 88.5021400\\\\\n",
       "\t8 & 64.149250 & 20.8688400\\\\\n",
       "\t9 & 11.798100 &  0.9854983\\\\\n",
       "\t10 & 98.497790 & 67.8302300\\\\\n",
       "\t11 &  7.302435 & 55.2005200\\\\\n",
       "\t12 & 76.438090 & 19.1216700\\\\\n",
       "\t13 & 30.065830 & 59.9675000\\\\\n",
       "\t14 &  7.411291 & 60.8010900\\\\\n",
       "\t15 &  4.072589 & 18.8305800\\\\\n",
       "\t16 & 95.090930 & 84.0083900\\\\\n",
       "\t17 & 30.970450 & 41.3292000\\\\\n",
       "\t18 & 33.700790 & 39.8333900\\\\\n",
       "\t19 & 15.807060 &  6.1926430\\\\\n",
       "\t20 & 26.672320 & 47.3671500\\\\\n",
       "\t21 &  8.325846 & 12.6585100\\\\\n",
       "\t22 & 32.623070 & 98.8403100\\\\\n",
       "\t23 & 96.209050 &  3.0996480\\\\\n",
       "\t24 & 49.521150 & 33.8195200\\\\\n",
       "\t25 & 48.353390 & 35.8319300\\\\\n",
       "\t26 & 99.108380 & 51.7436600\\\\\n",
       "\t27 & 29.029340 &  2.6701990\\\\\n",
       "\t28 & 88.449500 & 14.9244500\\\\\n",
       "\t29 & 63.163900 & 69.5408800\\\\\n",
       "\t30 &  5.561229 & 58.5403000\\\\\n",
       "\\end{tabular}\n"
      ],
      "text/markdown": [
       "\n",
       "A ETSP: 30 × 2 of type dbl\n",
       "\n",
       "| 1 |  7.495542 | 53.3850000 |\n",
       "| 2 | 93.852500 | 99.5927400 |\n",
       "| 3 | 66.114740 |  1.0392910 |\n",
       "| 4 | 61.138550 | 67.0749000 |\n",
       "| 5 | 48.869040 | 62.2131800 |\n",
       "| 6 | 33.839880 | 83.5247400 |\n",
       "| 7 | 98.170110 | 88.5021400 |\n",
       "| 8 | 64.149250 | 20.8688400 |\n",
       "| 9 | 11.798100 |  0.9854983 |\n",
       "| 10 | 98.497790 | 67.8302300 |\n",
       "| 11 |  7.302435 | 55.2005200 |\n",
       "| 12 | 76.438090 | 19.1216700 |\n",
       "| 13 | 30.065830 | 59.9675000 |\n",
       "| 14 |  7.411291 | 60.8010900 |\n",
       "| 15 |  4.072589 | 18.8305800 |\n",
       "| 16 | 95.090930 | 84.0083900 |\n",
       "| 17 | 30.970450 | 41.3292000 |\n",
       "| 18 | 33.700790 | 39.8333900 |\n",
       "| 19 | 15.807060 |  6.1926430 |\n",
       "| 20 | 26.672320 | 47.3671500 |\n",
       "| 21 |  8.325846 | 12.6585100 |\n",
       "| 22 | 32.623070 | 98.8403100 |\n",
       "| 23 | 96.209050 |  3.0996480 |\n",
       "| 24 | 49.521150 | 33.8195200 |\n",
       "| 25 | 48.353390 | 35.8319300 |\n",
       "| 26 | 99.108380 | 51.7436600 |\n",
       "| 27 | 29.029340 |  2.6701990 |\n",
       "| 28 | 88.449500 | 14.9244500 |\n",
       "| 29 | 63.163900 | 69.5408800 |\n",
       "| 30 |  5.561229 | 58.5403000 |\n",
       "\n"
      ],
      "text/plain": [
       "   [,1]      [,2]      \n",
       "1   7.495542 53.3850000\n",
       "2  93.852500 99.5927400\n",
       "3  66.114740  1.0392910\n",
       "4  61.138550 67.0749000\n",
       "5  48.869040 62.2131800\n",
       "6  33.839880 83.5247400\n",
       "7  98.170110 88.5021400\n",
       "8  64.149250 20.8688400\n",
       "9  11.798100  0.9854983\n",
       "10 98.497790 67.8302300\n",
       "11  7.302435 55.2005200\n",
       "12 76.438090 19.1216700\n",
       "13 30.065830 59.9675000\n",
       "14  7.411291 60.8010900\n",
       "15  4.072589 18.8305800\n",
       "16 95.090930 84.0083900\n",
       "17 30.970450 41.3292000\n",
       "18 33.700790 39.8333900\n",
       "19 15.807060  6.1926430\n",
       "20 26.672320 47.3671500\n",
       "21  8.325846 12.6585100\n",
       "22 32.623070 98.8403100\n",
       "23 96.209050  3.0996480\n",
       "24 49.521150 33.8195200\n",
       "25 48.353390 35.8319300\n",
       "26 99.108380 51.7436600\n",
       "27 29.029340  2.6701990\n",
       "28 88.449500 14.9244500\n",
       "29 63.163900 69.5408800\n",
       "30  5.561229 58.5403000"
      ]
     },
     "metadata": {},
     "output_type": "display_data"
    },
    {
     "data": {
      "text/plain": [
       "<hash> containing 30 key-value pair(s).\n",
       "  1 : (7.495542, 53.385)\n",
       "  10 : (98.49779, 67.83023)\n",
       "  11 : (7.302435, 55.20052)\n",
       "  12 : (76.43809, 19.12167)\n",
       "  13 : (30.06583, 59.9675)\n",
       "  14 : (7.411291, 60.80109)\n",
       "  15 : (4.072589, 18.83058)\n",
       "  16 : (95.09093, 84.00839)\n",
       "  17 : (30.97045, 41.3292)\n",
       "  18 : (33.70079, 39.83339)\n",
       "  19 : (15.80706, 6.192643)\n",
       "  2 : (93.8525, 99.59274)\n",
       "  20 : (26.67232, 47.36715)\n",
       "  21 : (8.325846, 12.65851)\n",
       "  22 : (32.62307, 98.84031)\n",
       "  23 : (96.20905, 3.099648)\n",
       "  24 : (49.52115, 33.81952)\n",
       "  25 : (48.35339, 35.83193)\n",
       "  26 : (99.10838, 51.74366)\n",
       "  27 : (29.02934, 2.670199)\n",
       "  28 : (88.4495, 14.92445)\n",
       "  29 : (63.1639, 69.54088)\n",
       "  3 : (66.11474, 1.039291)\n",
       "  30 : (5.561229, 58.5403)\n",
       "  4 : (61.13855, 67.0749)\n",
       "  5 : (48.86904, 62.21318)\n",
       "  6 : (33.83988, 83.52474)\n",
       "  7 : (98.17011, 88.50214)\n",
       "  8 : (64.14925, 20.86884)\n",
       "  9 : (11.7981, 0.9854983)"
      ]
     },
     "metadata": {},
     "output_type": "display_data"
    }
   ],
   "source": [
    "dataTSP\n",
    "points"
   ]
  },
  {
   "cell_type": "code",
   "execution_count": 94,
   "metadata": {},
   "outputs": [],
   "source": [
    "## default radius, dynamic radius finding will be implemented later\n",
    "radius <- 10\n",
    "current_tree <-list()\n",
    "checklist <- c(1:noPts)\n",
    "branch <- list()\n",
    "old_branch_len<-length(branch)\n",
    "startPt <- 1\n",
    "append(branch, startPt)\n",
    "while (old_branch_len){\n",
    "        \n",
    "        for (comparePt in checklist){            \n",
    "                vPt1 <-values(points, keys=index) \n",
    "                vPt2 <-values(points, keys=comparePt) \n",
    "\n",
    "                if (dist_pts(vPt1,vPt2) <= 2*radius){\n",
    "                    checklist <- checklist[-comparePt] \n",
    "                    append(branch, comparePt)\n",
    "                } \n",
    "              \n",
    "        }\n",
    "        \n",
    "        append(current_tree, list(branch))\n",
    "        \n",
    "        while (checklist[[index]] == 0){\n",
    "            index <- index + 1\n",
    "        }\n",
    "\n",
    "}"
   ]
  },
  {
   "cell_type": "code",
   "execution_count": 19,
   "metadata": {},
   "outputs": [
    {
     "data": {
      "text/html": [
       "131.818959394016"
      ],
      "text/latex": [
       "131.818959394016"
      ],
      "text/markdown": [
       "131.818959394016"
      ],
      "text/plain": [
       "[1] 131.819"
      ]
     },
     "metadata": {},
     "output_type": "display_data"
    }
   ],
   "source": [
    "vPt1 <-values(points, keys=1) \n",
    "vPt2 <-values(points, keys=2) \n",
    "dist_pts(vPt1,vPt2)"
   ]
  },
  {
   "cell_type": "code",
   "execution_count": 37,
   "metadata": {},
   "outputs": [
    {
     "data": {
      "text/html": [
       "<ol>\n",
       "</ol>\n"
      ],
      "text/latex": [
       "\\begin{enumerate}\n",
       "\\end{enumerate}\n"
      ],
      "text/markdown": [
       "\n",
       "\n"
      ],
      "text/plain": [
       "list()"
      ]
     },
     "metadata": {},
     "output_type": "display_data"
    }
   ],
   "source": [
    "branch<-list()\n",
    "branch"
   ]
  },
  {
   "cell_type": "code",
   "execution_count": 40,
   "metadata": {},
   "outputs": [],
   "source": [
    "branch <- append(branch,10)"
   ]
  },
  {
   "cell_type": "code",
   "execution_count": 41,
   "metadata": {},
   "outputs": [
    {
     "data": {
      "text/html": [
       "<ol>\n",
       "\t<li>2</li>\n",
       "\t<li>4</li>\n",
       "\t<li>10</li>\n",
       "</ol>\n"
      ],
      "text/latex": [
       "\\begin{enumerate}\n",
       "\\item 2\n",
       "\\item 4\n",
       "\\item 10\n",
       "\\end{enumerate}\n"
      ],
      "text/markdown": [
       "1. 2\n",
       "2. 4\n",
       "3. 10\n",
       "\n",
       "\n"
      ],
      "text/plain": [
       "[[1]]\n",
       "[1] 2\n",
       "\n",
       "[[2]]\n",
       "[1] 4\n",
       "\n",
       "[[3]]\n",
       "[1] 10\n"
      ]
     },
     "metadata": {},
     "output_type": "display_data"
    }
   ],
   "source": [
    "branch"
   ]
  },
  {
   "cell_type": "code",
   "execution_count": 48,
   "metadata": {},
   "outputs": [
    {
     "data": {
      "text/html": [
       "<style>\n",
       ".list-inline {list-style: none; margin:0; padding: 0}\n",
       ".list-inline>li {display: inline-block}\n",
       ".list-inline>li:not(:last-child)::after {content: \"\\00b7\"; padding: 0 .5ex}\n",
       "</style>\n",
       "<ol class=list-inline><li>1</li><li>2</li><li>3</li><li>4</li><li>5</li><li>6</li><li>7</li><li>8</li><li>0</li><li>10</li><li>11</li><li>12</li><li>13</li><li>14</li><li>15</li><li>16</li><li>17</li><li>18</li><li>19</li><li>20</li><li>21</li><li>22</li><li>23</li><li>24</li><li>25</li><li>26</li><li>27</li><li>28</li><li>29</li><li>30</li></ol>\n"
      ],
      "text/latex": [
       "\\begin{enumerate*}\n",
       "\\item 1\n",
       "\\item 2\n",
       "\\item 3\n",
       "\\item 4\n",
       "\\item 5\n",
       "\\item 6\n",
       "\\item 7\n",
       "\\item 8\n",
       "\\item 0\n",
       "\\item 10\n",
       "\\item 11\n",
       "\\item 12\n",
       "\\item 13\n",
       "\\item 14\n",
       "\\item 15\n",
       "\\item 16\n",
       "\\item 17\n",
       "\\item 18\n",
       "\\item 19\n",
       "\\item 20\n",
       "\\item 21\n",
       "\\item 22\n",
       "\\item 23\n",
       "\\item 24\n",
       "\\item 25\n",
       "\\item 26\n",
       "\\item 27\n",
       "\\item 28\n",
       "\\item 29\n",
       "\\item 30\n",
       "\\end{enumerate*}\n"
      ],
      "text/markdown": [
       "1. 1\n",
       "2. 2\n",
       "3. 3\n",
       "4. 4\n",
       "5. 5\n",
       "6. 6\n",
       "7. 7\n",
       "8. 8\n",
       "9. 0\n",
       "10. 10\n",
       "11. 11\n",
       "12. 12\n",
       "13. 13\n",
       "14. 14\n",
       "15. 15\n",
       "16. 16\n",
       "17. 17\n",
       "18. 18\n",
       "19. 19\n",
       "20. 20\n",
       "21. 21\n",
       "22. 22\n",
       "23. 23\n",
       "24. 24\n",
       "25. 25\n",
       "26. 26\n",
       "27. 27\n",
       "28. 28\n",
       "29. 29\n",
       "30. 30\n",
       "\n",
       "\n"
      ],
      "text/plain": [
       " [1]  1  2  3  4  5  6  7  8  0 10 11 12 13 14 15 16 17 18 19 20 21 22 23 24 25\n",
       "[26] 26 27 28 29 30"
      ]
     },
     "metadata": {},
     "output_type": "display_data"
    }
   ],
   "source": [
    "checklist"
   ]
  },
  {
   "cell_type": "code",
   "execution_count": 87,
   "metadata": {},
   "outputs": [
    {
     "data": {
      "text/html": [
       "<style>\n",
       ".list-inline {list-style: none; margin:0; padding: 0}\n",
       ".list-inline>li {display: inline-block}\n",
       ".list-inline>li:not(:last-child)::after {content: \"\\00b7\"; padding: 0 .5ex}\n",
       "</style>\n",
       "<ol class=list-inline><li>1</li><li>2</li><li>3</li><li>4</li><li>5</li><li>6</li><li>7</li><li>8</li><li>9</li><li>10</li><li>11</li><li>12</li><li>13</li><li>14</li><li>15</li><li>16</li><li>17</li><li>18</li><li>19</li><li>20</li><li>21</li><li>22</li><li>23</li><li>24</li><li>25</li><li>26</li><li>27</li><li>28</li><li>29</li><li>30</li></ol>\n"
      ],
      "text/latex": [
       "\\begin{enumerate*}\n",
       "\\item 1\n",
       "\\item 2\n",
       "\\item 3\n",
       "\\item 4\n",
       "\\item 5\n",
       "\\item 6\n",
       "\\item 7\n",
       "\\item 8\n",
       "\\item 9\n",
       "\\item 10\n",
       "\\item 11\n",
       "\\item 12\n",
       "\\item 13\n",
       "\\item 14\n",
       "\\item 15\n",
       "\\item 16\n",
       "\\item 17\n",
       "\\item 18\n",
       "\\item 19\n",
       "\\item 20\n",
       "\\item 21\n",
       "\\item 22\n",
       "\\item 23\n",
       "\\item 24\n",
       "\\item 25\n",
       "\\item 26\n",
       "\\item 27\n",
       "\\item 28\n",
       "\\item 29\n",
       "\\item 30\n",
       "\\end{enumerate*}\n"
      ],
      "text/markdown": [
       "1. 1\n",
       "2. 2\n",
       "3. 3\n",
       "4. 4\n",
       "5. 5\n",
       "6. 6\n",
       "7. 7\n",
       "8. 8\n",
       "9. 9\n",
       "10. 10\n",
       "11. 11\n",
       "12. 12\n",
       "13. 13\n",
       "14. 14\n",
       "15. 15\n",
       "16. 16\n",
       "17. 17\n",
       "18. 18\n",
       "19. 19\n",
       "20. 20\n",
       "21. 21\n",
       "22. 22\n",
       "23. 23\n",
       "24. 24\n",
       "25. 25\n",
       "26. 26\n",
       "27. 27\n",
       "28. 28\n",
       "29. 29\n",
       "30. 30\n",
       "\n",
       "\n"
      ],
      "text/plain": [
       " [1]  1  2  3  4  5  6  7  8  9 10 11 12 13 14 15 16 17 18 19 20 21 22 23 24 25\n",
       "[26] 26 27 28 29 30"
      ]
     },
     "metadata": {},
     "output_type": "display_data"
    }
   ],
   "source": [
    "checklist <- c(1:noPts)\n",
    "checklist"
   ]
  },
  {
   "cell_type": "code",
   "execution_count": 92,
   "metadata": {},
   "outputs": [],
   "source": [
    "check <- c(1:30)"
   ]
  },
  {
   "cell_type": "code",
   "execution_count": 93,
   "metadata": {},
   "outputs": [
    {
     "data": {
      "text/html": [
       "<style>\n",
       ".list-inline {list-style: none; margin:0; padding: 0}\n",
       ".list-inline>li {display: inline-block}\n",
       ".list-inline>li:not(:last-child)::after {content: \"\\00b7\"; padding: 0 .5ex}\n",
       "</style>\n",
       "<ol class=list-inline><li>1</li><li>2</li><li>3</li><li>4</li><li>5</li><li>6</li><li>7</li><li>8</li><li>9</li><li>11</li><li>12</li><li>13</li><li>14</li><li>15</li><li>16</li><li>17</li><li>18</li><li>19</li><li>20</li><li>21</li><li>22</li><li>23</li><li>24</li><li>25</li><li>26</li><li>27</li><li>28</li><li>29</li><li>30</li></ol>\n"
      ],
      "text/latex": [
       "\\begin{enumerate*}\n",
       "\\item 1\n",
       "\\item 2\n",
       "\\item 3\n",
       "\\item 4\n",
       "\\item 5\n",
       "\\item 6\n",
       "\\item 7\n",
       "\\item 8\n",
       "\\item 9\n",
       "\\item 11\n",
       "\\item 12\n",
       "\\item 13\n",
       "\\item 14\n",
       "\\item 15\n",
       "\\item 16\n",
       "\\item 17\n",
       "\\item 18\n",
       "\\item 19\n",
       "\\item 20\n",
       "\\item 21\n",
       "\\item 22\n",
       "\\item 23\n",
       "\\item 24\n",
       "\\item 25\n",
       "\\item 26\n",
       "\\item 27\n",
       "\\item 28\n",
       "\\item 29\n",
       "\\item 30\n",
       "\\end{enumerate*}\n"
      ],
      "text/markdown": [
       "1. 1\n",
       "2. 2\n",
       "3. 3\n",
       "4. 4\n",
       "5. 5\n",
       "6. 6\n",
       "7. 7\n",
       "8. 8\n",
       "9. 9\n",
       "10. 11\n",
       "11. 12\n",
       "12. 13\n",
       "13. 14\n",
       "14. 15\n",
       "15. 16\n",
       "16. 17\n",
       "17. 18\n",
       "18. 19\n",
       "19. 20\n",
       "20. 21\n",
       "21. 22\n",
       "22. 23\n",
       "23. 24\n",
       "24. 25\n",
       "25. 26\n",
       "26. 27\n",
       "27. 28\n",
       "28. 29\n",
       "29. 30\n",
       "\n",
       "\n"
      ],
      "text/plain": [
       " [1]  1  2  3  4  5  6  7  8  9 11 12 13 14 15 16 17 18 19 20 21 22 23 24 25 26\n",
       "[26] 27 28 29 30"
      ]
     },
     "metadata": {},
     "output_type": "display_data"
    }
   ],
   "source": [
    "toRm <- 10\n",
    "check <- check[-toRm]\n",
    "check"
   ]
  },
  {
   "cell_type": "code",
   "execution_count": 96,
   "metadata": {},
   "outputs": [
    {
     "data": {
      "text/html": [
       "<style>\n",
       ".list-inline {list-style: none; margin:0; padding: 0}\n",
       ".list-inline>li {display: inline-block}\n",
       ".list-inline>li:not(:last-child)::after {content: \"\\00b7\"; padding: 0 .5ex}\n",
       "</style>\n",
       "<ol class=list-inline><li>4</li><li>5</li><li>6</li></ol>\n"
      ],
      "text/latex": [
       "\\begin{enumerate*}\n",
       "\\item 4\n",
       "\\item 5\n",
       "\\item 6\n",
       "\\end{enumerate*}\n"
      ],
      "text/markdown": [
       "1. 4\n",
       "2. 5\n",
       "3. 6\n",
       "\n",
       "\n"
      ],
      "text/plain": [
       "[1] 4 5 6"
      ]
     },
     "metadata": {},
     "output_type": "display_data"
    }
   ],
   "source": [
    "checklist[3:5]"
   ]
  },
  {
   "cell_type": "code",
   "execution_count": 97,
   "metadata": {},
   "outputs": [
    {
     "data": {
      "text/html": [
       "<style>\n",
       ".list-inline {list-style: none; margin:0; padding: 0}\n",
       ".list-inline>li {display: inline-block}\n",
       ".list-inline>li:not(:last-child)::after {content: \"\\00b7\"; padding: 0 .5ex}\n",
       "</style>\n",
       "<ol class=list-inline><li>9</li><li>2</li><li>10</li><li>3</li><li>7</li><li>5</li><li>1</li><li>8</li><li>6</li><li>4</li></ol>\n"
      ],
      "text/latex": [
       "\\begin{enumerate*}\n",
       "\\item 9\n",
       "\\item 2\n",
       "\\item 10\n",
       "\\item 3\n",
       "\\item 7\n",
       "\\item 5\n",
       "\\item 1\n",
       "\\item 8\n",
       "\\item 6\n",
       "\\item 4\n",
       "\\end{enumerate*}\n"
      ],
      "text/markdown": [
       "1. 9\n",
       "2. 2\n",
       "3. 10\n",
       "4. 3\n",
       "5. 7\n",
       "6. 5\n",
       "7. 1\n",
       "8. 8\n",
       "9. 6\n",
       "10. 4\n",
       "\n",
       "\n"
      ],
      "text/plain": [
       " [1]  9  2 10  3  7  5  1  8  6  4"
      ]
     },
     "metadata": {},
     "output_type": "display_data"
    }
   ],
   "source": [
    "a <- sample (1 : 10)\n",
    "remove <- c (2, 3, 5)\n",
    " a\n",
    " \n"
   ]
  },
  {
   "cell_type": "code",
   "execution_count": 98,
   "metadata": {},
   "outputs": [
    {
     "data": {
      "text/html": [
       "<style>\n",
       ".list-inline {list-style: none; margin:0; padding: 0}\n",
       ".list-inline>li {display: inline-block}\n",
       ".list-inline>li:not(:last-child)::after {content: \"\\00b7\"; padding: 0 .5ex}\n",
       "</style>\n",
       "<ol class=list-inline><li>FALSE</li><li>TRUE</li><li>FALSE</li><li>TRUE</li><li>FALSE</li><li>TRUE</li><li>FALSE</li><li>FALSE</li><li>FALSE</li><li>FALSE</li></ol>\n"
      ],
      "text/latex": [
       "\\begin{enumerate*}\n",
       "\\item FALSE\n",
       "\\item TRUE\n",
       "\\item FALSE\n",
       "\\item TRUE\n",
       "\\item FALSE\n",
       "\\item TRUE\n",
       "\\item FALSE\n",
       "\\item FALSE\n",
       "\\item FALSE\n",
       "\\item FALSE\n",
       "\\end{enumerate*}\n"
      ],
      "text/markdown": [
       "1. FALSE\n",
       "2. TRUE\n",
       "3. FALSE\n",
       "4. TRUE\n",
       "5. FALSE\n",
       "6. TRUE\n",
       "7. FALSE\n",
       "8. FALSE\n",
       "9. FALSE\n",
       "10. FALSE\n",
       "\n",
       "\n"
      ],
      "text/plain": [
       " [1] FALSE  TRUE FALSE  TRUE FALSE  TRUE FALSE FALSE FALSE FALSE"
      ]
     },
     "metadata": {},
     "output_type": "display_data"
    }
   ],
   "source": [
    " a %in% remove"
   ]
  },
  {
   "cell_type": "code",
   "execution_count": 99,
   "metadata": {},
   "outputs": [
    {
     "data": {
      "text/html": [
       "<style>\n",
       ".list-inline {list-style: none; margin:0; padding: 0}\n",
       ".list-inline>li {display: inline-block}\n",
       ".list-inline>li:not(:last-child)::after {content: \"\\00b7\"; padding: 0 .5ex}\n",
       "</style>\n",
       "<ol class=list-inline><li>9</li><li>10</li><li>7</li><li>1</li><li>8</li><li>6</li><li>4</li></ol>\n"
      ],
      "text/latex": [
       "\\begin{enumerate*}\n",
       "\\item 9\n",
       "\\item 10\n",
       "\\item 7\n",
       "\\item 1\n",
       "\\item 8\n",
       "\\item 6\n",
       "\\item 4\n",
       "\\end{enumerate*}\n"
      ],
      "text/markdown": [
       "1. 9\n",
       "2. 10\n",
       "3. 7\n",
       "4. 1\n",
       "5. 8\n",
       "6. 6\n",
       "7. 4\n",
       "\n",
       "\n"
      ],
      "text/plain": [
       "[1]  9 10  7  1  8  6  4"
      ]
     },
     "metadata": {},
     "output_type": "display_data"
    }
   ],
   "source": [
    " a [! a %in% remove]"
   ]
  },
  {
   "cell_type": "code",
   "execution_count": 100,
   "metadata": {},
   "outputs": [
    {
     "data": {
      "text/html": [
       "<style>\n",
       ".list-inline {list-style: none; margin:0; padding: 0}\n",
       ".list-inline>li {display: inline-block}\n",
       ".list-inline>li:not(:last-child)::after {content: \"\\00b7\"; padding: 0 .5ex}\n",
       "</style>\n",
       "<ol class=list-inline><li>9</li><li>2</li><li>10</li><li>3</li><li>7</li><li>5</li><li>1</li><li>8</li><li>6</li><li>4</li></ol>\n"
      ],
      "text/latex": [
       "\\begin{enumerate*}\n",
       "\\item 9\n",
       "\\item 2\n",
       "\\item 10\n",
       "\\item 3\n",
       "\\item 7\n",
       "\\item 5\n",
       "\\item 1\n",
       "\\item 8\n",
       "\\item 6\n",
       "\\item 4\n",
       "\\end{enumerate*}\n"
      ],
      "text/markdown": [
       "1. 9\n",
       "2. 2\n",
       "3. 10\n",
       "4. 3\n",
       "5. 7\n",
       "6. 5\n",
       "7. 1\n",
       "8. 8\n",
       "9. 6\n",
       "10. 4\n",
       "\n",
       "\n"
      ],
      "text/plain": [
       " [1]  9  2 10  3  7  5  1  8  6  4"
      ]
     },
     "metadata": {},
     "output_type": "display_data"
    }
   ],
   "source": [
    "a"
   ]
  },
  {
   "cell_type": "code",
   "execution_count": 101,
   "metadata": {},
   "outputs": [],
   "source": [
    "a <-  a [! a %in% remove]"
   ]
  },
  {
   "cell_type": "code",
   "execution_count": 102,
   "metadata": {},
   "outputs": [
    {
     "data": {
      "text/html": [
       "<style>\n",
       ".list-inline {list-style: none; margin:0; padding: 0}\n",
       ".list-inline>li {display: inline-block}\n",
       ".list-inline>li:not(:last-child)::after {content: \"\\00b7\"; padding: 0 .5ex}\n",
       "</style>\n",
       "<ol class=list-inline><li>9</li><li>10</li><li>7</li><li>1</li><li>8</li><li>6</li><li>4</li></ol>\n"
      ],
      "text/latex": [
       "\\begin{enumerate*}\n",
       "\\item 9\n",
       "\\item 10\n",
       "\\item 7\n",
       "\\item 1\n",
       "\\item 8\n",
       "\\item 6\n",
       "\\item 4\n",
       "\\end{enumerate*}\n"
      ],
      "text/markdown": [
       "1. 9\n",
       "2. 10\n",
       "3. 7\n",
       "4. 1\n",
       "5. 8\n",
       "6. 6\n",
       "7. 4\n",
       "\n",
       "\n"
      ],
      "text/plain": [
       "[1]  9 10  7  1  8  6  4"
      ]
     },
     "metadata": {},
     "output_type": "display_data"
    }
   ],
   "source": [
    "a"
   ]
  },
  {
   "cell_type": "code",
   "execution_count": 103,
   "metadata": {},
   "outputs": [
    {
     "data": {
      "text/html": [
       "<style>\n",
       ".list-inline {list-style: none; margin:0; padding: 0}\n",
       ".list-inline>li {display: inline-block}\n",
       ".list-inline>li:not(:last-child)::after {content: \"\\00b7\"; padding: 0 .5ex}\n",
       "</style>\n",
       "<ol class=list-inline><li>2</li><li>3</li><li>5</li></ol>\n"
      ],
      "text/latex": [
       "\\begin{enumerate*}\n",
       "\\item 2\n",
       "\\item 3\n",
       "\\item 5\n",
       "\\end{enumerate*}\n"
      ],
      "text/markdown": [
       "1. 2\n",
       "2. 3\n",
       "3. 5\n",
       "\n",
       "\n"
      ],
      "text/plain": [
       "[1] 2 3 5"
      ]
     },
     "metadata": {},
     "output_type": "display_data"
    }
   ],
   "source": [
    "remove"
   ]
  },
  {
   "cell_type": "code",
   "execution_count": 104,
   "metadata": {},
   "outputs": [
    {
     "ename": "ERROR",
     "evalue": "Error in parse(text = x, srcfile = src): <text>:1:3: unexpected 'in'\n1: 2 in\n      ^\n",
     "output_type": "error",
     "traceback": [
      "Error in parse(text = x, srcfile = src): <text>:1:3: unexpected 'in'\n1: 2 in\n      ^\nTraceback:\n"
     ]
    }
   ],
   "source": [
    "2 in remove\n"
   ]
  },
  {
   "cell_type": "code",
   "execution_count": 105,
   "metadata": {},
   "outputs": [
    {
     "data": {
      "text/html": [
       "TRUE"
      ],
      "text/latex": [
       "TRUE"
      ],
      "text/markdown": [
       "TRUE"
      ],
      "text/plain": [
       "[1] TRUE"
      ]
     },
     "metadata": {},
     "output_type": "display_data"
    }
   ],
   "source": [
    "2 %in% remove"
   ]
  },
  {
   "cell_type": "code",
   "execution_count": 109,
   "metadata": {},
   "outputs": [
    {
     "data": {
      "text/html": [
       "TRUE"
      ],
      "text/latex": [
       "TRUE"
      ],
      "text/markdown": [
       "TRUE"
      ],
      "text/plain": [
       "[1] TRUE"
      ]
     },
     "metadata": {},
     "output_type": "display_data"
    }
   ],
   "source": [
    "2 %in% remove"
   ]
  },
  {
   "cell_type": "code",
   "execution_count": 143,
   "metadata": {},
   "outputs": [
    {
     "data": {
      "text/html": [
       "<ol>\n",
       "\t<li>0</li>\n",
       "\t<li>0</li>\n",
       "\t<li>0</li>\n",
       "\t<li>0</li>\n",
       "\t<li>0</li>\n",
       "\t<li>0</li>\n",
       "\t<li>0</li>\n",
       "\t<li>0</li>\n",
       "\t<li>0</li>\n",
       "\t<li>0</li>\n",
       "</ol>\n"
      ],
      "text/latex": [
       "\\begin{enumerate}\n",
       "\\item 0\n",
       "\\item 0\n",
       "\\item 0\n",
       "\\item 0\n",
       "\\item 0\n",
       "\\item 0\n",
       "\\item 0\n",
       "\\item 0\n",
       "\\item 0\n",
       "\\item 0\n",
       "\\end{enumerate}\n"
      ],
      "text/markdown": [
       "1. 0\n",
       "2. 0\n",
       "3. 0\n",
       "4. 0\n",
       "5. 0\n",
       "6. 0\n",
       "7. 0\n",
       "8. 0\n",
       "9. 0\n",
       "10. 0\n",
       "\n",
       "\n"
      ],
      "text/plain": [
       "[[1]]\n",
       "[1] 0\n",
       "\n",
       "[[2]]\n",
       "[1] 0\n",
       "\n",
       "[[3]]\n",
       "[1] 0\n",
       "\n",
       "[[4]]\n",
       "[1] 0\n",
       "\n",
       "[[5]]\n",
       "[1] 0\n",
       "\n",
       "[[6]]\n",
       "[1] 0\n",
       "\n",
       "[[7]]\n",
       "[1] 0\n",
       "\n",
       "[[8]]\n",
       "[1] 0\n",
       "\n",
       "[[9]]\n",
       "[1] 0\n",
       "\n",
       "[[10]]\n",
       "[1] 0\n"
      ]
     },
     "metadata": {},
     "output_type": "display_data"
    }
   ],
   "source": [
    "branch <- c(rep(0,10))\n",
    "list_branch<- as.list(branch)\n",
    "list_branch"
   ]
  },
  {
   "cell_type": "code",
   "execution_count": 137,
   "metadata": {},
   "outputs": [],
   "source": [
    "branch[[3]] <- 3"
   ]
  },
  {
   "cell_type": "code",
   "execution_count": 138,
   "metadata": {},
   "outputs": [
    {
     "data": {
      "text/html": [
       "<ol>\n",
       "\t<li><style>\n",
       ".list-inline {list-style: none; margin:0; padding: 0}\n",
       ".list-inline>li {display: inline-block}\n",
       ".list-inline>li:not(:last-child)::after {content: \"\\00b7\"; padding: 0 .5ex}\n",
       "</style>\n",
       "<ol class=list-inline><li>0</li><li>0</li><li>0</li><li>0</li><li>0</li><li>0</li><li>0</li><li>0</li><li>0</li><li>0</li></ol>\n",
       "</li>\n",
       "\t<li>NULL</li>\n",
       "\t<li>3</li>\n",
       "</ol>\n"
      ],
      "text/latex": [
       "\\begin{enumerate}\n",
       "\\item \\begin{enumerate*}\n",
       "\\item 0\n",
       "\\item 0\n",
       "\\item 0\n",
       "\\item 0\n",
       "\\item 0\n",
       "\\item 0\n",
       "\\item 0\n",
       "\\item 0\n",
       "\\item 0\n",
       "\\item 0\n",
       "\\end{enumerate*}\n",
       "\n",
       "\\item NULL\n",
       "\\item 3\n",
       "\\end{enumerate}\n"
      ],
      "text/markdown": [
       "1. 1. 0\n",
       "2. 0\n",
       "3. 0\n",
       "4. 0\n",
       "5. 0\n",
       "6. 0\n",
       "7. 0\n",
       "8. 0\n",
       "9. 0\n",
       "10. 0\n",
       "\n",
       "\n",
       "\n",
       "2. NULL\n",
       "3. 3\n",
       "\n",
       "\n"
      ],
      "text/plain": [
       "[[1]]\n",
       " [1] 0 0 0 0 0 0 0 0 0 0\n",
       "\n",
       "[[2]]\n",
       "NULL\n",
       "\n",
       "[[3]]\n",
       "[1] 3\n"
      ]
     },
     "metadata": {},
     "output_type": "display_data"
    }
   ],
   "source": [
    "branch"
   ]
  },
  {
   "cell_type": "code",
   "execution_count": 122,
   "metadata": {},
   "outputs": [
    {
     "data": {
      "text/html": [
       "0"
      ],
      "text/latex": [
       "0"
      ],
      "text/markdown": [
       "0"
      ],
      "text/plain": [
       "[1] 0"
      ]
     },
     "metadata": {},
     "output_type": "display_data"
    }
   ],
   "source": [
    "rm <- c(0)\n",
    "rm"
   ]
  },
  {
   "cell_type": "code",
   "execution_count": 124,
   "metadata": {},
   "outputs": [
    {
     "data": {
      "text/html": [
       "3"
      ],
      "text/latex": [
       "3"
      ],
      "text/markdown": [
       "3"
      ],
      "text/plain": [
       "[1] 3"
      ]
     },
     "metadata": {},
     "output_type": "display_data"
    }
   ],
   "source": [
    "branch <- branch[!branch %in% rm]\n",
    "branch"
   ]
  },
  {
   "cell_type": "code",
   "execution_count": 151,
   "metadata": {},
   "outputs": [
    {
     "data": {
      "text/html": [
       "<ol>\n",
       "</ol>\n"
      ],
      "text/latex": [
       "\\begin{enumerate}\n",
       "\\end{enumerate}\n"
      ],
      "text/markdown": [
       "\n",
       "\n"
      ],
      "text/plain": [
       "list()"
      ]
     },
     "metadata": {},
     "output_type": "display_data"
    }
   ],
   "source": [
    "tree <- list()\n",
    "tree"
   ]
  },
  {
   "cell_type": "code",
   "execution_count": 153,
   "metadata": {},
   "outputs": [
    {
     "data": {
      "text/html": [
       "<ol>\n",
       "\t<li><ol>\n",
       "\t<li>0</li>\n",
       "\t<li>0</li>\n",
       "\t<li>0</li>\n",
       "\t<li>0</li>\n",
       "\t<li>0</li>\n",
       "\t<li>0</li>\n",
       "\t<li>0</li>\n",
       "\t<li>0</li>\n",
       "\t<li>0</li>\n",
       "\t<li>0</li>\n",
       "</ol>\n",
       "</li>\n",
       "</ol>\n"
      ],
      "text/latex": [
       "\\begin{enumerate}\n",
       "\\item \\begin{enumerate}\n",
       "\\item 0\n",
       "\\item 0\n",
       "\\item 0\n",
       "\\item 0\n",
       "\\item 0\n",
       "\\item 0\n",
       "\\item 0\n",
       "\\item 0\n",
       "\\item 0\n",
       "\\item 0\n",
       "\\end{enumerate}\n",
       "\n",
       "\\end{enumerate}\n"
      ],
      "text/markdown": [
       "1. 1. 0\n",
       "2. 0\n",
       "3. 0\n",
       "4. 0\n",
       "5. 0\n",
       "6. 0\n",
       "7. 0\n",
       "8. 0\n",
       "9. 0\n",
       "10. 0\n",
       "\n",
       "\n",
       "\n",
       "\n",
       "\n"
      ],
      "text/plain": [
       "[[1]]\n",
       "[[1]][[1]]\n",
       "[1] 0\n",
       "\n",
       "[[1]][[2]]\n",
       "[1] 0\n",
       "\n",
       "[[1]][[3]]\n",
       "[1] 0\n",
       "\n",
       "[[1]][[4]]\n",
       "[1] 0\n",
       "\n",
       "[[1]][[5]]\n",
       "[1] 0\n",
       "\n",
       "[[1]][[6]]\n",
       "[1] 0\n",
       "\n",
       "[[1]][[7]]\n",
       "[1] 0\n",
       "\n",
       "[[1]][[8]]\n",
       "[1] 0\n",
       "\n",
       "[[1]][[9]]\n",
       "[1] 0\n",
       "\n",
       "[[1]][[10]]\n",
       "[1] 0\n",
       "\n"
      ]
     },
     "metadata": {},
     "output_type": "display_data"
    }
   ],
   "source": [
    "tree<-append(tree, list(list_branch))\n",
    "tree"
   ]
  },
  {
   "cell_type": "code",
   "execution_count": 298,
   "metadata": {},
   "outputs": [
    {
     "data": {
      "text/html": [
       "<style>\n",
       ".list-inline {list-style: none; margin:0; padding: 0}\n",
       ".list-inline>li {display: inline-block}\n",
       ".list-inline>li:not(:last-child)::after {content: \"\\00b7\"; padding: 0 .5ex}\n",
       "</style>\n",
       "<ol class=list-inline><li>1</li><li>2</li><li>3</li><li>4</li><li>5</li><li>6</li><li>7</li><li>8</li><li>9</li><li>10</li><li>11</li><li>12</li><li>13</li><li>14</li><li>15</li><li>16</li><li>17</li><li>18</li><li>19</li><li>20</li><li>21</li><li>22</li><li>23</li><li>24</li><li>25</li><li>26</li><li>27</li><li>28</li><li>29</li><li>30</li></ol>\n"
      ],
      "text/latex": [
       "\\begin{enumerate*}\n",
       "\\item 1\n",
       "\\item 2\n",
       "\\item 3\n",
       "\\item 4\n",
       "\\item 5\n",
       "\\item 6\n",
       "\\item 7\n",
       "\\item 8\n",
       "\\item 9\n",
       "\\item 10\n",
       "\\item 11\n",
       "\\item 12\n",
       "\\item 13\n",
       "\\item 14\n",
       "\\item 15\n",
       "\\item 16\n",
       "\\item 17\n",
       "\\item 18\n",
       "\\item 19\n",
       "\\item 20\n",
       "\\item 21\n",
       "\\item 22\n",
       "\\item 23\n",
       "\\item 24\n",
       "\\item 25\n",
       "\\item 26\n",
       "\\item 27\n",
       "\\item 28\n",
       "\\item 29\n",
       "\\item 30\n",
       "\\end{enumerate*}\n"
      ],
      "text/markdown": [
       "1. 1\n",
       "2. 2\n",
       "3. 3\n",
       "4. 4\n",
       "5. 5\n",
       "6. 6\n",
       "7. 7\n",
       "8. 8\n",
       "9. 9\n",
       "10. 10\n",
       "11. 11\n",
       "12. 12\n",
       "13. 13\n",
       "14. 14\n",
       "15. 15\n",
       "16. 16\n",
       "17. 17\n",
       "18. 18\n",
       "19. 19\n",
       "20. 20\n",
       "21. 21\n",
       "22. 22\n",
       "23. 23\n",
       "24. 24\n",
       "25. 25\n",
       "26. 26\n",
       "27. 27\n",
       "28. 28\n",
       "29. 29\n",
       "30. 30\n",
       "\n",
       "\n"
      ],
      "text/plain": [
       " [1]  1  2  3  4  5  6  7  8  9 10 11 12 13 14 15 16 17 18 19 20 21 22 23 24 25\n",
       "[26] 26 27 28 29 30"
      ]
     },
     "metadata": {},
     "output_type": "display_data"
    }
   ],
   "source": [
    "branch <- list(1,11,14,30)"
   ]
  },
  {
   "cell_type": "code",
   "execution_count": 343,
   "metadata": {},
   "outputs": [
    {
     "data": {
      "text/html": [
       "0"
      ],
      "text/latex": [
       "0"
      ],
      "text/markdown": [
       "0"
      ],
      "text/plain": [
       "[1] 0"
      ]
     },
     "metadata": {},
     "output_type": "display_data"
    }
   ],
   "source": [
    "testVec <- c()\n",
    "length(testVec)"
   ]
  },
  {
   "cell_type": "code",
   "execution_count": null,
   "metadata": {},
   "outputs": [],
   "source": []
  }
 ],
 "metadata": {
  "kernelspec": {
   "display_name": "R",
   "language": "R",
   "name": "ir"
  },
  "language_info": {
   "codemirror_mode": "r",
   "file_extension": ".r",
   "mimetype": "text/x-r-source",
   "name": "R",
   "pygments_lexer": "r",
   "version": "4.0.1"
  }
 },
 "nbformat": 4,
 "nbformat_minor": 4
}
