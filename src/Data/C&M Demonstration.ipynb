{
 "cells": [
  {
   "cell_type": "code",
   "execution_count": 41,
   "metadata": {},
   "outputs": [
    {
     "name": "stdout",
     "output_type": "stream",
     "text": [
      "found: concorde concorde.c concorde.o \n"
     ]
    }
   ],
   "source": [
    "library(\"TSP\")\n",
    "#remember to adjust the Concorde Path to the absolute path of the directory. \n",
    "#note that the concorde solver is also inside the subfolder TSP of your concorde solver\n",
    "concorde_path(\"~/concorde/TSP\")\n",
    "source(\"functions.R\")\n",
    "\n",
    "\n",
    "#generating new random instance with 15 points\n",
    "no <- 15\n",
    "for (i in  1:no){\n",
    "        pts  <- data.frame(x=100*runif(i), y=100*runif(i))\n",
    "        ## create TSP, ATSP and ETSP (2D)\n",
    "        dataETSP <- ETSP(pts)\n",
    "}\n",
    "\n",
    "\n",
    "\n"
   ]
  },
  {
   "cell_type": "code",
   "execution_count": 42,
   "metadata": {},
   "outputs": [
    {
     "data": {
      "text/html": [
       "<table>\n",
       "<caption>A ETSP: 15 × 2 of type dbl</caption>\n",
       "<thead>\n",
       "\t<tr><th></th><th scope=col>x</th><th scope=col>y</th></tr>\n",
       "</thead>\n",
       "<tbody>\n",
       "\t<tr><th scope=row>1</th><td>23.619895</td><td>71.17481</td></tr>\n",
       "\t<tr><th scope=row>2</th><td>31.749848</td><td>74.77562</td></tr>\n",
       "\t<tr><th scope=row>3</th><td> 1.591451</td><td>15.44938</td></tr>\n",
       "\t<tr><th scope=row>4</th><td>97.592241</td><td>60.37430</td></tr>\n",
       "\t<tr><th scope=row>5</th><td>19.169883</td><td>77.49897</td></tr>\n",
       "\t<tr><th scope=row>6</th><td>63.789846</td><td>47.71019</td></tr>\n",
       "\t<tr><th scope=row>7</th><td>90.559122</td><td>23.67392</td></tr>\n",
       "\t<tr><th scope=row>8</th><td>51.237220</td><td>98.15522</td></tr>\n",
       "\t<tr><th scope=row>9</th><td>73.013168</td><td>10.06562</td></tr>\n",
       "\t<tr><th scope=row>10</th><td> 3.033581</td><td>47.60871</td></tr>\n",
       "\t<tr><th scope=row>11</th><td>82.035200</td><td>83.35991</td></tr>\n",
       "\t<tr><th scope=row>12</th><td>86.433366</td><td>37.87190</td></tr>\n",
       "\t<tr><th scope=row>13</th><td>56.673549</td><td>10.41921</td></tr>\n",
       "\t<tr><th scope=row>14</th><td>63.534302</td><td>74.22950</td></tr>\n",
       "\t<tr><th scope=row>15</th><td>29.887358</td><td>59.11915</td></tr>\n",
       "</tbody>\n",
       "</table>\n"
      ],
      "text/latex": [
       "A ETSP: 15 × 2 of type dbl\n",
       "\\begin{tabular}{r|ll}\n",
       "  & x & y\\\\\n",
       "\\hline\n",
       "\t1 & 23.619895 & 71.17481\\\\\n",
       "\t2 & 31.749848 & 74.77562\\\\\n",
       "\t3 &  1.591451 & 15.44938\\\\\n",
       "\t4 & 97.592241 & 60.37430\\\\\n",
       "\t5 & 19.169883 & 77.49897\\\\\n",
       "\t6 & 63.789846 & 47.71019\\\\\n",
       "\t7 & 90.559122 & 23.67392\\\\\n",
       "\t8 & 51.237220 & 98.15522\\\\\n",
       "\t9 & 73.013168 & 10.06562\\\\\n",
       "\t10 &  3.033581 & 47.60871\\\\\n",
       "\t11 & 82.035200 & 83.35991\\\\\n",
       "\t12 & 86.433366 & 37.87190\\\\\n",
       "\t13 & 56.673549 & 10.41921\\\\\n",
       "\t14 & 63.534302 & 74.22950\\\\\n",
       "\t15 & 29.887358 & 59.11915\\\\\n",
       "\\end{tabular}\n"
      ],
      "text/markdown": [
       "\n",
       "A ETSP: 15 × 2 of type dbl\n",
       "\n",
       "| <!--/--> | x | y |\n",
       "|---|---|---|\n",
       "| 1 | 23.619895 | 71.17481 |\n",
       "| 2 | 31.749848 | 74.77562 |\n",
       "| 3 |  1.591451 | 15.44938 |\n",
       "| 4 | 97.592241 | 60.37430 |\n",
       "| 5 | 19.169883 | 77.49897 |\n",
       "| 6 | 63.789846 | 47.71019 |\n",
       "| 7 | 90.559122 | 23.67392 |\n",
       "| 8 | 51.237220 | 98.15522 |\n",
       "| 9 | 73.013168 | 10.06562 |\n",
       "| 10 |  3.033581 | 47.60871 |\n",
       "| 11 | 82.035200 | 83.35991 |\n",
       "| 12 | 86.433366 | 37.87190 |\n",
       "| 13 | 56.673549 | 10.41921 |\n",
       "| 14 | 63.534302 | 74.22950 |\n",
       "| 15 | 29.887358 | 59.11915 |\n",
       "\n"
      ],
      "text/plain": [
       "   x         y       \n",
       "1  23.619895 71.17481\n",
       "2  31.749848 74.77562\n",
       "3   1.591451 15.44938\n",
       "4  97.592241 60.37430\n",
       "5  19.169883 77.49897\n",
       "6  63.789846 47.71019\n",
       "7  90.559122 23.67392\n",
       "8  51.237220 98.15522\n",
       "9  73.013168 10.06562\n",
       "10  3.033581 47.60871\n",
       "11 82.035200 83.35991\n",
       "12 86.433366 37.87190\n",
       "13 56.673549 10.41921\n",
       "14 63.534302 74.22950\n",
       "15 29.887358 59.11915"
      ]
     },
     "metadata": {},
     "output_type": "display_data"
    }
   ],
   "source": [
    "#the list of points with xy coordinates\n",
    "dataETSP"
   ]
  },
  {
   "cell_type": "code",
   "execution_count": 43,
   "metadata": {},
   "outputs": [
    {
     "data": {
      "text/html": [
       "<table>\n",
       "<caption>A matrix: 15 × 15 of type dbl</caption>\n",
       "<thead>\n",
       "\t<tr><th></th><th scope=col>1</th><th scope=col>2</th><th scope=col>3</th><th scope=col>4</th><th scope=col>5</th><th scope=col>6</th><th scope=col>7</th><th scope=col>8</th><th scope=col>9</th><th scope=col>10</th><th scope=col>11</th><th scope=col>12</th><th scope=col>13</th><th scope=col>14</th><th scope=col>15</th></tr>\n",
       "</thead>\n",
       "<tbody>\n",
       "\t<tr><th scope=row>1</th><td> 0.000000</td><td> 8.891679</td><td> 59.92142</td><td> 74.75667</td><td> 7.732892</td><td>46.52111</td><td>82.08042</td><td>38.60905</td><td>78.57499</td><td>31.29149</td><td> 59.67264</td><td>71.09583</td><td>69.16493</td><td>40.03112</td><td>13.58750</td></tr>\n",
       "\t<tr><th scope=row>2</th><td> 8.891679</td><td> 0.000000</td><td> 66.55172</td><td> 67.39895</td><td>12.871370</td><td>41.94162</td><td>77.90966</td><td>30.43621</td><td>76.74663</td><td>39.53056</td><td> 51.01281</td><td>65.97099</td><td>69.01404</td><td>31.78915</td><td>15.76686</td></tr>\n",
       "\t<tr><th scope=row>3</th><td>59.921419</td><td>66.551725</td><td>  0.00000</td><td>105.99245</td><td>64.491501</td><td>70.06711</td><td>89.34702</td><td>96.46221</td><td>71.62434</td><td>32.19165</td><td>105.27601</td><td>87.75489</td><td>55.31130</td><td>85.39332</td><td>52.03564</td></tr>\n",
       "\t<tr><th scope=row>4</th><td>74.756666</td><td>67.398953</td><td>105.99245</td><td>  0.00000</td><td>80.270298</td><td>36.09684</td><td>37.36820</td><td>59.80122</td><td>55.99191</td><td>95.41646</td><td> 27.75536</td><td>25.11729</td><td>64.57437</td><td>36.76833</td><td>67.71652</td></tr>\n",
       "\t<tr><th scope=row>5</th><td> 7.732892</td><td>12.871370</td><td> 64.49150</td><td> 80.27030</td><td> 0.000000</td><td>53.64991</td><td>89.40671</td><td>38.14439</td><td>86.29227</td><td>33.96775</td><td> 63.13793</td><td>78.06844</td><td>76.85193</td><td>44.48473</td><td>21.27633</td></tr>\n",
       "\t<tr><th scope=row>6</th><td>46.521111</td><td>41.941618</td><td> 70.06711</td><td> 36.09684</td><td>53.649912</td><td> 0.00000</td><td>35.97689</td><td>51.98336</td><td>38.75800</td><td>60.75635</td><td> 40.04742</td><td>24.68848</td><td>37.96391</td><td>26.52054</td><td>35.77070</td></tr>\n",
       "\t<tr><th scope=row>7</th><td>82.080419</td><td>77.909658</td><td> 89.34702</td><td> 37.36820</td><td>89.406712</td><td>35.97689</td><td> 0.00000</td><td>84.22396</td><td>22.20464</td><td>90.73916</td><td> 60.29158</td><td>14.78528</td><td>36.38570</td><td>57.32545</td><td>70.26683</td></tr>\n",
       "\t<tr><th scope=row>8</th><td>38.609050</td><td>30.436214</td><td> 96.46221</td><td> 59.80122</td><td>38.144389</td><td>51.98336</td><td>84.22396</td><td> 0.00000</td><td>90.74122</td><td>69.84654</td><td> 34.16748</td><td>69.80578</td><td>87.90427</td><td>26.90090</td><td>44.49304</td></tr>\n",
       "\t<tr><th scope=row>9</th><td>78.574987</td><td>76.746632</td><td> 71.62434</td><td> 55.99191</td><td>86.292273</td><td>38.75800</td><td>22.20464</td><td>90.74122</td><td> 0.00000</td><td>79.41427</td><td> 73.84748</td><td>30.87540</td><td>16.34344</td><td>64.86025</td><td>65.31527</td></tr>\n",
       "\t<tr><th scope=row>10</th><td>31.291491</td><td>39.530557</td><td> 32.19165</td><td> 95.41646</td><td>33.967750</td><td>60.75635</td><td>90.73916</td><td>69.84654</td><td>79.41427</td><td> 0.00000</td><td> 86.71450</td><td>83.96624</td><td>65.27101</td><td>66.09844</td><td>29.21670</td></tr>\n",
       "\t<tr><th scope=row>11</th><td>59.672644</td><td>51.012809</td><td>105.27601</td><td> 27.75536</td><td>63.137934</td><td>40.04742</td><td>60.29158</td><td>34.16748</td><td>73.84748</td><td>86.71450</td><td>  0.00000</td><td>45.70015</td><td>77.22408</td><td>20.63123</td><td>57.50662</td></tr>\n",
       "\t<tr><th scope=row>12</th><td>71.095826</td><td>65.970995</td><td> 87.75489</td><td> 25.11729</td><td>78.068441</td><td>24.68848</td><td>14.78528</td><td>69.80578</td><td>30.87540</td><td>83.96624</td><td> 45.70015</td><td> 0.00000</td><td>40.48823</td><td>42.96792</td><td>60.40610</td></tr>\n",
       "\t<tr><th scope=row>13</th><td>69.164927</td><td>69.014044</td><td> 55.31130</td><td> 64.57437</td><td>76.851932</td><td>37.96391</td><td>36.38570</td><td>87.90427</td><td>16.34344</td><td>65.27101</td><td> 77.22408</td><td>40.48823</td><td> 0.00000</td><td>64.17805</td><td>55.58043</td></tr>\n",
       "\t<tr><th scope=row>14</th><td>40.031125</td><td>31.789145</td><td> 85.39332</td><td> 36.76833</td><td>44.484729</td><td>26.52054</td><td>57.32545</td><td>26.90090</td><td>64.86025</td><td>66.09844</td><td> 20.63123</td><td>42.96792</td><td>64.17805</td><td> 0.00000</td><td>36.88413</td></tr>\n",
       "\t<tr><th scope=row>15</th><td>13.587495</td><td>15.766860</td><td> 52.03564</td><td> 67.71652</td><td>21.276327</td><td>35.77070</td><td>70.26683</td><td>44.49304</td><td>65.31527</td><td>29.21670</td><td> 57.50662</td><td>60.40610</td><td>55.58043</td><td>36.88413</td><td> 0.00000</td></tr>\n",
       "</tbody>\n",
       "</table>\n"
      ],
      "text/latex": [
       "A matrix: 15 × 15 of type dbl\n",
       "\\begin{tabular}{r|lllllllllllllll}\n",
       "  & 1 & 2 & 3 & 4 & 5 & 6 & 7 & 8 & 9 & 10 & 11 & 12 & 13 & 14 & 15\\\\\n",
       "\\hline\n",
       "\t1 &  0.000000 &  8.891679 &  59.92142 &  74.75667 &  7.732892 & 46.52111 & 82.08042 & 38.60905 & 78.57499 & 31.29149 &  59.67264 & 71.09583 & 69.16493 & 40.03112 & 13.58750\\\\\n",
       "\t2 &  8.891679 &  0.000000 &  66.55172 &  67.39895 & 12.871370 & 41.94162 & 77.90966 & 30.43621 & 76.74663 & 39.53056 &  51.01281 & 65.97099 & 69.01404 & 31.78915 & 15.76686\\\\\n",
       "\t3 & 59.921419 & 66.551725 &   0.00000 & 105.99245 & 64.491501 & 70.06711 & 89.34702 & 96.46221 & 71.62434 & 32.19165 & 105.27601 & 87.75489 & 55.31130 & 85.39332 & 52.03564\\\\\n",
       "\t4 & 74.756666 & 67.398953 & 105.99245 &   0.00000 & 80.270298 & 36.09684 & 37.36820 & 59.80122 & 55.99191 & 95.41646 &  27.75536 & 25.11729 & 64.57437 & 36.76833 & 67.71652\\\\\n",
       "\t5 &  7.732892 & 12.871370 &  64.49150 &  80.27030 &  0.000000 & 53.64991 & 89.40671 & 38.14439 & 86.29227 & 33.96775 &  63.13793 & 78.06844 & 76.85193 & 44.48473 & 21.27633\\\\\n",
       "\t6 & 46.521111 & 41.941618 &  70.06711 &  36.09684 & 53.649912 &  0.00000 & 35.97689 & 51.98336 & 38.75800 & 60.75635 &  40.04742 & 24.68848 & 37.96391 & 26.52054 & 35.77070\\\\\n",
       "\t7 & 82.080419 & 77.909658 &  89.34702 &  37.36820 & 89.406712 & 35.97689 &  0.00000 & 84.22396 & 22.20464 & 90.73916 &  60.29158 & 14.78528 & 36.38570 & 57.32545 & 70.26683\\\\\n",
       "\t8 & 38.609050 & 30.436214 &  96.46221 &  59.80122 & 38.144389 & 51.98336 & 84.22396 &  0.00000 & 90.74122 & 69.84654 &  34.16748 & 69.80578 & 87.90427 & 26.90090 & 44.49304\\\\\n",
       "\t9 & 78.574987 & 76.746632 &  71.62434 &  55.99191 & 86.292273 & 38.75800 & 22.20464 & 90.74122 &  0.00000 & 79.41427 &  73.84748 & 30.87540 & 16.34344 & 64.86025 & 65.31527\\\\\n",
       "\t10 & 31.291491 & 39.530557 &  32.19165 &  95.41646 & 33.967750 & 60.75635 & 90.73916 & 69.84654 & 79.41427 &  0.00000 &  86.71450 & 83.96624 & 65.27101 & 66.09844 & 29.21670\\\\\n",
       "\t11 & 59.672644 & 51.012809 & 105.27601 &  27.75536 & 63.137934 & 40.04742 & 60.29158 & 34.16748 & 73.84748 & 86.71450 &   0.00000 & 45.70015 & 77.22408 & 20.63123 & 57.50662\\\\\n",
       "\t12 & 71.095826 & 65.970995 &  87.75489 &  25.11729 & 78.068441 & 24.68848 & 14.78528 & 69.80578 & 30.87540 & 83.96624 &  45.70015 &  0.00000 & 40.48823 & 42.96792 & 60.40610\\\\\n",
       "\t13 & 69.164927 & 69.014044 &  55.31130 &  64.57437 & 76.851932 & 37.96391 & 36.38570 & 87.90427 & 16.34344 & 65.27101 &  77.22408 & 40.48823 &  0.00000 & 64.17805 & 55.58043\\\\\n",
       "\t14 & 40.031125 & 31.789145 &  85.39332 &  36.76833 & 44.484729 & 26.52054 & 57.32545 & 26.90090 & 64.86025 & 66.09844 &  20.63123 & 42.96792 & 64.17805 &  0.00000 & 36.88413\\\\\n",
       "\t15 & 13.587495 & 15.766860 &  52.03564 &  67.71652 & 21.276327 & 35.77070 & 70.26683 & 44.49304 & 65.31527 & 29.21670 &  57.50662 & 60.40610 & 55.58043 & 36.88413 &  0.00000\\\\\n",
       "\\end{tabular}\n"
      ],
      "text/markdown": [
       "\n",
       "A matrix: 15 × 15 of type dbl\n",
       "\n",
       "| <!--/--> | 1 | 2 | 3 | 4 | 5 | 6 | 7 | 8 | 9 | 10 | 11 | 12 | 13 | 14 | 15 |\n",
       "|---|---|---|---|---|---|---|---|---|---|---|---|---|---|---|---|\n",
       "| 1 |  0.000000 |  8.891679 |  59.92142 |  74.75667 |  7.732892 | 46.52111 | 82.08042 | 38.60905 | 78.57499 | 31.29149 |  59.67264 | 71.09583 | 69.16493 | 40.03112 | 13.58750 |\n",
       "| 2 |  8.891679 |  0.000000 |  66.55172 |  67.39895 | 12.871370 | 41.94162 | 77.90966 | 30.43621 | 76.74663 | 39.53056 |  51.01281 | 65.97099 | 69.01404 | 31.78915 | 15.76686 |\n",
       "| 3 | 59.921419 | 66.551725 |   0.00000 | 105.99245 | 64.491501 | 70.06711 | 89.34702 | 96.46221 | 71.62434 | 32.19165 | 105.27601 | 87.75489 | 55.31130 | 85.39332 | 52.03564 |\n",
       "| 4 | 74.756666 | 67.398953 | 105.99245 |   0.00000 | 80.270298 | 36.09684 | 37.36820 | 59.80122 | 55.99191 | 95.41646 |  27.75536 | 25.11729 | 64.57437 | 36.76833 | 67.71652 |\n",
       "| 5 |  7.732892 | 12.871370 |  64.49150 |  80.27030 |  0.000000 | 53.64991 | 89.40671 | 38.14439 | 86.29227 | 33.96775 |  63.13793 | 78.06844 | 76.85193 | 44.48473 | 21.27633 |\n",
       "| 6 | 46.521111 | 41.941618 |  70.06711 |  36.09684 | 53.649912 |  0.00000 | 35.97689 | 51.98336 | 38.75800 | 60.75635 |  40.04742 | 24.68848 | 37.96391 | 26.52054 | 35.77070 |\n",
       "| 7 | 82.080419 | 77.909658 |  89.34702 |  37.36820 | 89.406712 | 35.97689 |  0.00000 | 84.22396 | 22.20464 | 90.73916 |  60.29158 | 14.78528 | 36.38570 | 57.32545 | 70.26683 |\n",
       "| 8 | 38.609050 | 30.436214 |  96.46221 |  59.80122 | 38.144389 | 51.98336 | 84.22396 |  0.00000 | 90.74122 | 69.84654 |  34.16748 | 69.80578 | 87.90427 | 26.90090 | 44.49304 |\n",
       "| 9 | 78.574987 | 76.746632 |  71.62434 |  55.99191 | 86.292273 | 38.75800 | 22.20464 | 90.74122 |  0.00000 | 79.41427 |  73.84748 | 30.87540 | 16.34344 | 64.86025 | 65.31527 |\n",
       "| 10 | 31.291491 | 39.530557 |  32.19165 |  95.41646 | 33.967750 | 60.75635 | 90.73916 | 69.84654 | 79.41427 |  0.00000 |  86.71450 | 83.96624 | 65.27101 | 66.09844 | 29.21670 |\n",
       "| 11 | 59.672644 | 51.012809 | 105.27601 |  27.75536 | 63.137934 | 40.04742 | 60.29158 | 34.16748 | 73.84748 | 86.71450 |   0.00000 | 45.70015 | 77.22408 | 20.63123 | 57.50662 |\n",
       "| 12 | 71.095826 | 65.970995 |  87.75489 |  25.11729 | 78.068441 | 24.68848 | 14.78528 | 69.80578 | 30.87540 | 83.96624 |  45.70015 |  0.00000 | 40.48823 | 42.96792 | 60.40610 |\n",
       "| 13 | 69.164927 | 69.014044 |  55.31130 |  64.57437 | 76.851932 | 37.96391 | 36.38570 | 87.90427 | 16.34344 | 65.27101 |  77.22408 | 40.48823 |  0.00000 | 64.17805 | 55.58043 |\n",
       "| 14 | 40.031125 | 31.789145 |  85.39332 |  36.76833 | 44.484729 | 26.52054 | 57.32545 | 26.90090 | 64.86025 | 66.09844 |  20.63123 | 42.96792 | 64.17805 |  0.00000 | 36.88413 |\n",
       "| 15 | 13.587495 | 15.766860 |  52.03564 |  67.71652 | 21.276327 | 35.77070 | 70.26683 | 44.49304 | 65.31527 | 29.21670 |  57.50662 | 60.40610 | 55.58043 | 36.88413 |  0.00000 |\n",
       "\n"
      ],
      "text/plain": [
       "   1         2         3         4         5         6        7        8       \n",
       "1   0.000000  8.891679  59.92142  74.75667  7.732892 46.52111 82.08042 38.60905\n",
       "2   8.891679  0.000000  66.55172  67.39895 12.871370 41.94162 77.90966 30.43621\n",
       "3  59.921419 66.551725   0.00000 105.99245 64.491501 70.06711 89.34702 96.46221\n",
       "4  74.756666 67.398953 105.99245   0.00000 80.270298 36.09684 37.36820 59.80122\n",
       "5   7.732892 12.871370  64.49150  80.27030  0.000000 53.64991 89.40671 38.14439\n",
       "6  46.521111 41.941618  70.06711  36.09684 53.649912  0.00000 35.97689 51.98336\n",
       "7  82.080419 77.909658  89.34702  37.36820 89.406712 35.97689  0.00000 84.22396\n",
       "8  38.609050 30.436214  96.46221  59.80122 38.144389 51.98336 84.22396  0.00000\n",
       "9  78.574987 76.746632  71.62434  55.99191 86.292273 38.75800 22.20464 90.74122\n",
       "10 31.291491 39.530557  32.19165  95.41646 33.967750 60.75635 90.73916 69.84654\n",
       "11 59.672644 51.012809 105.27601  27.75536 63.137934 40.04742 60.29158 34.16748\n",
       "12 71.095826 65.970995  87.75489  25.11729 78.068441 24.68848 14.78528 69.80578\n",
       "13 69.164927 69.014044  55.31130  64.57437 76.851932 37.96391 36.38570 87.90427\n",
       "14 40.031125 31.789145  85.39332  36.76833 44.484729 26.52054 57.32545 26.90090\n",
       "15 13.587495 15.766860  52.03564  67.71652 21.276327 35.77070 70.26683 44.49304\n",
       "   9        10       11        12       13       14       15      \n",
       "1  78.57499 31.29149  59.67264 71.09583 69.16493 40.03112 13.58750\n",
       "2  76.74663 39.53056  51.01281 65.97099 69.01404 31.78915 15.76686\n",
       "3  71.62434 32.19165 105.27601 87.75489 55.31130 85.39332 52.03564\n",
       "4  55.99191 95.41646  27.75536 25.11729 64.57437 36.76833 67.71652\n",
       "5  86.29227 33.96775  63.13793 78.06844 76.85193 44.48473 21.27633\n",
       "6  38.75800 60.75635  40.04742 24.68848 37.96391 26.52054 35.77070\n",
       "7  22.20464 90.73916  60.29158 14.78528 36.38570 57.32545 70.26683\n",
       "8  90.74122 69.84654  34.16748 69.80578 87.90427 26.90090 44.49304\n",
       "9   0.00000 79.41427  73.84748 30.87540 16.34344 64.86025 65.31527\n",
       "10 79.41427  0.00000  86.71450 83.96624 65.27101 66.09844 29.21670\n",
       "11 73.84748 86.71450   0.00000 45.70015 77.22408 20.63123 57.50662\n",
       "12 30.87540 83.96624  45.70015  0.00000 40.48823 42.96792 60.40610\n",
       "13 16.34344 65.27101  77.22408 40.48823  0.00000 64.17805 55.58043\n",
       "14 64.86025 66.09844  20.63123 42.96792 64.17805  0.00000 36.88413\n",
       "15 65.31527 29.21670  57.50662 60.40610 55.58043 36.88413  0.00000"
      ]
     },
     "metadata": {},
     "output_type": "display_data"
    }
   ],
   "source": [
    "#the distance matrix of the instance \n",
    "vertices_mat <- as.matrix(as.TSP(dataETSP))\n",
    "vertices_mat"
   ]
  },
  {
   "cell_type": "code",
   "execution_count": 44,
   "metadata": {},
   "outputs": [
    {
     "data": {
      "image/png": "[encoded data removed]",
      "text/plain": [
       "plot without title"
      ]
     },
     "metadata": {
      "image/png": {
       "height": 420,
       "width": 420
      },
      "text/plain": {
       "height": 420,
       "width": 420
      }
     },
     "output_type": "display_data"
    }
   ],
   "source": [
    "#the plot of the TSP instance\n",
    "plot(dataETSP, xlim=c(0,100),ylim=c(0,100))"
   ]
  },
  {
   "cell_type": "code",
   "execution_count": 45,
   "metadata": {},
   "outputs": [
    {
     "name": "stdout",
     "output_type": "stream",
     "text": [
      "Used control parameters:\n",
      "clo\t =  \n",
      "exe\t =  /home/LC/mailo01/concorde/TSP/concorde\n",
      "precision\t =  6\n",
      "verbose\t =  TRUE\n",
      "keep_files\t =  FALSE\n",
      "[1] \"processing time\"\n"
     ]
    },
    {
     "data": {
      "text/plain": [
       "Time difference of 0.09373498 secs"
      ]
     },
     "metadata": {},
     "output_type": "display_data"
    },
    {
     "name": "stdout",
     "output_type": "stream",
     "text": [
      "[1] \"tour_length\"\n"
     ]
    },
    {
     "data": {
      "text/html": [
       "370.753794457424"
      ],
      "text/latex": [
       "370.753794457424"
      ],
      "text/markdown": [
       "370.753794457424"
      ],
      "text/plain": [
       "[1] 370.7538"
      ]
     },
     "metadata": {},
     "output_type": "display_data"
    },
    {
     "data": {
      "image/png": "[encoded data removed]",
      "text/plain": [
       "plot without title"
      ]
     },
     "metadata": {
      "image/png": {
       "height": 420,
       "width": 420
      },
      "text/plain": {
       "height": 420,
       "width": 420
      }
     },
     "output_type": "display_data"
    }
   ],
   "source": [
    "#Concorde Solver with the optimal solution\n",
    "start_time <- Sys.time()\n",
    "dataTSP <- as.TSP(dataETSP)\n",
    "concorde_tour<- solve_TSP(dataTSP, method=\"concorde\")\n",
    "end_time <- Sys.time()\n",
    "concorde_time <- end_time - start_time\n",
    "concorde_result <- tour_length(concorde_tour,dataETSP)\n",
    "\n",
    "print(\"processing time\")\n",
    "concorde_time\n",
    "print(\"tour_length\")\n",
    "concorde_result\n",
    "\n",
    "plot(dataETSP, concorde_tour)"
   ]
  },
  {
   "cell_type": "code",
   "execution_count": 46,
   "metadata": {
    "scrolled": true
   },
   "outputs": [
    {
     "data": {
      "image/png": "[encoded data removed]",
      "text/plain": [
       "plot without title"
      ]
     },
     "metadata": {
      "image/png": {
       "height": 420,
       "width": 420
      },
      "text/plain": {
       "height": 420,
       "width": 420
      }
     },
     "output_type": "display_data"
    }
   ],
   "source": [
    "library(\"hash\")\n",
    "library(\"sets\")\n",
    "\n",
    "pointSet <- hash()\n",
    "noPts <- length(dataETSP)/2\n",
    "horizontal_based <- list()\n",
    "vertical_based <-list()\n",
    "\n",
    "#visualization of neighborhoods\n",
    "radius <- 11\n",
    "plot(dataETSP,xlim=c(0,100), ylim=c(0,100), pch=20)\n",
    "symbols(dataETSP, circles=rep(radius,noPts), add=T, inches=F)"
   ]
  },
  {
   "cell_type": "code",
   "execution_count": 47,
   "metadata": {
    "scrolled": true
   },
   "outputs": [
    {
     "name": "stdout",
     "output_type": "stream",
     "text": [
      "[1] \"preparing necessary data\"\n",
      "[1] \"total time to pre process data\"\n",
      "Time difference of 0.02335978 secs\n",
      "[1] \"begin clustering vertices based on given radius\"\n",
      "[1] \"finished clustering. Total processing time: \"\n",
      "Time difference of 0.04680538 secs\n",
      "[1] \"number of branches in tree\"\n",
      "[1] 9\n",
      "[1] \"generating new tsp instances\"\n",
      "[1] \"cluster TSP generated. Total processing time\"\n",
      "Time difference of 0.03712106 secs\n",
      "[1] \"solving the cluster-based TSP\"\n",
      "Used control parameters:\n",
      "clo\t =  \n",
      "exe\t =  /home/LC/mailo01/concorde/TSP/concorde\n",
      "precision\t =  6\n",
      "verbose\t =  TRUE\n",
      "keep_files\t =  FALSE\n"
     ]
    },
    {
     "name": "stderr",
     "output_type": "stream",
     "text": [
      "Warning message in .prepare_dist_concorde(x, MAX, control$precision):\n",
      "“Concorde/Linken can only handle distances represented as integers. Converting the provided distances to integers with precison 2. This may lead to rounding errors.”\n"
     ]
    },
    {
     "name": "stdout",
     "output_type": "stream",
     "text": [
      "[1] \"cluster tour solved. Total processing time\"\n",
      "Time difference of 0.02606058 secs\n",
      "[1] \" computing suitable endpoints\"\n",
      "[1] \"end points determined. total processing time\"\n",
      "Time difference of 0.003418684 secs\n",
      "[1] \"solving for ALL sub cases\"\n",
      "[1] \"subcase\"\n",
      "[1] 1\n",
      "[1] \"generating TSP instance for sub case\"\n"
     ]
    },
    {
     "name": "stderr",
     "output_type": "stream",
     "text": [
      "Warning message in matrix(const, ncol = p + n, nrow = n, dimnames = list(label, :\n",
      "“data length [4] is not a sub-multiple or multiple of the number of columns [5]”\n"
     ]
    },
    {
     "name": "stdout",
     "output_type": "stream",
     "text": [
      "[1] \"using concorde solver.\"\n",
      "[1] \"done. append the current solution\"\n",
      "[1] \"subcase\"\n",
      "[1] 2\n",
      "[1] \"trivial. number of points smaller or equal 2\"\n",
      "[1] \"subcase\"\n",
      "[1] 3\n",
      "[1] \"trivial. number of points smaller or equal 2\"\n",
      "[1] \"subcase\"\n",
      "[1] 4\n",
      "[1] \"trivial. number of points smaller or equal 2\"\n",
      "[1] \"subcase\"\n",
      "[1] 5\n",
      "[1] \"trivial. number of points smaller or equal 2\"\n",
      "[1] \"subcase\"\n",
      "[1] 6\n",
      "[1] \"trivial. number of points smaller or equal 2\"\n",
      "[1] \"subcase\"\n",
      "[1] 7\n",
      "[1] \"trivial. number of points smaller or equal 2\"\n",
      "[1] \"subcase\"\n",
      "[1] 8\n",
      "[1] \"trivial. number of points smaller or equal 2\"\n",
      "[1] \"subcase\"\n",
      "[1] 9\n",
      "[1] \"trivial. number of points smaller or equal 2\"\n",
      "[1] \"all subcases are solved. Total processing time\"\n",
      "Time difference of 0.08552074 secs\n",
      "[1] \"merging\"\n",
      " [1] 15  1  5  2  8 11 14  6  4 12  7  9 13  3 10\n",
      "Time difference of 0.0008683205 secs\n",
      "[1] \"process ends. Total time\"\n",
      "Time difference of 0.2231545 secs\n"
     ]
    }
   ],
   "source": [
    "#main program\n",
    "\n",
    "#terminology:\n",
    "#neighborhood = cluster = branch\n",
    "#current_tree = \"the set of all neighborhoods\" (a list of lists)\n",
    "\n",
    "print(\"preparing necessary data\")\n",
    "start_time <- Sys.time()\n",
    "for (i in 1:noPts){\n",
    "    pointSet[[toString(i)]] <- tuple(dataETSP[i], dataETSP[i+noPts])\n",
    "    element <- list(i, dataETSP[[i]],dataETSP[[i+noPts]])\n",
    "    horizontal_based <- append( horizontal_based, list(element))\n",
    "    vertical_based <- append(vertical_based, list(element))\n",
    "}\n",
    "#sorting the points in term of x and y axis. This step speeds up the process of identifying neighbors by only checking the candidates in the box instead of every points possible.\n",
    "#the box is a 2*r by 2*r square that has the center at the point we are considering. \n",
    "horizontal_based <- horizontal_based[order(sapply(horizontal_based, '[[', 2))]\n",
    "vertical_based <- vertical_based[order(sapply(vertical_based,'[[',3))]\n",
    "vertices_mat <- as.matrix(as.TSP(dataETSP))\n",
    "checklist <-(c(1:noPts))\n",
    "end_time <-Sys.time()\n",
    "print(\"total time to pre process data\")\n",
    "add<- end_time - start_time\n",
    "total<-  add\n",
    "print(add)\n",
    "\n",
    "#identify neighborhoods\n",
    "print(\"begin identifying neighborhoods based on given radius\")\n",
    "start_time <- Sys.time()\n",
    "current_tree <- identify_neighborhood(checklist, pointSet,horizontal_based, vertical_based)\n",
    "end_time <- Sys.time()\n",
    "\n",
    "print(\"finished finding neighborhoods. Total processing time: \")\n",
    "add<- end_time - start_time\n",
    "total<- total + add\n",
    "print(add)\n",
    "\n",
    "#Concorde Solver will not solve instance with 2 points. Needs implementation for 2pt scenario\n",
    "branch_no <- length(current_tree)\n",
    "print(\"total number of neighborhood\")\n",
    "print(branch_no)\n",
    "if (branch_no <= 2){\n",
    "    print(\"number of neighborhoods smaller or equal 2. Concorde Solver will halt\")\n",
    "    cont <- FALSE\n",
    "} else {\n",
    "    print(\"generating neighborhoods' TSP instance\")\n",
    "    print(\"this step needs improvement since it usually takes 90+% of processing time\")\n",
    "    start_time <- Sys.time()\n",
    "    cluster_mat <- matrix(rep(0,branch_no^2),nrow=branch_no)\n",
    "\n",
    "    #generating distance matrix and storing information of endpoints in each neighborhood\n",
    "    connections <- hash()\n",
    "\n",
    "    for (branch_index in 1:branch_no){\n",
    "        #other branches to be compared to\n",
    "            for (branch_compare_ind in 1:length(current_tree)){\n",
    "                if (has.key(sprintf(\"%s-%s\",branch_index,branch_compare_ind),connections) == FALSE){\n",
    "\n",
    "                if (branch_index != branch_compare_ind){\n",
    "                    minimum_dist <- Inf\n",
    "                    connect_pts <- NULL\n",
    "\n",
    "                    for (vertex in current_tree[[branch_index]]){\n",
    "                        \n",
    "                        for (vertex_compare in current_tree[[branch_compare_ind]]){\n",
    "                            if (minimum_dist == Inf){\n",
    "                                minimum_dist <- vertices_mat[vertex, vertex_compare]\n",
    "                                connect_pts <- list(vertex, vertex_compare)\n",
    "                            } else{\n",
    "                                distance <- vertices_mat[vertex, vertex_compare]\n",
    "                                if (distance <= minimum_dist){\n",
    "                                    minimum_dist <- distance\n",
    "                                    connect_pts <- list(vertex, vertex_compare)\n",
    "                                } \n",
    "                            }\n",
    "                        } \n",
    "                    }\n",
    "\n",
    "                    connections[[sprintf(\"%s-%s\",branch_index,branch_compare_ind)]] <-  tuple(connect_pts[[1]],connect_pts[[2]])\n",
    "                    connections[[sprintf(\"%s-%s\",branch_compare_ind,branch_index)]] <-  tuple(connect_pts[[2]],connect_pts[[1]])\n",
    "                    #append distances to matrix\n",
    "                    cluster_mat[branch_index,branch_compare_ind] <- minimum_dist\n",
    "                    cluster_mat[branch_compare_ind,branch_index] <- minimum_dist\n",
    "\n",
    "\n",
    "                }\n",
    "            }\n",
    "        }\n",
    "    }\n",
    "    \n",
    "    \n",
    "    tsp_cluster <- as.TSP(cluster_mat)\n",
    "    end_time <- Sys.time()\n",
    "    \n",
    "    print(\"neighborhoods' TSP generated. Total processing time\")\n",
    "    add<- end_time - start_time\n",
    "    total<- total + add\n",
    "    print(add)\n",
    "    \n",
    "    #solving neighborhood tour\n",
    "    print(\"solving the neighborhood's TSP\")\n",
    "    start_time <- Sys.time()\n",
    "    cluster_tour <- solve_TSP(tsp_cluster, method=\"concorde\")\n",
    "    end_time <- Sys.time()\n",
    "    print(\"solved. Total processing time\")\n",
    "    add<- end_time - start_time\n",
    "    total<- total + add\n",
    "    print(add)\n",
    "    \n",
    "    #choosing non conflicting end points\n",
    "    print(\"choosing suitable endpoints\")\n",
    "    start_time <- Sys.time()\n",
    "    end_points_list<- end_points_det(cluster_tour, connections)\n",
    "    end_time <- Sys.time()\n",
    "    print(\"determined. total processing time\")\n",
    "    add<- end_time - start_time\n",
    "    total<- total + add\n",
    "    print(add)\n",
    "    \n",
    "    # solving tour for each neighborhood with corresponding end points\n",
    "    print(\"solving for each neighborhood's tour\")\n",
    "    start_time <- Sys.time()\n",
    "\n",
    "    all_solutions <- list()\n",
    "    for (branchNo in 1:length(current_tree)){\n",
    "        print(\"subcase\")\n",
    "        print(branchNo)\n",
    "        pts  <- data.frame(x=c(), y=c())\n",
    "        if ( length(current_tree[[branchNo]]) <=2){\n",
    "            print(\"trivial. number of points smaller or equal 2\")\n",
    "            if (length(current_tree[[branchNo]]) == 1){\n",
    "\n",
    "                all_solutions <- append(all_solutions, list(list(1)))\n",
    "            }\n",
    "\n",
    "            if (length(current_tree[[branchNo]]) == 2){\n",
    "                all_solutions <- append(all_solutions, list(list(2,1)))\n",
    "            }\n",
    "\n",
    "        }else{\n",
    "            \n",
    "            end_points <- end_points_list[[toString(branchNo)]]\n",
    "            end_points_pos <-list()\n",
    "            \n",
    "            print(\"generating TSP instance for sub case\")\n",
    "            for (pt in current_tree[[branchNo]]){\n",
    "                if (pt %in% end_points){\n",
    "                    end_points_pos <- append(end_points_pos, match(pt,current_tree[[branchNo]] ))\n",
    "                }\n",
    "                pt_data <- values(pointSet, keys=pt)\n",
    "                pts <- rbind(pts, c(pt_data[[1]],pt_data[2]))           \n",
    "\n",
    "            }\n",
    "            tsp_subcase <- TSP(dist(pts))\n",
    "            end_points <- end_points_list[[toString(branchNo)]]\n",
    "            \n",
    "            \n",
    "            tsp_subcase <- add_end_points(tsp_subcase, end_points_pos)\n",
    "\n",
    "            \n",
    "            print(\"using concorde solver.\")\n",
    "            cont <- TRUE\n",
    "            while (cont == TRUE){\n",
    "                tour <-  solve_TSP(tsp_subcase)\n",
    "                if (tour_length(tour, tsp_subcase) != Inf){\n",
    "                    cont <- FALSE\n",
    "                }\n",
    "            }\n",
    "            print(\"done. append the current solution\")\n",
    "\n",
    "            all_solutions <- append(all_solutions, list(as.list(as.integer(tour))))\n",
    "        }\n",
    "    }\n",
    "    end_time <- Sys.time()\n",
    "    print(\"all individual neighborhood's tour are solved. Total processing time\")\n",
    "    add<- end_time - start_time\n",
    "    total<- total + add\n",
    "    print(add)\n",
    "    \n",
    "    #merging tours in each neighborhoods according to neighborhood tour\n",
    "    print(\"merging\") \n",
    "    start_time <- Sys.time()\n",
    "    to_global_subtours <- to_global(all_solutions, current_tree)\n",
    "    all_subtours <- filter_before_merge(to_global_subtours,end_points_list)\n",
    "    merged_tour <-merge_all(all_subtours, cluster_tour)\n",
    "    end_time <- Sys.time()\n",
    "    add<- end_time - start_time\n",
    "    total<- total + add\n",
    "    print(add)\n",
    "    print(\"process ends. Total time\")\n",
    "    print(total)\n",
    "}\n",
    "\n"
   ]
  },
  {
   "cell_type": "code",
   "execution_count": 48,
   "metadata": {
    "scrolled": false
   },
   "outputs": [
    {
     "name": "stdout",
     "output_type": "stream",
     "text": [
      "[1] \"evaluation of result: \"\n",
      "[1] \"the ratio of this heuristics result over concorde result is: \"\n"
     ]
    },
    {
     "data": {
      "text/html": [
       "1.01742553346295"
      ],
      "text/latex": [
       "1.01742553346295"
      ],
      "text/markdown": [
       "1.01742553346295"
      ],
      "text/plain": [
       "[1] 1.017426"
      ]
     },
     "metadata": {},
     "output_type": "display_data"
    },
    {
     "name": "stdout",
     "output_type": "stream",
     "text": [
      "[1] \"the absolute value of the difference between 2 results\"\n"
     ]
    },
    {
     "data": {
      "text/html": [
       "6.46058265183285"
      ],
      "text/latex": [
       "6.46058265183285"
      ],
      "text/markdown": [
       "6.46058265183285"
      ],
      "text/plain": [
       "[1] 6.460583"
      ]
     },
     "metadata": {},
     "output_type": "display_data"
    },
    {
     "name": "stdout",
     "output_type": "stream",
     "text": [
      "[1] \"the time it takes for the heuristic method is \"\n"
     ]
    },
    {
     "data": {
      "text/plain": [
       "Time difference of 0.2231545 secs"
      ]
     },
     "metadata": {},
     "output_type": "display_data"
    },
    {
     "name": "stdout",
     "output_type": "stream",
     "text": [
      "[1] \"the time it takes for the concorde solver is \"\n"
     ]
    },
    {
     "data": {
      "text/plain": [
       "Time difference of 0.09373498 secs"
      ]
     },
     "metadata": {},
     "output_type": "display_data"
    },
    {
     "name": "stdout",
     "output_type": "stream",
     "text": [
      "[1] \"this is the plot of the heuristic produced tour: \"\n"
     ]
    },
    {
     "data": {
      "image/png": "[encoded data removed]",
      "text/plain": [
       "plot without title"
      ]
     },
     "metadata": {
      "image/png": {
       "height": 420,
       "width": 420
      },
      "text/plain": {
       "height": 420,
       "width": 420
      }
     },
     "output_type": "display_data"
    }
   ],
   "source": [
    "print(\"evaluation of result: \")\n",
    "print(\"the ratio of this heuristics result over concorde result is: \")\n",
    "tour_length(as.TOUR(merged_tour),dataETSP)/concorde_result\n",
    "\n",
    "print(\"the absolute value of the difference between 2 results\")\n",
    "tour_length(as.TOUR(merged_tour),dataETSP) - concorde_result\n",
    "\n",
    "print(\"the time it takes for the heuristic method is \")\n",
    "total\n",
    "print(\"the time it takes for the concorde solver is \")\n",
    "concorde_time\n",
    "\n",
    "print(\"this is the plot of the heuristic produced tour: \")\n",
    "plot(dataETSP, as.TOUR(merged_tour),xlim=c(0,100), ylim=c(0,100))\n"
   ]
  },
  {
   "cell_type": "code",
   "execution_count": 38,
   "metadata": {},
   "outputs": [
    {
     "data": {
      "text/html": [
       "<style>\n",
       ".dl-inline {width: auto; margin:0; padding: 0}\n",
       ".dl-inline>dt, .dl-inline>dd {float: none; width: auto; display: inline-block}\n",
       ".dl-inline>dt::after {content: \":\\0020\"; padding-right: .5ex}\n",
       ".dl-inline>dt:not(:first-of-type) {padding-left: .5ex}\n",
       "</style><dl class=dl-inline><dt>1</dt><dd>1</dd><dt>5</dt><dd>5</dd><dt>2</dt><dd>2</dd><dt>3</dt><dd>3</dd><dt>4</dt><dd>4</dd></dl>\n"
      ],
      "text/latex": [
       "\\begin{description*}\n",
       "\\item[1] 1\n",
       "\\item[5] 5\n",
       "\\item[2] 2\n",
       "\\item[3] 3\n",
       "\\item[4] 4\n",
       "\\end{description*}\n"
      ],
      "text/markdown": [
       "1\n",
       ":   15\n",
       ":   52\n",
       ":   23\n",
       ":   34\n",
       ":   4\n",
       "\n"
      ],
      "text/plain": [
       "object of class ‘TOUR’ \n",
       "result of method ‘concorde’ for 5 cities\n",
       "tour length: 157.6147 "
      ]
     },
     "metadata": {},
     "output_type": "display_data"
    }
   ],
   "source": [
    "cluster_tour"
   ]
  },
  {
   "cell_type": "code",
   "execution_count": 39,
   "metadata": {},
   "outputs": [
    {
     "data": {
      "text/html": [
       "<ol>\n",
       "\t<li><ol>\n",
       "\t<li>1</li>\n",
       "\t<li>13</li>\n",
       "\t<li>15</li>\n",
       "\t<li>14</li>\n",
       "\t<li>8</li>\n",
       "\t<li>12</li>\n",
       "\t<li>3</li>\n",
       "</ol>\n",
       "</li>\n",
       "\t<li><ol>\n",
       "\t<li>2</li>\n",
       "</ol>\n",
       "</li>\n",
       "\t<li><ol>\n",
       "\t<li>4</li>\n",
       "\t<li>11</li>\n",
       "\t<li>9</li>\n",
       "\t<li>6</li>\n",
       "</ol>\n",
       "</li>\n",
       "\t<li><ol>\n",
       "\t<li>5</li>\n",
       "\t<li>7</li>\n",
       "</ol>\n",
       "</li>\n",
       "\t<li><ol>\n",
       "\t<li>10</li>\n",
       "</ol>\n",
       "</li>\n",
       "</ol>\n"
      ],
      "text/latex": [
       "\\begin{enumerate}\n",
       "\\item \\begin{enumerate}\n",
       "\\item 1\n",
       "\\item 13\n",
       "\\item 15\n",
       "\\item 14\n",
       "\\item 8\n",
       "\\item 12\n",
       "\\item 3\n",
       "\\end{enumerate}\n",
       "\n",
       "\\item \\begin{enumerate}\n",
       "\\item 2\n",
       "\\end{enumerate}\n",
       "\n",
       "\\item \\begin{enumerate}\n",
       "\\item 4\n",
       "\\item 11\n",
       "\\item 9\n",
       "\\item 6\n",
       "\\end{enumerate}\n",
       "\n",
       "\\item \\begin{enumerate}\n",
       "\\item 5\n",
       "\\item 7\n",
       "\\end{enumerate}\n",
       "\n",
       "\\item \\begin{enumerate}\n",
       "\\item 10\n",
       "\\end{enumerate}\n",
       "\n",
       "\\end{enumerate}\n"
      ],
      "text/markdown": [
       "1. 1. 1\n",
       "2. 13\n",
       "3. 15\n",
       "4. 14\n",
       "5. 8\n",
       "6. 12\n",
       "7. 3\n",
       "\n",
       "\n",
       "\n",
       "2. 1. 2\n",
       "\n",
       "\n",
       "\n",
       "3. 1. 4\n",
       "2. 11\n",
       "3. 9\n",
       "4. 6\n",
       "\n",
       "\n",
       "\n",
       "4. 1. 5\n",
       "2. 7\n",
       "\n",
       "\n",
       "\n",
       "5. 1. 10\n",
       "\n",
       "\n",
       "\n",
       "\n",
       "\n"
      ],
      "text/plain": [
       "[[1]]\n",
       "[[1]][[1]]\n",
       "[1] 1\n",
       "\n",
       "[[1]][[2]]\n",
       "[1] 13\n",
       "\n",
       "[[1]][[3]]\n",
       "[1] 15\n",
       "\n",
       "[[1]][[4]]\n",
       "[1] 14\n",
       "\n",
       "[[1]][[5]]\n",
       "[1] 8\n",
       "\n",
       "[[1]][[6]]\n",
       "[1] 12\n",
       "\n",
       "[[1]][[7]]\n",
       "[1] 3\n",
       "\n",
       "\n",
       "[[2]]\n",
       "[[2]][[1]]\n",
       "[1] 2\n",
       "\n",
       "\n",
       "[[3]]\n",
       "[[3]][[1]]\n",
       "[1] 4\n",
       "\n",
       "[[3]][[2]]\n",
       "[1] 11\n",
       "\n",
       "[[3]][[3]]\n",
       "[1] 9\n",
       "\n",
       "[[3]][[4]]\n",
       "[1] 6\n",
       "\n",
       "\n",
       "[[4]]\n",
       "[[4]][[1]]\n",
       "[1] 5\n",
       "\n",
       "[[4]][[2]]\n",
       "[1] 7\n",
       "\n",
       "\n",
       "[[5]]\n",
       "[[5]][[1]]\n",
       "[1] 10\n",
       "\n"
      ]
     },
     "metadata": {},
     "output_type": "display_data"
    }
   ],
   "source": [
    "current_tree"
   ]
  },
  {
   "cell_type": "code",
   "execution_count": null,
   "metadata": {},
   "outputs": [],
   "source": []
  },
  {
   "cell_type": "code",
   "execution_count": null,
   "metadata": {},
   "outputs": [],
   "source": []
  },
  {
   "cell_type": "code",
   "execution_count": null,
   "metadata": {},
   "outputs": [],
   "source": []
  }
 ],
 "metadata": {
  "kernelspec": {
   "display_name": "R",
   "language": "R",
   "name": "ir"
  },
  "language_info": {
   "codemirror_mode": "r",
   "file_extension": ".r",
   "mimetype": "text/x-r-source",
   "name": "R",
   "pygments_lexer": "r",
   "version": "4.0.2"
  }
 },
 "nbformat": 4,
 "nbformat_minor": 4
}
