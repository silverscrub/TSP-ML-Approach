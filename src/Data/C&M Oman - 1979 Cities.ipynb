{
 "cells": [
  {
   "cell_type": "code",
   "execution_count": 57,
   "metadata": {},
   "outputs": [
    {
     "name": "stdout",
     "output_type": "stream",
     "text": [
      "found: concorde concorde.c concorde.o \n"
     ]
    }
   ],
   "source": [
    "library(\"TSP\")\n",
    "concorde_path(\"~/concorde/TSP\")\n",
    "\n",
    "\n",
    "\n",
    "\n",
    "dataETSP <- read_TSPLIB(\"/home/LC/mailo01/TSP-ML-Approach/src/R/CLUSTER_DIV/mu1979.tsp\")\n"
   ]
  },
  {
   "cell_type": "code",
   "execution_count": 58,
   "metadata": {},
   "outputs": [
    {
     "name": "stdout",
     "output_type": "stream",
     "text": [
      "Used control parameters:\n",
      "clo\t =  \n",
      "exe\t =  /home/LC/mailo01/concorde/TSP/concorde\n",
      "precision\t =  6\n",
      "verbose\t =  TRUE\n",
      "keep_files\t =  FALSE\n"
     ]
    },
    {
     "name": "stderr",
     "output_type": "stream",
     "text": [
      "Warning message in .prepare_dist_concorde(x, MAX, control$precision):\n",
      "“Concorde/Linken can only handle distances represented as integers. Converting the provided distances to integers with precison 4. This may lead to rounding errors.”\n"
     ]
    }
   ],
   "source": [
    "start_time <- Sys.time()\n",
    "dataTSP <- as.TSP(dataETSP)\n",
    "concorde_tour<- solve_TSP(dataTSP, method=\"concorde\")\n",
    "end_time <- Sys.time()\n",
    "concorde_time <- end_time - start_time\n",
    "concorde_result <- tour_length(concorde_tour,dataETSP)\n",
    "print(\"processing time\")\n",
    "concorde_time\n",
    "print(\"tour_length\")\n",
    "concorde_result\n",
    "\n",
    "plot(dataETSP, concorde_tour)"
   ]
  },
  {
   "cell_type": "code",
   "execution_count": 8,
   "metadata": {},
   "outputs": [],
   "source": [
    "concorde_result <-86882.6\n",
    "concorde_time <- \"Time difference of 41.54333 mins\""
   ]
  },
  {
   "cell_type": "code",
   "execution_count": 3,
   "metadata": {},
   "outputs": [],
   "source": [
    "#function library\n",
    "\n",
    "dist_pts <- function(pt1,pt2){\n",
    "        return(sqrt((pt1[[1]]-pt2[[1]])^2 + (pt1[[2]]-pt2[[2]])^2))\n",
    "}\n",
    "\n",
    "angle <- function(x,y){\n",
    "  dot.prod <- x%*%y \n",
    "  norm.x <- norm(x,type=\"2\")\n",
    "  norm.y <- norm(y,type=\"2\")\n",
    "  theta <- acos(dot.prod / (norm.x * norm.y))\n",
    "  as.numeric(theta)\n",
    "}\n",
    "\n",
    "angle_pts <- function(pt1,pt2){\n",
    "    \n",
    "    if (pt1[[2]] -pt2[[2]] == 0){\n",
    "        if (pt1[[1]] -pt2[[1]]>0){\n",
    "            return(pi/2)\n",
    "        }\n",
    "        if (pt1[[1]] -pt2[[1]]<0){\n",
    "            return(-pi/2)\n",
    "        }\n",
    "        if (pt1[[1]] -pt2[[1]]==0){\n",
    "            return(0)\n",
    "        }\n",
    "    } else{\n",
    "        x<- pt1[[1]] -pt2[[1]]\n",
    "        y <-pt1[[2]] -pt2[[2]]\n",
    "        angle <- atan((y)/(x))\n",
    "        if (x < 0 & y>0){\n",
    "            angle <- pi + angle\n",
    "        }\n",
    "        if (x >0 & y <0){\n",
    "            angle <-2*pi +angle\n",
    "        }\n",
    "        if (x < 0 & y<0){\n",
    "            angle <- pi + angle\n",
    "        }\n",
    "        return(angle)\n",
    "        }\n",
    "}\n",
    "\n",
    "\n",
    "get_item <- function(item_to_get, database){\n",
    "    counter <-1\n",
    "    cont <- TRUE \n",
    "    while (counter <= length(database) & cont == TRUE){\n",
    "        data_pt <-database[[counter]]\n",
    "        if (data_pt[1] == item_to_get){\n",
    "            return(data_pt)\n",
    "            cont <- FALSE\n",
    "        }\n",
    "        counter <- counter +1\n",
    "    }\n",
    "}\n",
    "\n",
    "get_pts_range_hor<- function(lower_bound, higher_bound, database){\n",
    "    cont = TRUE\n",
    "    counter <-1\n",
    "    eligible_vertices <-list()\n",
    "    while (counter <= length(database) & cont ==TRUE){\n",
    "        value <- database[[counter]]\n",
    "        \n",
    "        if (value[[2]] >= lower_bound & value[[2]]<= higher_bound){\n",
    "            eligible_vertices <- append(eligible_vertices, value[[1]])\n",
    "        }\n",
    "        if (value[[2]]> higher_bound){\n",
    "            cont <- FALSE\n",
    "        }\n",
    "        counter <- counter +1\n",
    "    }\n",
    "    return(eligible_vertices)\n",
    "}\n",
    "\n",
    "\n",
    "get_pts_range_vert<- function(lower_bound, higher_bound, database){\n",
    "    cont = TRUE\n",
    "    counter <-1\n",
    "    eligible_vertices <-list()\n",
    "    while (counter <= length(database) & cont ==TRUE){\n",
    "        value <- database[[counter]]\n",
    "        \n",
    "        if (value[[3]] >= lower_bound & value[[3]]<= higher_bound){\n",
    "            eligible_vertices <- append(eligible_vertices, value[[1]])\n",
    "        }\n",
    "        if (value[[3]]> higher_bound){\n",
    "            cont <- FALSE\n",
    "        }\n",
    "        counter <- counter +1\n",
    "    }\n",
    "    return(eligible_vertices)\n",
    "}\n",
    "\n",
    "\n",
    "get_possible_pts <- function(x_current,y_current,radius, horizontal_based, vertical_based, done){\n",
    "    horizontal_eligible <- get_pts_range_hor(x_current - 2*radius, x_current + 2*radius, horizontal_based)\n",
    "    vertical_eligible <- get_pts_range_vert(y_current - 2*radius, y_current + 2*radius, vertical_based)\n",
    "\n",
    "    \n",
    "    eligible <- intersect(horizontal_eligible, vertical_eligible)\n",
    "    eligible<- eligible[!eligible %in% done]\n",
    "    \n",
    "    return(eligible)\n",
    "}\n",
    "\n",
    "\n",
    "add_data_mat <- function(cluster1_pos,cluster2_pos,value, mat){\n",
    "    position1 <- (cluster1_pos -1)*nrow(mat) + cluster2_pos\n",
    "    position2 <- (cluster2_pos -1)*nrow(mat) + cluster1_pos\n",
    "    mat[[position1]] <- value\n",
    "    mat[[position2]] <- value\n",
    "    return(mat)\n",
    "}\n",
    "\n",
    "\n",
    "choose_new_edge <- function(forward_edge, backward_edge, main){\n",
    "\n",
    "    f_vertex <- forward_edge[[2]]\n",
    "    b_vertex <- backward_edge[[1]]\n",
    "    \n",
    "    common <- forward_edge[[1]]\n",
    "    compare <- current_tree[[main]]\n",
    "    \n",
    "    f_min <- Inf\n",
    "    f_replace <- NULL\n",
    "    b_min <- Inf\n",
    "    b_replace <- NULL\n",
    "    \n",
    "    vPt_f <-values(pointSet, keys=f_vertex) \n",
    "    vPt_b <-values(pointSet, keys=b_vertex) \n",
    "    \n",
    "    \n",
    "    for (vertex in compare){\n",
    "        vPt_c <-values(pointSet, keys =vertex)\n",
    "        if (vertex != common){\n",
    "            \n",
    "            if (f_min == Inf){\n",
    "                f_min <- dist_pts(vPt_f , vPt_c)\n",
    "                b_min <- dist_pts(vPt_b, vPt_c)\n",
    "                f_replace<-vertex\n",
    "                b_replace<-vertex\n",
    "                \n",
    "                \n",
    "            } else {\n",
    "                dist_f <-dist_pts(vPt_f , vPt_c) \n",
    "                if (dist_f < f_min){\n",
    "                    f_min <- dist_f\n",
    "                    f_replace <- vertex\n",
    "                } \n",
    "                \n",
    "                dist_b <- dist_pts(vPt_b , vPt_c)\n",
    "                if (dist_b < b_min){\n",
    "                    b_min <- dist_b\n",
    "                    b_replace <- vertex\n",
    "                }\n",
    "            }  \n",
    "        }\n",
    "    }\n",
    "    \n",
    "    if (f_min <= b_min){\n",
    "        return(list(\"f\", f_replace))\n",
    "    } else {\n",
    "        return(list(\"b\", b_replace))\n",
    "    }\n",
    "    \n",
    "}\n",
    "\n",
    "end_points_det <- function(cluster_tour, connections){\n",
    "    merge <- hash()\n",
    "    for (pt_index in 1:length(cluster_tour)){\n",
    "        main <-cluster_tour[[pt_index]]\n",
    "        \n",
    "        if (pt_index == length(cluster_tour)){\n",
    "            forward <- cluster_tour[[1]]\n",
    "            backward <- cluster_tour[[pt_index - 1]]\n",
    "            \n",
    "        } else {\n",
    "            if (pt_index == 1){\n",
    "                forward <- cluster_tour[[pt_index+1]]\n",
    "                backward <- cluster_tour[[length(cluster_tour)]]\n",
    "\n",
    "                \n",
    "            } else {\n",
    "                forward <- cluster_tour[[pt_index+1]]\n",
    "                backward <-cluster_tour[[pt_index-1]]\n",
    "\n",
    "                }\n",
    "        }\n",
    "        forward_edge <- connections[[sprintf(\"%s-%s\",main, forward)]]\n",
    "        backward_edge <- connections[[sprintf(\"%s-%s\",backward, main)]]\n",
    "        \n",
    "        if (forward_edge[[1]] == backward_edge[[2]]){\n",
    "            if (length(current_tree[[main]]) != 1){\n",
    "                compare_result <-  choose_new_edge(forward_edge, backward_edge, main)\n",
    "                if (compare_result[[1]] == \"f\"){\n",
    "                    forward_edge[[1]] <- compare_result[[2]]\n",
    "                    \n",
    "                } else {\n",
    "                    backward_edge[[2]] <- compare_result[[2]]\n",
    "                } \n",
    "            }\n",
    "        } \n",
    "        merge[[toString(main)]] <-list(backward_edge[[2]],forward_edge[[1]] )\n",
    "     \n",
    "    }\n",
    "    return(merge)\n",
    "}\n",
    "\n",
    "add_end_points <- function(tsp, end_points){\n",
    "    constant <- rep(c(Inf), nrow(as.matrix(tsp)) )\n",
    "    constant[[end_points[[1]]]] <- 0\n",
    "    constant[[end_points[[2]]]] <- 0\n",
    "    tsp <-insert_dummy(tsp, 1, const =constant, inf = Inf, label = \"dummy\")\n",
    "    return(tsp)\n",
    "}\n",
    "\n",
    "\n",
    "to_global <- function(tour_list, main){\n",
    "        \n",
    "        for (tour_index in 1:length(tour_list)){\n",
    "                for (vertex_index in 1:length(tour_list[[tour_index]])){\n",
    "                        vertex <- as.integer(tour_list[[tour_index]][vertex_index])\n",
    "                       \n",
    "                        tour_list[[tour_index]][vertex_index] <- main[[tour_index]][vertex]\n",
    "                }\n",
    "        }\n",
    "        return(tour_list)\n",
    "}\n",
    "\n",
    "filter_before_merge <- function(tour_list, end_points_list){\n",
    "    for (index in 1:length(tour_list)){\n",
    "        sol <- tour_list[[index]]\n",
    "        sol <- sol [lengths(sol) != 0]\n",
    "        old <- length(sol)\n",
    "        start <- end_points_list[[toString(index)]][[1]]\n",
    "        end <- end_points_list[[toString(index)]][[2]]\n",
    "        start_pos <- match(start, sol)\n",
    "        end_pos <- match(end, sol)\n",
    "\n",
    "        if (start_pos < end_pos){\n",
    "            if (start_pos != 1 | end_pos != length(sol)){\n",
    "                sol <- append(rev(sol[1:start_pos]), rev(sol[end_pos:length(sol)]))\n",
    "            } \n",
    "            \n",
    "        } else {\n",
    "            if (start_pos == length(sol) & end_pos == 1){\n",
    "                sol <- rev(sol)\n",
    "            } else {\n",
    "                sol <- append(rev(sol[1:end_pos]), rev(sol[start_pos:length(sol)]))\n",
    "                sol <- rev(sol)\n",
    "             }\n",
    "        }\n",
    "\n",
    "        if(old != length(sol)){\n",
    "            print(\"length mismatch, error occured in formatting\")\n",
    "            print(\"number of missing elements\")\n",
    "            print(old - length(sol))\n",
    "        }\n",
    "        \n",
    "        tour_list[[index]] <- sol\n",
    "    }\n",
    "    return(tour_list)\n",
    "} \n",
    "\n",
    "merge_all <- function(formatted_all_subtours, cluster_tour){\n",
    "    merged_tour <- list()\n",
    "    for (branch in cluster_tour){\n",
    "        merged_tour <- append(merged_tour, all_subtours[[branch]])\n",
    "    }\n",
    "    print(as.integer(merged_tour))\n",
    "    return(as.integer(merged_tour))\n",
    "}\n"
   ]
  },
  {
   "cell_type": "code",
   "execution_count": 51,
   "metadata": {
    "scrolled": true
   },
   "outputs": [
    {
     "data": {
      "image/png": "[encoded data removed]",
      "text/plain": [
       "plot without title"
      ]
     },
     "metadata": {
      "image/png": {
       "height": 420,
       "width": 420
      },
      "text/plain": {
       "height": 420,
       "width": 420
      }
     },
     "output_type": "display_data"
    }
   ],
   "source": [
    "library(\"hash\")\n",
    "library(\"sets\")\n",
    "\n",
    "pointSet <- hash()\n",
    "noPts <- length(dataETSP)/2\n",
    "horizontal_based <- list()\n",
    "vertical_based <-list()\n",
    "\n",
    "\n",
    "radius <- 23\n",
    "plot(dataETSP,xlim=c(17000,27000), ylim=c(51500,61500), pch=20)\n",
    "symbols(dataETSP, circles=rep(radius,noPts), add=T, inches=F)"
   ]
  },
  {
   "cell_type": "code",
   "execution_count": 52,
   "metadata": {
    "scrolled": true
   },
   "outputs": [
    {
     "name": "stdout",
     "output_type": "stream",
     "text": [
      "[1] \"preparing necessary data\"\n",
      "[1] \"total time to pre process data\"\n",
      "Time difference of 0.4379838 secs\n",
      "[1] \"begin clustering vertices based on given radius\"\n",
      "[1] \"finished clustering. Total processing time: \"\n",
      "Time difference of 11.42747 secs\n",
      "[1] \"number of branches in tree\"\n",
      "[1] 357\n",
      "[1] \"generating new tsp instances\"\n",
      "[1] \"cluster TSP generated. Total processing time\"\n",
      "Time difference of 2.162524 mins\n",
      "[1] \"solving the cluster-based TSP\"\n",
      "Used control parameters:\n",
      "clo\t =  \n",
      "exe\t =  /home/LC/mailo01/concorde/TSP/concorde\n",
      "precision\t =  6\n",
      "verbose\t =  TRUE\n",
      "keep_files\t =  FALSE\n"
     ]
    },
    {
     "name": "stderr",
     "output_type": "stream",
     "text": [
      "Warning message in .prepare_dist_concorde(x, MAX, control$precision):\n",
      "“Concorde/Linken can only handle distances represented as integers. Converting the provided distances to integers with precison 4. This may lead to rounding errors.”\n"
     ]
    },
    {
     "name": "stdout",
     "output_type": "stream",
     "text": [
      "[1] \"cluster tour solved. Total processing time\"\n",
      "Time difference of 14.92951 secs\n",
      "[1] \" computing suitable endpoints\"\n",
      "[1] \"end points determined. total processing time\"\n",
      "Time difference of 0.05039239 secs\n",
      "[1] \"solving for ALL sub cases\"\n",
      "[1] \"subcase\"\n",
      "[1] 1\n",
      "[1] \"trivial. number of points smaller or equal 2\"\n",
      "[1] \"subcase\"\n",
      "[1] 2\n",
      "[1] \"trivial. number of points smaller or equal 2\"\n",
      "[1] \"subcase\"\n",
      "[1] 3\n",
      "[1] \"trivial. number of points smaller or equal 2\"\n",
      "[1] \"subcase\"\n",
      "[1] 4\n",
      "[1] \"trivial. number of points smaller or equal 2\"\n",
      "[1] \"subcase\"\n",
      "[1] 5\n",
      "[1] \"trivial. number of points smaller or equal 2\"\n",
      "[1] \"subcase\"\n",
      "[1] 6\n",
      "[1] \"trivial. number of points smaller or equal 2\"\n",
      "[1] \"subcase\"\n",
      "[1] 7\n",
      "[1] \"generating TSP instance for sub case\"\n"
     ]
    },
    {
     "name": "stderr",
     "output_type": "stream",
     "text": [
      "Warning message in matrix(const, ncol = p + n, nrow = n, dimnames = list(label, :\n",
      "“data length [11] is not a sub-multiple or multiple of the number of columns [12]”\n"
     ]
    },
    {
     "name": "stdout",
     "output_type": "stream",
     "text": [
      "[1] \"using concorde solver.\"\n",
      "[1] \"done. append the current solution\"\n",
      "[1] \"subcase\"\n",
      "[1] 8\n",
      "[1] \"trivial. number of points smaller or equal 2\"\n",
      "[1] \"subcase\"\n",
      "[1] 9\n",
      "[1] \"trivial. number of points smaller or equal 2\"\n",
      "[1] \"subcase\"\n",
      "[1] 10\n",
      "[1] \"trivial. number of points smaller or equal 2\"\n",
      "[1] \"subcase\"\n",
      "[1] 11\n",
      "[1] \"trivial. number of points smaller or equal 2\"\n",
      "[1] \"subcase\"\n",
      "[1] 12\n",
      "[1] \"trivial. number of points smaller or equal 2\"\n",
      "[1] \"subcase\"\n",
      "[1] 13\n",
      "[1] \"generating TSP instance for sub case\"\n"
     ]
    },
    {
     "name": "stderr",
     "output_type": "stream",
     "text": [
      "Warning message in matrix(const, ncol = p + n, nrow = n, dimnames = list(label, :\n",
      "“data length [138] is not a sub-multiple or multiple of the number of columns [139]”\n"
     ]
    },
    {
     "name": "stdout",
     "output_type": "stream",
     "text": [
      "[1] \"using concorde solver.\"\n",
      "[1] \"done. append the current solution\"\n",
      "[1] \"subcase\"\n",
      "[1] 14\n",
      "[1] \"generating TSP instance for sub case\"\n"
     ]
    },
    {
     "name": "stderr",
     "output_type": "stream",
     "text": [
      "Warning message in matrix(const, ncol = p + n, nrow = n, dimnames = list(label, :\n",
      "“data length [3] is not a sub-multiple or multiple of the number of columns [4]”\n"
     ]
    },
    {
     "name": "stdout",
     "output_type": "stream",
     "text": [
      "[1] \"using concorde solver.\"\n",
      "[1] \"done. append the current solution\"\n",
      "[1] \"subcase\"\n",
      "[1] 15\n",
      "[1] \"trivial. number of points smaller or equal 2\"\n",
      "[1] \"subcase\"\n",
      "[1] 16\n",
      "[1] \"trivial. number of points smaller or equal 2\"\n",
      "[1] \"subcase\"\n",
      "[1] 17\n",
      "[1] \"trivial. number of points smaller or equal 2\"\n",
      "[1] \"subcase\"\n",
      "[1] 18\n",
      "[1] \"trivial. number of points smaller or equal 2\"\n",
      "[1] \"subcase\"\n",
      "[1] 19\n",
      "[1] \"trivial. number of points smaller or equal 2\"\n",
      "[1] \"subcase\"\n",
      "[1] 20\n",
      "[1] \"trivial. number of points smaller or equal 2\"\n",
      "[1] \"subcase\"\n",
      "[1] 21\n",
      "[1] \"generating TSP instance for sub case\"\n"
     ]
    },
    {
     "name": "stderr",
     "output_type": "stream",
     "text": [
      "Warning message in matrix(const, ncol = p + n, nrow = n, dimnames = list(label, :\n",
      "“data length [3] is not a sub-multiple or multiple of the number of columns [4]”\n"
     ]
    },
    {
     "name": "stdout",
     "output_type": "stream",
     "text": [
      "[1] \"using concorde solver.\"\n",
      "[1] \"done. append the current solution\"\n",
      "[1] \"subcase\"\n",
      "[1] 22\n",
      "[1] \"trivial. number of points smaller or equal 2\"\n",
      "[1] \"subcase\"\n",
      "[1] 23\n",
      "[1] \"trivial. number of points smaller or equal 2\"\n",
      "[1] \"subcase\"\n",
      "[1] 24\n",
      "[1] \"trivial. number of points smaller or equal 2\"\n",
      "[1] \"subcase\"\n",
      "[1] 25\n",
      "[1] \"trivial. number of points smaller or equal 2\"\n",
      "[1] \"subcase\"\n",
      "[1] 26\n",
      "[1] \"trivial. number of points smaller or equal 2\"\n",
      "[1] \"subcase\"\n",
      "[1] 27\n",
      "[1] \"trivial. number of points smaller or equal 2\"\n",
      "[1] \"subcase\"\n",
      "[1] 28\n",
      "[1] \"trivial. number of points smaller or equal 2\"\n",
      "[1] \"subcase\"\n",
      "[1] 29\n",
      "[1] \"trivial. number of points smaller or equal 2\"\n",
      "[1] \"subcase\"\n",
      "[1] 30\n",
      "[1] \"trivial. number of points smaller or equal 2\"\n",
      "[1] \"subcase\"\n",
      "[1] 31\n",
      "[1] \"trivial. number of points smaller or equal 2\"\n",
      "[1] \"subcase\"\n",
      "[1] 32\n",
      "[1] \"trivial. number of points smaller or equal 2\"\n",
      "[1] \"subcase\"\n",
      "[1] 33\n",
      "[1] \"trivial. number of points smaller or equal 2\"\n",
      "[1] \"subcase\"\n",
      "[1] 34\n",
      "[1] \"trivial. number of points smaller or equal 2\"\n",
      "[1] \"subcase\"\n",
      "[1] 35\n",
      "[1] \"trivial. number of points smaller or equal 2\"\n",
      "[1] \"subcase\"\n",
      "[1] 36\n",
      "[1] \"trivial. number of points smaller or equal 2\"\n",
      "[1] \"subcase\"\n",
      "[1] 37\n",
      "[1] \"trivial. number of points smaller or equal 2\"\n",
      "[1] \"subcase\"\n",
      "[1] 38\n",
      "[1] \"trivial. number of points smaller or equal 2\"\n",
      "[1] \"subcase\"\n",
      "[1] 39\n",
      "[1] \"trivial. number of points smaller or equal 2\"\n",
      "[1] \"subcase\"\n",
      "[1] 40\n",
      "[1] \"trivial. number of points smaller or equal 2\"\n",
      "[1] \"subcase\"\n",
      "[1] 41\n",
      "[1] \"trivial. number of points smaller or equal 2\"\n",
      "[1] \"subcase\"\n",
      "[1] 42\n",
      "[1] \"trivial. number of points smaller or equal 2\"\n",
      "[1] \"subcase\"\n",
      "[1] 43\n",
      "[1] \"trivial. number of points smaller or equal 2\"\n",
      "[1] \"subcase\"\n",
      "[1] 44\n",
      "[1] \"trivial. number of points smaller or equal 2\"\n",
      "[1] \"subcase\"\n",
      "[1] 45\n",
      "[1] \"trivial. number of points smaller or equal 2\"\n",
      "[1] \"subcase\"\n",
      "[1] 46\n",
      "[1] \"trivial. number of points smaller or equal 2\"\n",
      "[1] \"subcase\"\n",
      "[1] 47\n",
      "[1] \"trivial. number of points smaller or equal 2\"\n",
      "[1] \"subcase\"\n",
      "[1] 48\n",
      "[1] \"trivial. number of points smaller or equal 2\"\n",
      "[1] \"subcase\"\n",
      "[1] 49\n",
      "[1] \"trivial. number of points smaller or equal 2\"\n",
      "[1] \"subcase\"\n",
      "[1] 50\n",
      "[1] \"trivial. number of points smaller or equal 2\"\n",
      "[1] \"subcase\"\n",
      "[1] 51\n",
      "[1] \"trivial. number of points smaller or equal 2\"\n",
      "[1] \"subcase\"\n",
      "[1] 52\n",
      "[1] \"trivial. number of points smaller or equal 2\"\n",
      "[1] \"subcase\"\n",
      "[1] 53\n",
      "[1] \"trivial. number of points smaller or equal 2\"\n",
      "[1] \"subcase\"\n",
      "[1] 54\n",
      "[1] \"trivial. number of points smaller or equal 2\"\n",
      "[1] \"subcase\"\n",
      "[1] 55\n",
      "[1] \"trivial. number of points smaller or equal 2\"\n",
      "[1] \"subcase\"\n",
      "[1] 56\n",
      "[1] \"trivial. number of points smaller or equal 2\"\n",
      "[1] \"subcase\"\n",
      "[1] 57\n",
      "[1] \"trivial. number of points smaller or equal 2\"\n",
      "[1] \"subcase\"\n",
      "[1] 58\n",
      "[1] \"trivial. number of points smaller or equal 2\"\n",
      "[1] \"subcase\"\n",
      "[1] 59\n",
      "[1] \"trivial. number of points smaller or equal 2\"\n",
      "[1] \"subcase\"\n",
      "[1] 60\n",
      "[1] \"trivial. number of points smaller or equal 2\"\n",
      "[1] \"subcase\"\n",
      "[1] 61\n",
      "[1] \"trivial. number of points smaller or equal 2\"\n",
      "[1] \"subcase\"\n",
      "[1] 62\n",
      "[1] \"trivial. number of points smaller or equal 2\"\n",
      "[1] \"subcase\"\n",
      "[1] 63\n",
      "[1] \"trivial. number of points smaller or equal 2\"\n",
      "[1] \"subcase\"\n",
      "[1] 64\n",
      "[1] \"trivial. number of points smaller or equal 2\"\n",
      "[1] \"subcase\"\n",
      "[1] 65\n",
      "[1] \"trivial. number of points smaller or equal 2\"\n",
      "[1] \"subcase\"\n",
      "[1] 66\n",
      "[1] \"trivial. number of points smaller or equal 2\"\n",
      "[1] \"subcase\"\n",
      "[1] 67\n",
      "[1] \"trivial. number of points smaller or equal 2\"\n",
      "[1] \"subcase\"\n",
      "[1] 68\n",
      "[1] \"trivial. number of points smaller or equal 2\"\n",
      "[1] \"subcase\"\n",
      "[1] 69\n",
      "[1] \"trivial. number of points smaller or equal 2\"\n",
      "[1] \"subcase\"\n",
      "[1] 70\n",
      "[1] \"trivial. number of points smaller or equal 2\"\n",
      "[1] \"subcase\"\n",
      "[1] 71\n",
      "[1] \"trivial. number of points smaller or equal 2\"\n",
      "[1] \"subcase\"\n",
      "[1] 72\n",
      "[1] \"trivial. number of points smaller or equal 2\"\n",
      "[1] \"subcase\"\n",
      "[1] 73\n",
      "[1] \"generating TSP instance for sub case\"\n"
     ]
    },
    {
     "name": "stderr",
     "output_type": "stream",
     "text": [
      "Warning message in matrix(const, ncol = p + n, nrow = n, dimnames = list(label, :\n",
      "“data length [15] is not a sub-multiple or multiple of the number of columns [16]”\n"
     ]
    },
    {
     "name": "stdout",
     "output_type": "stream",
     "text": [
      "[1] \"using concorde solver.\"\n",
      "[1] \"done. append the current solution\"\n",
      "[1] \"subcase\"\n",
      "[1] 74\n",
      "[1] \"trivial. number of points smaller or equal 2\"\n",
      "[1] \"subcase\"\n",
      "[1] 75\n",
      "[1] \"trivial. number of points smaller or equal 2\"\n",
      "[1] \"subcase\"\n",
      "[1] 76\n",
      "[1] \"trivial. number of points smaller or equal 2\"\n",
      "[1] \"subcase\"\n",
      "[1] 77\n",
      "[1] \"generating TSP instance for sub case\"\n"
     ]
    },
    {
     "name": "stderr",
     "output_type": "stream",
     "text": [
      "Warning message in matrix(const, ncol = p + n, nrow = n, dimnames = list(label, :\n",
      "“data length [5] is not a sub-multiple or multiple of the number of columns [6]”\n"
     ]
    },
    {
     "name": "stdout",
     "output_type": "stream",
     "text": [
      "[1] \"using concorde solver.\"\n",
      "[1] \"done. append the current solution\"\n",
      "[1] \"subcase\"\n",
      "[1] 78\n",
      "[1] \"trivial. number of points smaller or equal 2\"\n",
      "[1] \"subcase\"\n",
      "[1] 79\n",
      "[1] \"trivial. number of points smaller or equal 2\"\n",
      "[1] \"subcase\"\n",
      "[1] 80\n",
      "[1] \"trivial. number of points smaller or equal 2\"\n",
      "[1] \"subcase\"\n",
      "[1] 81\n",
      "[1] \"trivial. number of points smaller or equal 2\"\n",
      "[1] \"subcase\"\n",
      "[1] 82\n",
      "[1] \"trivial. number of points smaller or equal 2\"\n",
      "[1] \"subcase\"\n",
      "[1] 83\n",
      "[1] \"trivial. number of points smaller or equal 2\"\n",
      "[1] \"subcase\"\n",
      "[1] 84\n",
      "[1] \"trivial. number of points smaller or equal 2\"\n",
      "[1] \"subcase\"\n",
      "[1] 85\n",
      "[1] \"trivial. number of points smaller or equal 2\"\n",
      "[1] \"subcase\"\n",
      "[1] 86\n",
      "[1] \"trivial. number of points smaller or equal 2\"\n",
      "[1] \"subcase\"\n",
      "[1] 87\n",
      "[1] \"trivial. number of points smaller or equal 2\"\n",
      "[1] \"subcase\"\n",
      "[1] 88\n",
      "[1] \"trivial. number of points smaller or equal 2\"\n",
      "[1] \"subcase\"\n",
      "[1] 89\n",
      "[1] \"trivial. number of points smaller or equal 2\"\n",
      "[1] \"subcase\"\n",
      "[1] 90\n",
      "[1] \"trivial. number of points smaller or equal 2\"\n",
      "[1] \"subcase\"\n",
      "[1] 91\n",
      "[1] \"trivial. number of points smaller or equal 2\"\n",
      "[1] \"subcase\"\n",
      "[1] 92\n",
      "[1] \"trivial. number of points smaller or equal 2\"\n",
      "[1] \"subcase\"\n",
      "[1] 93\n",
      "[1] \"trivial. number of points smaller or equal 2\"\n",
      "[1] \"subcase\"\n",
      "[1] 94\n",
      "[1] \"trivial. number of points smaller or equal 2\"\n",
      "[1] \"subcase\"\n",
      "[1] 95\n",
      "[1] \"trivial. number of points smaller or equal 2\"\n",
      "[1] \"subcase\"\n",
      "[1] 96\n",
      "[1] \"trivial. number of points smaller or equal 2\"\n",
      "[1] \"subcase\"\n",
      "[1] 97\n",
      "[1] \"trivial. number of points smaller or equal 2\"\n",
      "[1] \"subcase\"\n",
      "[1] 98\n",
      "[1] \"trivial. number of points smaller or equal 2\"\n",
      "[1] \"subcase\"\n",
      "[1] 99\n",
      "[1] \"trivial. number of points smaller or equal 2\"\n",
      "[1] \"subcase\"\n",
      "[1] 100\n",
      "[1] \"trivial. number of points smaller or equal 2\"\n",
      "[1] \"subcase\"\n",
      "[1] 101\n",
      "[1] \"trivial. number of points smaller or equal 2\"\n",
      "[1] \"subcase\"\n",
      "[1] 102\n",
      "[1] \"trivial. number of points smaller or equal 2\"\n",
      "[1] \"subcase\"\n",
      "[1] 103\n",
      "[1] \"generating TSP instance for sub case\"\n"
     ]
    },
    {
     "name": "stderr",
     "output_type": "stream",
     "text": [
      "Warning message in matrix(const, ncol = p + n, nrow = n, dimnames = list(label, :\n",
      "“data length [5] is not a sub-multiple or multiple of the number of columns [6]”\n"
     ]
    },
    {
     "name": "stdout",
     "output_type": "stream",
     "text": [
      "[1] \"using concorde solver.\"\n",
      "[1] \"done. append the current solution\"\n",
      "[1] \"subcase\"\n",
      "[1] 104\n",
      "[1] \"trivial. number of points smaller or equal 2\"\n",
      "[1] \"subcase\"\n",
      "[1] 105\n",
      "[1] \"trivial. number of points smaller or equal 2\"\n",
      "[1] \"subcase\"\n",
      "[1] 106\n",
      "[1] \"generating TSP instance for sub case\"\n"
     ]
    },
    {
     "name": "stderr",
     "output_type": "stream",
     "text": [
      "Warning message in matrix(const, ncol = p + n, nrow = n, dimnames = list(label, :\n",
      "“data length [3] is not a sub-multiple or multiple of the number of columns [4]”\n"
     ]
    },
    {
     "name": "stdout",
     "output_type": "stream",
     "text": [
      "[1] \"using concorde solver.\"\n",
      "[1] \"done. append the current solution\"\n",
      "[1] \"subcase\"\n",
      "[1] 107\n",
      "[1] \"generating TSP instance for sub case\"\n"
     ]
    },
    {
     "name": "stderr",
     "output_type": "stream",
     "text": [
      "Warning message in matrix(const, ncol = p + n, nrow = n, dimnames = list(label, :\n",
      "“data length [3] is not a sub-multiple or multiple of the number of columns [4]”\n"
     ]
    },
    {
     "name": "stdout",
     "output_type": "stream",
     "text": [
      "[1] \"using concorde solver.\"\n",
      "[1] \"done. append the current solution\"\n",
      "[1] \"subcase\"\n",
      "[1] 108\n",
      "[1] \"trivial. number of points smaller or equal 2\"\n",
      "[1] \"subcase\"\n",
      "[1] 109\n",
      "[1] \"trivial. number of points smaller or equal 2\"\n",
      "[1] \"subcase\"\n",
      "[1] 110\n",
      "[1] \"generating TSP instance for sub case\"\n"
     ]
    },
    {
     "name": "stderr",
     "output_type": "stream",
     "text": [
      "Warning message in matrix(const, ncol = p + n, nrow = n, dimnames = list(label, :\n",
      "“data length [4] is not a sub-multiple or multiple of the number of columns [5]”\n"
     ]
    },
    {
     "name": "stdout",
     "output_type": "stream",
     "text": [
      "[1] \"using concorde solver.\"\n",
      "[1] \"done. append the current solution\"\n",
      "[1] \"subcase\"\n",
      "[1] 111\n",
      "[1] \"trivial. number of points smaller or equal 2\"\n",
      "[1] \"subcase\"\n",
      "[1] 112\n",
      "[1] \"trivial. number of points smaller or equal 2\"\n",
      "[1] \"subcase\"\n",
      "[1] 113\n",
      "[1] \"trivial. number of points smaller or equal 2\"\n",
      "[1] \"subcase\"\n",
      "[1] 114\n",
      "[1] \"trivial. number of points smaller or equal 2\"\n",
      "[1] \"subcase\"\n",
      "[1] 115\n",
      "[1] \"trivial. number of points smaller or equal 2\"\n",
      "[1] \"subcase\"\n",
      "[1] 116\n",
      "[1] \"trivial. number of points smaller or equal 2\"\n",
      "[1] \"subcase\"\n",
      "[1] 117\n",
      "[1] \"trivial. number of points smaller or equal 2\"\n",
      "[1] \"subcase\"\n",
      "[1] 118\n",
      "[1] \"trivial. number of points smaller or equal 2\"\n",
      "[1] \"subcase\"\n",
      "[1] 119\n",
      "[1] \"generating TSP instance for sub case\"\n"
     ]
    },
    {
     "name": "stderr",
     "output_type": "stream",
     "text": [
      "Warning message in matrix(const, ncol = p + n, nrow = n, dimnames = list(label, :\n",
      "“data length [7] is not a sub-multiple or multiple of the number of columns [8]”\n"
     ]
    },
    {
     "name": "stdout",
     "output_type": "stream",
     "text": [
      "[1] \"using concorde solver.\"\n",
      "[1] \"done. append the current solution\"\n",
      "[1] \"subcase\"\n",
      "[1] 120\n",
      "[1] \"trivial. number of points smaller or equal 2\"\n",
      "[1] \"subcase\"\n",
      "[1] 121\n",
      "[1] \"trivial. number of points smaller or equal 2\"\n",
      "[1] \"subcase\"\n",
      "[1] 122\n",
      "[1] \"trivial. number of points smaller or equal 2\"\n",
      "[1] \"subcase\"\n",
      "[1] 123\n",
      "[1] \"generating TSP instance for sub case\"\n"
     ]
    },
    {
     "name": "stderr",
     "output_type": "stream",
     "text": [
      "Warning message in matrix(const, ncol = p + n, nrow = n, dimnames = list(label, :\n",
      "“data length [6] is not a sub-multiple or multiple of the number of columns [7]”\n"
     ]
    },
    {
     "name": "stdout",
     "output_type": "stream",
     "text": [
      "[1] \"using concorde solver.\"\n",
      "[1] \"done. append the current solution\"\n",
      "[1] \"subcase\"\n",
      "[1] 124\n",
      "[1] \"trivial. number of points smaller or equal 2\"\n",
      "[1] \"subcase\"\n",
      "[1] 125\n",
      "[1] \"trivial. number of points smaller or equal 2\"\n",
      "[1] \"subcase\"\n",
      "[1] 126\n",
      "[1] \"generating TSP instance for sub case\"\n"
     ]
    },
    {
     "name": "stderr",
     "output_type": "stream",
     "text": [
      "Warning message in matrix(const, ncol = p + n, nrow = n, dimnames = list(label, :\n",
      "“data length [5] is not a sub-multiple or multiple of the number of columns [6]”\n"
     ]
    },
    {
     "name": "stdout",
     "output_type": "stream",
     "text": [
      "[1] \"using concorde solver.\"\n",
      "[1] \"done. append the current solution\"\n",
      "[1] \"subcase\"\n",
      "[1] 127\n",
      "[1] \"trivial. number of points smaller or equal 2\"\n",
      "[1] \"subcase\"\n",
      "[1] 128\n",
      "[1] \"trivial. number of points smaller or equal 2\"\n",
      "[1] \"subcase\"\n",
      "[1] 129\n",
      "[1] \"generating TSP instance for sub case\"\n"
     ]
    },
    {
     "name": "stderr",
     "output_type": "stream",
     "text": [
      "Warning message in matrix(const, ncol = p + n, nrow = n, dimnames = list(label, :\n",
      "“data length [11] is not a sub-multiple or multiple of the number of columns [12]”\n"
     ]
    },
    {
     "name": "stdout",
     "output_type": "stream",
     "text": [
      "[1] \"using concorde solver.\"\n",
      "[1] \"done. append the current solution\"\n",
      "[1] \"subcase\"\n",
      "[1] 130\n",
      "[1] \"trivial. number of points smaller or equal 2\"\n",
      "[1] \"subcase\"\n",
      "[1] 131\n",
      "[1] \"trivial. number of points smaller or equal 2\"\n",
      "[1] \"subcase\"\n",
      "[1] 132\n",
      "[1] \"generating TSP instance for sub case\"\n"
     ]
    },
    {
     "name": "stderr",
     "output_type": "stream",
     "text": [
      "Warning message in matrix(const, ncol = p + n, nrow = n, dimnames = list(label, :\n",
      "“data length [3] is not a sub-multiple or multiple of the number of columns [4]”\n"
     ]
    },
    {
     "name": "stdout",
     "output_type": "stream",
     "text": [
      "[1] \"using concorde solver.\"\n",
      "[1] \"done. append the current solution\"\n",
      "[1] \"subcase\"\n",
      "[1] 133\n",
      "[1] \"trivial. number of points smaller or equal 2\"\n",
      "[1] \"subcase\"\n",
      "[1] 134\n",
      "[1] \"trivial. number of points smaller or equal 2\"\n",
      "[1] \"subcase\"\n",
      "[1] 135\n",
      "[1] \"generating TSP instance for sub case\"\n"
     ]
    },
    {
     "name": "stderr",
     "output_type": "stream",
     "text": [
      "Warning message in matrix(const, ncol = p + n, nrow = n, dimnames = list(label, :\n",
      "“data length [13] is not a sub-multiple or multiple of the number of columns [14]”\n"
     ]
    },
    {
     "name": "stdout",
     "output_type": "stream",
     "text": [
      "[1] \"using concorde solver.\"\n",
      "[1] \"done. append the current solution\"\n",
      "[1] \"subcase\"\n",
      "[1] 136\n",
      "[1] \"generating TSP instance for sub case\"\n"
     ]
    },
    {
     "name": "stderr",
     "output_type": "stream",
     "text": [
      "Warning message in matrix(const, ncol = p + n, nrow = n, dimnames = list(label, :\n",
      "“data length [15] is not a sub-multiple or multiple of the number of columns [16]”\n"
     ]
    },
    {
     "name": "stdout",
     "output_type": "stream",
     "text": [
      "[1] \"using concorde solver.\"\n",
      "[1] \"done. append the current solution\"\n",
      "[1] \"subcase\"\n",
      "[1] 137\n",
      "[1] \"trivial. number of points smaller or equal 2\"\n",
      "[1] \"subcase\"\n",
      "[1] 138\n",
      "[1] \"generating TSP instance for sub case\"\n"
     ]
    },
    {
     "name": "stderr",
     "output_type": "stream",
     "text": [
      "Warning message in matrix(const, ncol = p + n, nrow = n, dimnames = list(label, :\n",
      "“data length [12] is not a sub-multiple or multiple of the number of columns [13]”\n"
     ]
    },
    {
     "name": "stdout",
     "output_type": "stream",
     "text": [
      "[1] \"using concorde solver.\"\n",
      "[1] \"done. append the current solution\"\n",
      "[1] \"subcase\"\n",
      "[1] 139\n",
      "[1] \"generating TSP instance for sub case\"\n"
     ]
    },
    {
     "name": "stderr",
     "output_type": "stream",
     "text": [
      "Warning message in matrix(const, ncol = p + n, nrow = n, dimnames = list(label, :\n",
      "“data length [6] is not a sub-multiple or multiple of the number of columns [7]”\n"
     ]
    },
    {
     "name": "stdout",
     "output_type": "stream",
     "text": [
      "[1] \"using concorde solver.\"\n",
      "[1] \"done. append the current solution\"\n",
      "[1] \"subcase\"\n",
      "[1] 140\n",
      "[1] \"generating TSP instance for sub case\"\n"
     ]
    },
    {
     "name": "stderr",
     "output_type": "stream",
     "text": [
      "Warning message in matrix(const, ncol = p + n, nrow = n, dimnames = list(label, :\n",
      "“data length [8] is not a sub-multiple or multiple of the number of columns [9]”\n"
     ]
    },
    {
     "name": "stdout",
     "output_type": "stream",
     "text": [
      "[1] \"using concorde solver.\"\n",
      "[1] \"done. append the current solution\"\n",
      "[1] \"subcase\"\n",
      "[1] 141\n",
      "[1] \"trivial. number of points smaller or equal 2\"\n",
      "[1] \"subcase\"\n",
      "[1] 142\n",
      "[1] \"trivial. number of points smaller or equal 2\"\n",
      "[1] \"subcase\"\n",
      "[1] 143\n",
      "[1] \"trivial. number of points smaller or equal 2\"\n",
      "[1] \"subcase\"\n",
      "[1] 144\n",
      "[1] \"trivial. number of points smaller or equal 2\"\n",
      "[1] \"subcase\"\n",
      "[1] 145\n",
      "[1] \"trivial. number of points smaller or equal 2\"\n",
      "[1] \"subcase\"\n",
      "[1] 146\n",
      "[1] \"trivial. number of points smaller or equal 2\"\n",
      "[1] \"subcase\"\n",
      "[1] 147\n",
      "[1] \"trivial. number of points smaller or equal 2\"\n",
      "[1] \"subcase\"\n",
      "[1] 148\n",
      "[1] \"generating TSP instance for sub case\"\n"
     ]
    },
    {
     "name": "stderr",
     "output_type": "stream",
     "text": [
      "Warning message in matrix(const, ncol = p + n, nrow = n, dimnames = list(label, :\n",
      "“data length [7] is not a sub-multiple or multiple of the number of columns [8]”\n"
     ]
    },
    {
     "name": "stdout",
     "output_type": "stream",
     "text": [
      "[1] \"using concorde solver.\"\n",
      "[1] \"done. append the current solution\"\n",
      "[1] \"subcase\"\n",
      "[1] 149\n",
      "[1] \"trivial. number of points smaller or equal 2\"\n",
      "[1] \"subcase\"\n",
      "[1] 150\n",
      "[1] \"trivial. number of points smaller or equal 2\"\n",
      "[1] \"subcase\"\n",
      "[1] 151\n",
      "[1] \"trivial. number of points smaller or equal 2\"\n",
      "[1] \"subcase\"\n",
      "[1] 152\n",
      "[1] \"trivial. number of points smaller or equal 2\"\n",
      "[1] \"subcase\"\n",
      "[1] 153\n",
      "[1] \"trivial. number of points smaller or equal 2\"\n",
      "[1] \"subcase\"\n",
      "[1] 154\n",
      "[1] \"generating TSP instance for sub case\"\n"
     ]
    },
    {
     "name": "stderr",
     "output_type": "stream",
     "text": [
      "Warning message in matrix(const, ncol = p + n, nrow = n, dimnames = list(label, :\n",
      "“data length [6] is not a sub-multiple or multiple of the number of columns [7]”\n"
     ]
    },
    {
     "name": "stdout",
     "output_type": "stream",
     "text": [
      "[1] \"using concorde solver.\"\n",
      "[1] \"done. append the current solution\"\n",
      "[1] \"subcase\"\n",
      "[1] 155\n",
      "[1] \"generating TSP instance for sub case\"\n"
     ]
    },
    {
     "name": "stderr",
     "output_type": "stream",
     "text": [
      "Warning message in matrix(const, ncol = p + n, nrow = n, dimnames = list(label, :\n",
      "“data length [14] is not a sub-multiple or multiple of the number of columns [15]”\n"
     ]
    },
    {
     "name": "stdout",
     "output_type": "stream",
     "text": [
      "[1] \"using concorde solver.\"\n",
      "[1] \"done. append the current solution\"\n",
      "[1] \"subcase\"\n",
      "[1] 156\n",
      "[1] \"trivial. number of points smaller or equal 2\"\n",
      "[1] \"subcase\"\n",
      "[1] 157\n",
      "[1] \"trivial. number of points smaller or equal 2\"\n",
      "[1] \"subcase\"\n",
      "[1] 158\n",
      "[1] \"trivial. number of points smaller or equal 2\"\n",
      "[1] \"subcase\"\n",
      "[1] 159\n",
      "[1] \"generating TSP instance for sub case\"\n"
     ]
    },
    {
     "name": "stderr",
     "output_type": "stream",
     "text": [
      "Warning message in matrix(const, ncol = p + n, nrow = n, dimnames = list(label, :\n",
      "“data length [5] is not a sub-multiple or multiple of the number of columns [6]”\n"
     ]
    },
    {
     "name": "stdout",
     "output_type": "stream",
     "text": [
      "[1] \"using concorde solver.\"\n",
      "[1] \"done. append the current solution\"\n",
      "[1] \"subcase\"\n",
      "[1] 160\n",
      "[1] \"trivial. number of points smaller or equal 2\"\n",
      "[1] \"subcase\"\n",
      "[1] 161\n",
      "[1] \"generating TSP instance for sub case\"\n"
     ]
    },
    {
     "name": "stderr",
     "output_type": "stream",
     "text": [
      "Warning message in matrix(const, ncol = p + n, nrow = n, dimnames = list(label, :\n",
      "“data length [4] is not a sub-multiple or multiple of the number of columns [5]”\n"
     ]
    },
    {
     "name": "stdout",
     "output_type": "stream",
     "text": [
      "[1] \"using concorde solver.\"\n",
      "[1] \"done. append the current solution\"\n",
      "[1] \"subcase\"\n",
      "[1] 162\n",
      "[1] \"generating TSP instance for sub case\"\n"
     ]
    },
    {
     "name": "stderr",
     "output_type": "stream",
     "text": [
      "Warning message in matrix(const, ncol = p + n, nrow = n, dimnames = list(label, :\n",
      "“data length [5] is not a sub-multiple or multiple of the number of columns [6]”\n"
     ]
    },
    {
     "name": "stdout",
     "output_type": "stream",
     "text": [
      "[1] \"using concorde solver.\"\n",
      "[1] \"done. append the current solution\"\n",
      "[1] \"subcase\"\n",
      "[1] 163\n",
      "[1] \"trivial. number of points smaller or equal 2\"\n",
      "[1] \"subcase\"\n",
      "[1] 164\n",
      "[1] \"generating TSP instance for sub case\"\n"
     ]
    },
    {
     "name": "stderr",
     "output_type": "stream",
     "text": [
      "Warning message in matrix(const, ncol = p + n, nrow = n, dimnames = list(label, :\n",
      "“data length [5] is not a sub-multiple or multiple of the number of columns [6]”\n"
     ]
    },
    {
     "name": "stdout",
     "output_type": "stream",
     "text": [
      "[1] \"using concorde solver.\"\n",
      "[1] \"done. append the current solution\"\n",
      "[1] \"subcase\"\n",
      "[1] 165\n",
      "[1] \"generating TSP instance for sub case\"\n"
     ]
    },
    {
     "name": "stderr",
     "output_type": "stream",
     "text": [
      "Warning message in matrix(const, ncol = p + n, nrow = n, dimnames = list(label, :\n",
      "“data length [5] is not a sub-multiple or multiple of the number of columns [6]”\n"
     ]
    },
    {
     "name": "stdout",
     "output_type": "stream",
     "text": [
      "[1] \"using concorde solver.\"\n",
      "[1] \"done. append the current solution\"\n",
      "[1] \"subcase\"\n",
      "[1] 166\n",
      "[1] \"trivial. number of points smaller or equal 2\"\n",
      "[1] \"subcase\"\n",
      "[1] 167\n",
      "[1] \"trivial. number of points smaller or equal 2\"\n",
      "[1] \"subcase\"\n",
      "[1] 168\n",
      "[1] \"trivial. number of points smaller or equal 2\"\n",
      "[1] \"subcase\"\n",
      "[1] 169\n",
      "[1] \"trivial. number of points smaller or equal 2\"\n",
      "[1] \"subcase\"\n",
      "[1] 170\n",
      "[1] \"trivial. number of points smaller or equal 2\"\n",
      "[1] \"subcase\"\n",
      "[1] 171\n",
      "[1] \"trivial. number of points smaller or equal 2\"\n",
      "[1] \"subcase\"\n",
      "[1] 172\n",
      "[1] \"trivial. number of points smaller or equal 2\"\n",
      "[1] \"subcase\"\n",
      "[1] 173\n",
      "[1] \"trivial. number of points smaller or equal 2\"\n",
      "[1] \"subcase\"\n",
      "[1] 174\n",
      "[1] \"trivial. number of points smaller or equal 2\"\n",
      "[1] \"subcase\"\n",
      "[1] 175\n",
      "[1] \"generating TSP instance for sub case\"\n"
     ]
    },
    {
     "name": "stderr",
     "output_type": "stream",
     "text": [
      "Warning message in matrix(const, ncol = p + n, nrow = n, dimnames = list(label, :\n",
      "“data length [4] is not a sub-multiple or multiple of the number of columns [5]”\n"
     ]
    },
    {
     "name": "stdout",
     "output_type": "stream",
     "text": [
      "[1] \"using concorde solver.\"\n",
      "[1] \"done. append the current solution\"\n",
      "[1] \"subcase\"\n",
      "[1] 176\n",
      "[1] \"trivial. number of points smaller or equal 2\"\n",
      "[1] \"subcase\"\n",
      "[1] 177\n",
      "[1] \"generating TSP instance for sub case\"\n"
     ]
    },
    {
     "name": "stderr",
     "output_type": "stream",
     "text": [
      "Warning message in matrix(const, ncol = p + n, nrow = n, dimnames = list(label, :\n",
      "“data length [10] is not a sub-multiple or multiple of the number of columns [11]”\n"
     ]
    },
    {
     "name": "stdout",
     "output_type": "stream",
     "text": [
      "[1] \"using concorde solver.\"\n",
      "[1] \"done. append the current solution\"\n",
      "[1] \"subcase\"\n",
      "[1] 178\n",
      "[1] \"trivial. number of points smaller or equal 2\"\n",
      "[1] \"subcase\"\n",
      "[1] 179\n",
      "[1] \"trivial. number of points smaller or equal 2\"\n",
      "[1] \"subcase\"\n",
      "[1] 180\n",
      "[1] \"trivial. number of points smaller or equal 2\"\n",
      "[1] \"subcase\"\n",
      "[1] 181\n",
      "[1] \"generating TSP instance for sub case\"\n"
     ]
    },
    {
     "name": "stderr",
     "output_type": "stream",
     "text": [
      "Warning message in matrix(const, ncol = p + n, nrow = n, dimnames = list(label, :\n",
      "“data length [7] is not a sub-multiple or multiple of the number of columns [8]”\n"
     ]
    },
    {
     "name": "stdout",
     "output_type": "stream",
     "text": [
      "[1] \"using concorde solver.\"\n",
      "[1] \"done. append the current solution\"\n",
      "[1] \"subcase\"\n",
      "[1] 182\n",
      "[1] \"trivial. number of points smaller or equal 2\"\n",
      "[1] \"subcase\"\n",
      "[1] 183\n",
      "[1] \"trivial. number of points smaller or equal 2\"\n",
      "[1] \"subcase\"\n",
      "[1] 184\n",
      "[1] \"trivial. number of points smaller or equal 2\"\n",
      "[1] \"subcase\"\n",
      "[1] 185\n",
      "[1] \"trivial. number of points smaller or equal 2\"\n",
      "[1] \"subcase\"\n",
      "[1] 186\n",
      "[1] \"generating TSP instance for sub case\"\n"
     ]
    },
    {
     "name": "stderr",
     "output_type": "stream",
     "text": [
      "Warning message in matrix(const, ncol = p + n, nrow = n, dimnames = list(label, :\n",
      "“data length [4] is not a sub-multiple or multiple of the number of columns [5]”\n"
     ]
    },
    {
     "name": "stdout",
     "output_type": "stream",
     "text": [
      "[1] \"using concorde solver.\"\n",
      "[1] \"done. append the current solution\"\n",
      "[1] \"subcase\"\n",
      "[1] 187\n",
      "[1] \"trivial. number of points smaller or equal 2\"\n",
      "[1] \"subcase\"\n",
      "[1] 188\n",
      "[1] \"generating TSP instance for sub case\"\n"
     ]
    },
    {
     "name": "stderr",
     "output_type": "stream",
     "text": [
      "Warning message in matrix(const, ncol = p + n, nrow = n, dimnames = list(label, :\n",
      "“data length [183] is not a sub-multiple or multiple of the number of columns [184]”\n"
     ]
    },
    {
     "name": "stdout",
     "output_type": "stream",
     "text": [
      "[1] \"using concorde solver.\"\n",
      "[1] \"done. append the current solution\"\n",
      "[1] \"subcase\"\n",
      "[1] 189\n",
      "[1] \"trivial. number of points smaller or equal 2\"\n",
      "[1] \"subcase\"\n",
      "[1] 190\n",
      "[1] \"trivial. number of points smaller or equal 2\"\n",
      "[1] \"subcase\"\n",
      "[1] 191\n",
      "[1] \"generating TSP instance for sub case\"\n"
     ]
    },
    {
     "name": "stderr",
     "output_type": "stream",
     "text": [
      "Warning message in matrix(const, ncol = p + n, nrow = n, dimnames = list(label, :\n",
      "“data length [3] is not a sub-multiple or multiple of the number of columns [4]”\n"
     ]
    },
    {
     "name": "stdout",
     "output_type": "stream",
     "text": [
      "[1] \"using concorde solver.\"\n",
      "[1] \"done. append the current solution\"\n",
      "[1] \"subcase\"\n",
      "[1] 192\n",
      "[1] \"generating TSP instance for sub case\"\n"
     ]
    },
    {
     "name": "stderr",
     "output_type": "stream",
     "text": [
      "Warning message in matrix(const, ncol = p + n, nrow = n, dimnames = list(label, :\n",
      "“data length [6] is not a sub-multiple or multiple of the number of columns [7]”\n"
     ]
    },
    {
     "name": "stdout",
     "output_type": "stream",
     "text": [
      "[1] \"using concorde solver.\"\n",
      "[1] \"done. append the current solution\"\n",
      "[1] \"subcase\"\n",
      "[1] 193\n",
      "[1] \"generating TSP instance for sub case\"\n"
     ]
    },
    {
     "name": "stderr",
     "output_type": "stream",
     "text": [
      "Warning message in matrix(const, ncol = p + n, nrow = n, dimnames = list(label, :\n",
      "“data length [9] is not a sub-multiple or multiple of the number of columns [10]”\n"
     ]
    },
    {
     "name": "stdout",
     "output_type": "stream",
     "text": [
      "[1] \"using concorde solver.\"\n",
      "[1] \"done. append the current solution\"\n",
      "[1] \"subcase\"\n",
      "[1] 194\n",
      "[1] \"generating TSP instance for sub case\"\n"
     ]
    },
    {
     "name": "stderr",
     "output_type": "stream",
     "text": [
      "Warning message in matrix(const, ncol = p + n, nrow = n, dimnames = list(label, :\n",
      "“data length [17] is not a sub-multiple or multiple of the number of columns [18]”\n"
     ]
    },
    {
     "name": "stdout",
     "output_type": "stream",
     "text": [
      "[1] \"using concorde solver.\"\n",
      "[1] \"done. append the current solution\"\n",
      "[1] \"subcase\"\n",
      "[1] 195\n",
      "[1] \"trivial. number of points smaller or equal 2\"\n",
      "[1] \"subcase\"\n",
      "[1] 196\n",
      "[1] \"trivial. number of points smaller or equal 2\"\n",
      "[1] \"subcase\"\n",
      "[1] 197\n",
      "[1] \"generating TSP instance for sub case\"\n"
     ]
    },
    {
     "name": "stderr",
     "output_type": "stream",
     "text": [
      "Warning message in matrix(const, ncol = p + n, nrow = n, dimnames = list(label, :\n",
      "“data length [16] is not a sub-multiple or multiple of the number of columns [17]”\n"
     ]
    },
    {
     "name": "stdout",
     "output_type": "stream",
     "text": [
      "[1] \"using concorde solver.\"\n",
      "[1] \"done. append the current solution\"\n",
      "[1] \"subcase\"\n",
      "[1] 198\n",
      "[1] \"generating TSP instance for sub case\"\n"
     ]
    },
    {
     "name": "stderr",
     "output_type": "stream",
     "text": [
      "Warning message in matrix(const, ncol = p + n, nrow = n, dimnames = list(label, :\n",
      "“data length [18] is not a sub-multiple or multiple of the number of columns [19]”\n"
     ]
    },
    {
     "name": "stdout",
     "output_type": "stream",
     "text": [
      "[1] \"using concorde solver.\"\n",
      "[1] \"done. append the current solution\"\n",
      "[1] \"subcase\"\n",
      "[1] 199\n",
      "[1] \"generating TSP instance for sub case\"\n"
     ]
    },
    {
     "name": "stderr",
     "output_type": "stream",
     "text": [
      "Warning message in matrix(const, ncol = p + n, nrow = n, dimnames = list(label, :\n",
      "“data length [3] is not a sub-multiple or multiple of the number of columns [4]”\n"
     ]
    },
    {
     "name": "stdout",
     "output_type": "stream",
     "text": [
      "[1] \"using concorde solver.\"\n",
      "[1] \"done. append the current solution\"\n",
      "[1] \"subcase\"\n",
      "[1] 200\n",
      "[1] \"generating TSP instance for sub case\"\n"
     ]
    },
    {
     "name": "stderr",
     "output_type": "stream",
     "text": [
      "Warning message in matrix(const, ncol = p + n, nrow = n, dimnames = list(label, :\n",
      "“data length [9] is not a sub-multiple or multiple of the number of columns [10]”\n"
     ]
    },
    {
     "name": "stdout",
     "output_type": "stream",
     "text": [
      "[1] \"using concorde solver.\"\n",
      "[1] \"done. append the current solution\"\n",
      "[1] \"subcase\"\n",
      "[1] 201\n",
      "[1] \"generating TSP instance for sub case\"\n"
     ]
    },
    {
     "name": "stderr",
     "output_type": "stream",
     "text": [
      "Warning message in matrix(const, ncol = p + n, nrow = n, dimnames = list(label, :\n",
      "“data length [29] is not a sub-multiple or multiple of the number of columns [30]”\n"
     ]
    },
    {
     "name": "stdout",
     "output_type": "stream",
     "text": [
      "[1] \"using concorde solver.\"\n",
      "[1] \"done. append the current solution\"\n",
      "[1] \"subcase\"\n",
      "[1] 202\n",
      "[1] \"trivial. number of points smaller or equal 2\"\n",
      "[1] \"subcase\"\n",
      "[1] 203\n",
      "[1] \"trivial. number of points smaller or equal 2\"\n",
      "[1] \"subcase\"\n",
      "[1] 204\n",
      "[1] \"trivial. number of points smaller or equal 2\"\n",
      "[1] \"subcase\"\n",
      "[1] 205\n",
      "[1] \"trivial. number of points smaller or equal 2\"\n",
      "[1] \"subcase\"\n",
      "[1] 206\n",
      "[1] \"trivial. number of points smaller or equal 2\"\n",
      "[1] \"subcase\"\n",
      "[1] 207\n",
      "[1] \"trivial. number of points smaller or equal 2\"\n",
      "[1] \"subcase\"\n",
      "[1] 208\n",
      "[1] \"trivial. number of points smaller or equal 2\"\n",
      "[1] \"subcase\"\n",
      "[1] 209\n",
      "[1] \"generating TSP instance for sub case\"\n"
     ]
    },
    {
     "name": "stderr",
     "output_type": "stream",
     "text": [
      "Warning message in matrix(const, ncol = p + n, nrow = n, dimnames = list(label, :\n",
      "“data length [11] is not a sub-multiple or multiple of the number of columns [12]”\n"
     ]
    },
    {
     "name": "stdout",
     "output_type": "stream",
     "text": [
      "[1] \"using concorde solver.\"\n",
      "[1] \"done. append the current solution\"\n",
      "[1] \"subcase\"\n",
      "[1] 210\n",
      "[1] \"generating TSP instance for sub case\"\n"
     ]
    },
    {
     "name": "stderr",
     "output_type": "stream",
     "text": [
      "Warning message in matrix(const, ncol = p + n, nrow = n, dimnames = list(label, :\n",
      "“data length [6] is not a sub-multiple or multiple of the number of columns [7]”\n"
     ]
    },
    {
     "name": "stdout",
     "output_type": "stream",
     "text": [
      "[1] \"using concorde solver.\"\n",
      "[1] \"done. append the current solution\"\n",
      "[1] \"subcase\"\n",
      "[1] 211\n",
      "[1] \"generating TSP instance for sub case\"\n"
     ]
    },
    {
     "name": "stderr",
     "output_type": "stream",
     "text": [
      "Warning message in matrix(const, ncol = p + n, nrow = n, dimnames = list(label, :\n",
      "“data length [3] is not a sub-multiple or multiple of the number of columns [4]”\n"
     ]
    },
    {
     "name": "stdout",
     "output_type": "stream",
     "text": [
      "[1] \"using concorde solver.\"\n",
      "[1] \"done. append the current solution\"\n",
      "[1] \"subcase\"\n",
      "[1] 212\n",
      "[1] \"generating TSP instance for sub case\"\n"
     ]
    },
    {
     "name": "stderr",
     "output_type": "stream",
     "text": [
      "Warning message in matrix(const, ncol = p + n, nrow = n, dimnames = list(label, :\n",
      "“data length [6] is not a sub-multiple or multiple of the number of columns [7]”\n"
     ]
    },
    {
     "name": "stdout",
     "output_type": "stream",
     "text": [
      "[1] \"using concorde solver.\"\n",
      "[1] \"done. append the current solution\"\n",
      "[1] \"subcase\"\n",
      "[1] 213\n",
      "[1] \"generating TSP instance for sub case\"\n"
     ]
    },
    {
     "name": "stderr",
     "output_type": "stream",
     "text": [
      "Warning message in matrix(const, ncol = p + n, nrow = n, dimnames = list(label, :\n",
      "“data length [3] is not a sub-multiple or multiple of the number of columns [4]”\n"
     ]
    },
    {
     "name": "stdout",
     "output_type": "stream",
     "text": [
      "[1] \"using concorde solver.\"\n",
      "[1] \"done. append the current solution\"\n",
      "[1] \"subcase\"\n",
      "[1] 214\n",
      "[1] \"generating TSP instance for sub case\"\n"
     ]
    },
    {
     "name": "stderr",
     "output_type": "stream",
     "text": [
      "Warning message in matrix(const, ncol = p + n, nrow = n, dimnames = list(label, :\n",
      "“data length [9] is not a sub-multiple or multiple of the number of columns [10]”\n"
     ]
    },
    {
     "name": "stdout",
     "output_type": "stream",
     "text": [
      "[1] \"using concorde solver.\"\n",
      "[1] \"done. append the current solution\"\n",
      "[1] \"subcase\"\n",
      "[1] 215\n",
      "[1] \"generating TSP instance for sub case\"\n"
     ]
    },
    {
     "name": "stderr",
     "output_type": "stream",
     "text": [
      "Warning message in matrix(const, ncol = p + n, nrow = n, dimnames = list(label, :\n",
      "“data length [20] is not a sub-multiple or multiple of the number of columns [21]”\n"
     ]
    },
    {
     "name": "stdout",
     "output_type": "stream",
     "text": [
      "[1] \"using concorde solver.\"\n",
      "[1] \"done. append the current solution\"\n",
      "[1] \"subcase\"\n",
      "[1] 216\n",
      "[1] \"trivial. number of points smaller or equal 2\"\n",
      "[1] \"subcase\"\n",
      "[1] 217\n",
      "[1] \"generating TSP instance for sub case\"\n"
     ]
    },
    {
     "name": "stderr",
     "output_type": "stream",
     "text": [
      "Warning message in matrix(const, ncol = p + n, nrow = n, dimnames = list(label, :\n",
      "“data length [25] is not a sub-multiple or multiple of the number of columns [26]”\n"
     ]
    },
    {
     "name": "stdout",
     "output_type": "stream",
     "text": [
      "[1] \"using concorde solver.\"\n",
      "[1] \"done. append the current solution\"\n",
      "[1] \"subcase\"\n",
      "[1] 218\n",
      "[1] \"generating TSP instance for sub case\"\n"
     ]
    },
    {
     "name": "stderr",
     "output_type": "stream",
     "text": [
      "Warning message in matrix(const, ncol = p + n, nrow = n, dimnames = list(label, :\n",
      "“data length [12] is not a sub-multiple or multiple of the number of columns [13]”\n"
     ]
    },
    {
     "name": "stdout",
     "output_type": "stream",
     "text": [
      "[1] \"using concorde solver.\"\n",
      "[1] \"done. append the current solution\"\n",
      "[1] \"subcase\"\n",
      "[1] 219\n",
      "[1] \"generating TSP instance for sub case\"\n"
     ]
    },
    {
     "name": "stderr",
     "output_type": "stream",
     "text": [
      "Warning message in matrix(const, ncol = p + n, nrow = n, dimnames = list(label, :\n",
      "“data length [13] is not a sub-multiple or multiple of the number of columns [14]”\n"
     ]
    },
    {
     "name": "stdout",
     "output_type": "stream",
     "text": [
      "[1] \"using concorde solver.\"\n",
      "[1] \"done. append the current solution\"\n",
      "[1] \"subcase\"\n",
      "[1] 220\n",
      "[1] \"generating TSP instance for sub case\"\n"
     ]
    },
    {
     "name": "stderr",
     "output_type": "stream",
     "text": [
      "Warning message in matrix(const, ncol = p + n, nrow = n, dimnames = list(label, :\n",
      "“data length [10] is not a sub-multiple or multiple of the number of columns [11]”\n"
     ]
    },
    {
     "name": "stdout",
     "output_type": "stream",
     "text": [
      "[1] \"using concorde solver.\"\n",
      "[1] \"done. append the current solution\"\n",
      "[1] \"subcase\"\n",
      "[1] 221\n",
      "[1] \"trivial. number of points smaller or equal 2\"\n",
      "[1] \"subcase\"\n",
      "[1] 222\n",
      "[1] \"generating TSP instance for sub case\"\n"
     ]
    },
    {
     "name": "stderr",
     "output_type": "stream",
     "text": [
      "Warning message in matrix(const, ncol = p + n, nrow = n, dimnames = list(label, :\n",
      "“data length [7] is not a sub-multiple or multiple of the number of columns [8]”\n"
     ]
    },
    {
     "name": "stdout",
     "output_type": "stream",
     "text": [
      "[1] \"using concorde solver.\"\n",
      "[1] \"done. append the current solution\"\n",
      "[1] \"subcase\"\n",
      "[1] 223\n",
      "[1] \"trivial. number of points smaller or equal 2\"\n",
      "[1] \"subcase\"\n",
      "[1] 224\n",
      "[1] \"trivial. number of points smaller or equal 2\"\n",
      "[1] \"subcase\"\n",
      "[1] 225\n",
      "[1] \"generating TSP instance for sub case\"\n"
     ]
    },
    {
     "name": "stderr",
     "output_type": "stream",
     "text": [
      "Warning message in matrix(const, ncol = p + n, nrow = n, dimnames = list(label, :\n",
      "“data length [4] is not a sub-multiple or multiple of the number of columns [5]”\n"
     ]
    },
    {
     "name": "stdout",
     "output_type": "stream",
     "text": [
      "[1] \"using concorde solver.\"\n",
      "[1] \"done. append the current solution\"\n",
      "[1] \"subcase\"\n",
      "[1] 226\n",
      "[1] \"generating TSP instance for sub case\"\n"
     ]
    },
    {
     "name": "stderr",
     "output_type": "stream",
     "text": [
      "Warning message in matrix(const, ncol = p + n, nrow = n, dimnames = list(label, :\n",
      "“data length [5] is not a sub-multiple or multiple of the number of columns [6]”\n"
     ]
    },
    {
     "name": "stdout",
     "output_type": "stream",
     "text": [
      "[1] \"using concorde solver.\"\n",
      "[1] \"done. append the current solution\"\n",
      "[1] \"subcase\"\n",
      "[1] 227\n",
      "[1] \"generating TSP instance for sub case\"\n"
     ]
    },
    {
     "name": "stderr",
     "output_type": "stream",
     "text": [
      "Warning message in matrix(const, ncol = p + n, nrow = n, dimnames = list(label, :\n",
      "“data length [65] is not a sub-multiple or multiple of the number of columns [66]”\n"
     ]
    },
    {
     "name": "stdout",
     "output_type": "stream",
     "text": [
      "[1] \"using concorde solver.\"\n",
      "[1] \"done. append the current solution\"\n",
      "[1] \"subcase\"\n",
      "[1] 228\n",
      "[1] \"trivial. number of points smaller or equal 2\"\n",
      "[1] \"subcase\"\n",
      "[1] 229\n",
      "[1] \"trivial. number of points smaller or equal 2\"\n",
      "[1] \"subcase\"\n",
      "[1] 230\n",
      "[1] \"trivial. number of points smaller or equal 2\"\n",
      "[1] \"subcase\"\n",
      "[1] 231\n",
      "[1] \"generating TSP instance for sub case\"\n"
     ]
    },
    {
     "name": "stderr",
     "output_type": "stream",
     "text": [
      "Warning message in matrix(const, ncol = p + n, nrow = n, dimnames = list(label, :\n",
      "“data length [42] is not a sub-multiple or multiple of the number of columns [43]”\n"
     ]
    },
    {
     "name": "stdout",
     "output_type": "stream",
     "text": [
      "[1] \"using concorde solver.\"\n",
      "[1] \"done. append the current solution\"\n",
      "[1] \"subcase\"\n",
      "[1] 232\n",
      "[1] \"trivial. number of points smaller or equal 2\"\n",
      "[1] \"subcase\"\n",
      "[1] 233\n",
      "[1] \"generating TSP instance for sub case\"\n"
     ]
    },
    {
     "name": "stderr",
     "output_type": "stream",
     "text": [
      "Warning message in matrix(const, ncol = p + n, nrow = n, dimnames = list(label, :\n",
      "“data length [6] is not a sub-multiple or multiple of the number of columns [7]”\n"
     ]
    },
    {
     "name": "stdout",
     "output_type": "stream",
     "text": [
      "[1] \"using concorde solver.\"\n",
      "[1] \"done. append the current solution\"\n",
      "[1] \"subcase\"\n",
      "[1] 234\n",
      "[1] \"trivial. number of points smaller or equal 2\"\n",
      "[1] \"subcase\"\n",
      "[1] 235\n",
      "[1] \"trivial. number of points smaller or equal 2\"\n",
      "[1] \"subcase\"\n",
      "[1] 236\n",
      "[1] \"trivial. number of points smaller or equal 2\"\n",
      "[1] \"subcase\"\n",
      "[1] 237\n",
      "[1] \"generating TSP instance for sub case\"\n"
     ]
    },
    {
     "name": "stderr",
     "output_type": "stream",
     "text": [
      "Warning message in matrix(const, ncol = p + n, nrow = n, dimnames = list(label, :\n",
      "“data length [22] is not a sub-multiple or multiple of the number of columns [23]”\n"
     ]
    },
    {
     "name": "stdout",
     "output_type": "stream",
     "text": [
      "[1] \"using concorde solver.\"\n",
      "[1] \"done. append the current solution\"\n",
      "[1] \"subcase\"\n",
      "[1] 238\n",
      "[1] \"trivial. number of points smaller or equal 2\"\n",
      "[1] \"subcase\"\n",
      "[1] 239\n",
      "[1] \"trivial. number of points smaller or equal 2\"\n",
      "[1] \"subcase\"\n",
      "[1] 240\n",
      "[1] \"generating TSP instance for sub case\"\n"
     ]
    },
    {
     "name": "stderr",
     "output_type": "stream",
     "text": [
      "Warning message in matrix(const, ncol = p + n, nrow = n, dimnames = list(label, :\n",
      "“data length [5] is not a sub-multiple or multiple of the number of columns [6]”\n"
     ]
    },
    {
     "name": "stdout",
     "output_type": "stream",
     "text": [
      "[1] \"using concorde solver.\"\n",
      "[1] \"done. append the current solution\"\n",
      "[1] \"subcase\"\n",
      "[1] 241\n",
      "[1] \"generating TSP instance for sub case\"\n"
     ]
    },
    {
     "name": "stderr",
     "output_type": "stream",
     "text": [
      "Warning message in matrix(const, ncol = p + n, nrow = n, dimnames = list(label, :\n",
      "“data length [18] is not a sub-multiple or multiple of the number of columns [19]”\n"
     ]
    },
    {
     "name": "stdout",
     "output_type": "stream",
     "text": [
      "[1] \"using concorde solver.\"\n",
      "[1] \"done. append the current solution\"\n",
      "[1] \"subcase\"\n",
      "[1] 242\n",
      "[1] \"trivial. number of points smaller or equal 2\"\n",
      "[1] \"subcase\"\n",
      "[1] 243\n",
      "[1] \"trivial. number of points smaller or equal 2\"\n",
      "[1] \"subcase\"\n",
      "[1] 244\n",
      "[1] \"generating TSP instance for sub case\"\n"
     ]
    },
    {
     "name": "stderr",
     "output_type": "stream",
     "text": [
      "Warning message in matrix(const, ncol = p + n, nrow = n, dimnames = list(label, :\n",
      "“data length [8] is not a sub-multiple or multiple of the number of columns [9]”\n"
     ]
    },
    {
     "name": "stdout",
     "output_type": "stream",
     "text": [
      "[1] \"using concorde solver.\"\n",
      "[1] \"done. append the current solution\"\n",
      "[1] \"subcase\"\n",
      "[1] 245\n",
      "[1] \"generating TSP instance for sub case\"\n"
     ]
    },
    {
     "name": "stderr",
     "output_type": "stream",
     "text": [
      "Warning message in matrix(const, ncol = p + n, nrow = n, dimnames = list(label, :\n",
      "“data length [6] is not a sub-multiple or multiple of the number of columns [7]”\n"
     ]
    },
    {
     "name": "stdout",
     "output_type": "stream",
     "text": [
      "[1] \"using concorde solver.\"\n",
      "[1] \"done. append the current solution\"\n",
      "[1] \"subcase\"\n",
      "[1] 246\n",
      "[1] \"generating TSP instance for sub case\"\n"
     ]
    },
    {
     "name": "stderr",
     "output_type": "stream",
     "text": [
      "Warning message in matrix(const, ncol = p + n, nrow = n, dimnames = list(label, :\n",
      "“data length [4] is not a sub-multiple or multiple of the number of columns [5]”\n"
     ]
    },
    {
     "name": "stdout",
     "output_type": "stream",
     "text": [
      "[1] \"using concorde solver.\"\n",
      "[1] \"done. append the current solution\"\n",
      "[1] \"subcase\"\n",
      "[1] 247\n",
      "[1] \"trivial. number of points smaller or equal 2\"\n",
      "[1] \"subcase\"\n",
      "[1] 248\n",
      "[1] \"generating TSP instance for sub case\"\n"
     ]
    },
    {
     "name": "stderr",
     "output_type": "stream",
     "text": [
      "Warning message in matrix(const, ncol = p + n, nrow = n, dimnames = list(label, :\n",
      "“data length [27] is not a sub-multiple or multiple of the number of columns [28]”\n"
     ]
    },
    {
     "name": "stdout",
     "output_type": "stream",
     "text": [
      "[1] \"using concorde solver.\"\n",
      "[1] \"done. append the current solution\"\n",
      "[1] \"subcase\"\n",
      "[1] 249\n",
      "[1] \"trivial. number of points smaller or equal 2\"\n",
      "[1] \"subcase\"\n",
      "[1] 250\n",
      "[1] \"generating TSP instance for sub case\"\n"
     ]
    },
    {
     "name": "stderr",
     "output_type": "stream",
     "text": [
      "Warning message in matrix(const, ncol = p + n, nrow = n, dimnames = list(label, :\n",
      "“data length [4] is not a sub-multiple or multiple of the number of columns [5]”\n"
     ]
    },
    {
     "name": "stdout",
     "output_type": "stream",
     "text": [
      "[1] \"using concorde solver.\"\n",
      "[1] \"done. append the current solution\"\n",
      "[1] \"subcase\"\n",
      "[1] 251\n",
      "[1] \"generating TSP instance for sub case\"\n"
     ]
    },
    {
     "name": "stderr",
     "output_type": "stream",
     "text": [
      "Warning message in matrix(const, ncol = p + n, nrow = n, dimnames = list(label, :\n",
      "“data length [30] is not a sub-multiple or multiple of the number of columns [31]”\n"
     ]
    },
    {
     "name": "stdout",
     "output_type": "stream",
     "text": [
      "[1] \"using concorde solver.\"\n",
      "[1] \"done. append the current solution\"\n",
      "[1] \"subcase\"\n",
      "[1] 252\n",
      "[1] \"generating TSP instance for sub case\"\n"
     ]
    },
    {
     "name": "stderr",
     "output_type": "stream",
     "text": [
      "Warning message in matrix(const, ncol = p + n, nrow = n, dimnames = list(label, :\n",
      "“data length [14] is not a sub-multiple or multiple of the number of columns [15]”\n"
     ]
    },
    {
     "name": "stdout",
     "output_type": "stream",
     "text": [
      "[1] \"using concorde solver.\"\n",
      "[1] \"done. append the current solution\"\n",
      "[1] \"subcase\"\n",
      "[1] 253\n",
      "[1] \"generating TSP instance for sub case\"\n"
     ]
    },
    {
     "name": "stderr",
     "output_type": "stream",
     "text": [
      "Warning message in matrix(const, ncol = p + n, nrow = n, dimnames = list(label, :\n",
      "“data length [4] is not a sub-multiple or multiple of the number of columns [5]”\n"
     ]
    },
    {
     "name": "stdout",
     "output_type": "stream",
     "text": [
      "[1] \"using concorde solver.\"\n",
      "[1] \"done. append the current solution\"\n",
      "[1] \"subcase\"\n",
      "[1] 254\n",
      "[1] \"trivial. number of points smaller or equal 2\"\n",
      "[1] \"subcase\"\n",
      "[1] 255\n",
      "[1] \"trivial. number of points smaller or equal 2\"\n",
      "[1] \"subcase\"\n",
      "[1] 256\n",
      "[1] \"generating TSP instance for sub case\"\n"
     ]
    },
    {
     "name": "stderr",
     "output_type": "stream",
     "text": [
      "Warning message in matrix(const, ncol = p + n, nrow = n, dimnames = list(label, :\n",
      "“data length [5] is not a sub-multiple or multiple of the number of columns [6]”\n"
     ]
    },
    {
     "name": "stdout",
     "output_type": "stream",
     "text": [
      "[1] \"using concorde solver.\"\n",
      "[1] \"done. append the current solution\"\n",
      "[1] \"subcase\"\n",
      "[1] 257\n",
      "[1] \"trivial. number of points smaller or equal 2\"\n",
      "[1] \"subcase\"\n",
      "[1] 258\n",
      "[1] \"generating TSP instance for sub case\"\n"
     ]
    },
    {
     "name": "stderr",
     "output_type": "stream",
     "text": [
      "Warning message in matrix(const, ncol = p + n, nrow = n, dimnames = list(label, :\n",
      "“data length [4] is not a sub-multiple or multiple of the number of columns [5]”\n"
     ]
    },
    {
     "name": "stdout",
     "output_type": "stream",
     "text": [
      "[1] \"using concorde solver.\"\n",
      "[1] \"done. append the current solution\"\n",
      "[1] \"subcase\"\n",
      "[1] 259\n",
      "[1] \"trivial. number of points smaller or equal 2\"\n",
      "[1] \"subcase\"\n",
      "[1] 260\n",
      "[1] \"generating TSP instance for sub case\"\n"
     ]
    },
    {
     "name": "stderr",
     "output_type": "stream",
     "text": [
      "Warning message in matrix(const, ncol = p + n, nrow = n, dimnames = list(label, :\n",
      "“data length [11] is not a sub-multiple or multiple of the number of columns [12]”\n"
     ]
    },
    {
     "name": "stdout",
     "output_type": "stream",
     "text": [
      "[1] \"using concorde solver.\"\n",
      "[1] \"done. append the current solution\"\n",
      "[1] \"subcase\"\n",
      "[1] 261\n",
      "[1] \"generating TSP instance for sub case\"\n"
     ]
    },
    {
     "name": "stderr",
     "output_type": "stream",
     "text": [
      "Warning message in matrix(const, ncol = p + n, nrow = n, dimnames = list(label, :\n",
      "“data length [3] is not a sub-multiple or multiple of the number of columns [4]”\n"
     ]
    },
    {
     "name": "stdout",
     "output_type": "stream",
     "text": [
      "[1] \"using concorde solver.\"\n",
      "[1] \"done. append the current solution\"\n",
      "[1] \"subcase\"\n",
      "[1] 262\n",
      "[1] \"trivial. number of points smaller or equal 2\"\n",
      "[1] \"subcase\"\n",
      "[1] 263\n",
      "[1] \"trivial. number of points smaller or equal 2\"\n",
      "[1] \"subcase\"\n",
      "[1] 264\n",
      "[1] \"generating TSP instance for sub case\"\n"
     ]
    },
    {
     "name": "stderr",
     "output_type": "stream",
     "text": [
      "Warning message in matrix(const, ncol = p + n, nrow = n, dimnames = list(label, :\n",
      "“data length [3] is not a sub-multiple or multiple of the number of columns [4]”\n"
     ]
    },
    {
     "name": "stdout",
     "output_type": "stream",
     "text": [
      "[1] \"using concorde solver.\"\n",
      "[1] \"done. append the current solution\"\n",
      "[1] \"subcase\"\n",
      "[1] 265\n",
      "[1] \"trivial. number of points smaller or equal 2\"\n",
      "[1] \"subcase\"\n",
      "[1] 266\n",
      "[1] \"trivial. number of points smaller or equal 2\"\n",
      "[1] \"subcase\"\n",
      "[1] 267\n",
      "[1] \"trivial. number of points smaller or equal 2\"\n",
      "[1] \"subcase\"\n",
      "[1] 268\n",
      "[1] \"trivial. number of points smaller or equal 2\"\n",
      "[1] \"subcase\"\n",
      "[1] 269\n",
      "[1] \"generating TSP instance for sub case\"\n"
     ]
    },
    {
     "name": "stderr",
     "output_type": "stream",
     "text": [
      "Warning message in matrix(const, ncol = p + n, nrow = n, dimnames = list(label, :\n",
      "“data length [3] is not a sub-multiple or multiple of the number of columns [4]”\n"
     ]
    },
    {
     "name": "stdout",
     "output_type": "stream",
     "text": [
      "[1] \"using concorde solver.\"\n",
      "[1] \"done. append the current solution\"\n",
      "[1] \"subcase\"\n",
      "[1] 270\n",
      "[1] \"generating TSP instance for sub case\"\n"
     ]
    },
    {
     "name": "stderr",
     "output_type": "stream",
     "text": [
      "Warning message in matrix(const, ncol = p + n, nrow = n, dimnames = list(label, :\n",
      "“data length [7] is not a sub-multiple or multiple of the number of columns [8]”\n"
     ]
    },
    {
     "name": "stdout",
     "output_type": "stream",
     "text": [
      "[1] \"using concorde solver.\"\n",
      "[1] \"done. append the current solution\"\n",
      "[1] \"subcase\"\n",
      "[1] 271\n",
      "[1] \"trivial. number of points smaller or equal 2\"\n",
      "[1] \"subcase\"\n",
      "[1] 272\n",
      "[1] \"generating TSP instance for sub case\"\n"
     ]
    },
    {
     "name": "stderr",
     "output_type": "stream",
     "text": [
      "Warning message in matrix(const, ncol = p + n, nrow = n, dimnames = list(label, :\n",
      "“data length [12] is not a sub-multiple or multiple of the number of columns [13]”\n"
     ]
    },
    {
     "name": "stdout",
     "output_type": "stream",
     "text": [
      "[1] \"using concorde solver.\"\n",
      "[1] \"done. append the current solution\"\n",
      "[1] \"subcase\"\n",
      "[1] 273\n",
      "[1] \"trivial. number of points smaller or equal 2\"\n",
      "[1] \"subcase\"\n",
      "[1] 274\n",
      "[1] \"trivial. number of points smaller or equal 2\"\n",
      "[1] \"subcase\"\n",
      "[1] 275\n",
      "[1] \"trivial. number of points smaller or equal 2\"\n",
      "[1] \"subcase\"\n",
      "[1] 276\n",
      "[1] \"trivial. number of points smaller or equal 2\"\n",
      "[1] \"subcase\"\n",
      "[1] 277\n",
      "[1] \"generating TSP instance for sub case\"\n"
     ]
    },
    {
     "name": "stderr",
     "output_type": "stream",
     "text": [
      "Warning message in matrix(const, ncol = p + n, nrow = n, dimnames = list(label, :\n",
      "“data length [3] is not a sub-multiple or multiple of the number of columns [4]”\n"
     ]
    },
    {
     "name": "stdout",
     "output_type": "stream",
     "text": [
      "[1] \"using concorde solver.\"\n",
      "[1] \"done. append the current solution\"\n",
      "[1] \"subcase\"\n",
      "[1] 278\n",
      "[1] \"generating TSP instance for sub case\"\n"
     ]
    },
    {
     "name": "stderr",
     "output_type": "stream",
     "text": [
      "Warning message in matrix(const, ncol = p + n, nrow = n, dimnames = list(label, :\n",
      "“data length [4] is not a sub-multiple or multiple of the number of columns [5]”\n"
     ]
    },
    {
     "name": "stdout",
     "output_type": "stream",
     "text": [
      "[1] \"using concorde solver.\"\n",
      "[1] \"done. append the current solution\"\n",
      "[1] \"subcase\"\n",
      "[1] 279\n",
      "[1] \"generating TSP instance for sub case\"\n"
     ]
    },
    {
     "name": "stderr",
     "output_type": "stream",
     "text": [
      "Warning message in matrix(const, ncol = p + n, nrow = n, dimnames = list(label, :\n",
      "“data length [8] is not a sub-multiple or multiple of the number of columns [9]”\n"
     ]
    },
    {
     "name": "stdout",
     "output_type": "stream",
     "text": [
      "[1] \"using concorde solver.\"\n",
      "[1] \"done. append the current solution\"\n",
      "[1] \"subcase\"\n",
      "[1] 280\n",
      "[1] \"generating TSP instance for sub case\"\n"
     ]
    },
    {
     "name": "stderr",
     "output_type": "stream",
     "text": [
      "Warning message in matrix(const, ncol = p + n, nrow = n, dimnames = list(label, :\n",
      "“data length [3] is not a sub-multiple or multiple of the number of columns [4]”\n"
     ]
    },
    {
     "name": "stdout",
     "output_type": "stream",
     "text": [
      "[1] \"using concorde solver.\"\n",
      "[1] \"done. append the current solution\"\n",
      "[1] \"subcase\"\n",
      "[1] 281\n",
      "[1] \"generating TSP instance for sub case\"\n"
     ]
    },
    {
     "name": "stderr",
     "output_type": "stream",
     "text": [
      "Warning message in matrix(const, ncol = p + n, nrow = n, dimnames = list(label, :\n",
      "“data length [8] is not a sub-multiple or multiple of the number of columns [9]”\n"
     ]
    },
    {
     "name": "stdout",
     "output_type": "stream",
     "text": [
      "[1] \"using concorde solver.\"\n",
      "[1] \"done. append the current solution\"\n",
      "[1] \"subcase\"\n",
      "[1] 282\n",
      "[1] \"generating TSP instance for sub case\"\n"
     ]
    },
    {
     "name": "stderr",
     "output_type": "stream",
     "text": [
      "Warning message in matrix(const, ncol = p + n, nrow = n, dimnames = list(label, :\n",
      "“data length [6] is not a sub-multiple or multiple of the number of columns [7]”\n"
     ]
    },
    {
     "name": "stdout",
     "output_type": "stream",
     "text": [
      "[1] \"using concorde solver.\"\n",
      "[1] \"done. append the current solution\"\n",
      "[1] \"subcase\"\n",
      "[1] 283\n",
      "[1] \"generating TSP instance for sub case\"\n"
     ]
    },
    {
     "name": "stderr",
     "output_type": "stream",
     "text": [
      "Warning message in matrix(const, ncol = p + n, nrow = n, dimnames = list(label, :\n",
      "“data length [13] is not a sub-multiple or multiple of the number of columns [14]”\n"
     ]
    },
    {
     "name": "stdout",
     "output_type": "stream",
     "text": [
      "[1] \"using concorde solver.\"\n",
      "[1] \"done. append the current solution\"\n",
      "[1] \"subcase\"\n",
      "[1] 284\n",
      "[1] \"generating TSP instance for sub case\"\n"
     ]
    },
    {
     "name": "stderr",
     "output_type": "stream",
     "text": [
      "Warning message in matrix(const, ncol = p + n, nrow = n, dimnames = list(label, :\n",
      "“data length [188] is not a sub-multiple or multiple of the number of columns [189]”\n"
     ]
    },
    {
     "name": "stdout",
     "output_type": "stream",
     "text": [
      "[1] \"using concorde solver.\"\n",
      "[1] \"done. append the current solution\"\n",
      "[1] \"subcase\"\n",
      "[1] 285\n",
      "[1] \"generating TSP instance for sub case\"\n"
     ]
    },
    {
     "name": "stderr",
     "output_type": "stream",
     "text": [
      "Warning message in matrix(const, ncol = p + n, nrow = n, dimnames = list(label, :\n",
      "“data length [3] is not a sub-multiple or multiple of the number of columns [4]”\n"
     ]
    },
    {
     "name": "stdout",
     "output_type": "stream",
     "text": [
      "[1] \"using concorde solver.\"\n",
      "[1] \"done. append the current solution\"\n",
      "[1] \"subcase\"\n",
      "[1] 286\n",
      "[1] \"trivial. number of points smaller or equal 2\"\n",
      "[1] \"subcase\"\n",
      "[1] 287\n",
      "[1] \"generating TSP instance for sub case\"\n"
     ]
    },
    {
     "name": "stderr",
     "output_type": "stream",
     "text": [
      "Warning message in matrix(const, ncol = p + n, nrow = n, dimnames = list(label, :\n",
      "“data length [22] is not a sub-multiple or multiple of the number of columns [23]”\n"
     ]
    },
    {
     "name": "stdout",
     "output_type": "stream",
     "text": [
      "[1] \"using concorde solver.\"\n",
      "[1] \"done. append the current solution\"\n",
      "[1] \"subcase\"\n",
      "[1] 288\n",
      "[1] \"generating TSP instance for sub case\"\n"
     ]
    },
    {
     "name": "stderr",
     "output_type": "stream",
     "text": [
      "Warning message in matrix(const, ncol = p + n, nrow = n, dimnames = list(label, :\n",
      "“data length [7] is not a sub-multiple or multiple of the number of columns [8]”\n"
     ]
    },
    {
     "name": "stdout",
     "output_type": "stream",
     "text": [
      "[1] \"using concorde solver.\"\n",
      "[1] \"done. append the current solution\"\n",
      "[1] \"subcase\"\n",
      "[1] 289\n",
      "[1] \"trivial. number of points smaller or equal 2\"\n",
      "[1] \"subcase\"\n",
      "[1] 290\n",
      "[1] \"trivial. number of points smaller or equal 2\"\n",
      "[1] \"subcase\"\n",
      "[1] 291\n",
      "[1] \"trivial. number of points smaller or equal 2\"\n",
      "[1] \"subcase\"\n",
      "[1] 292\n",
      "[1] \"generating TSP instance for sub case\"\n"
     ]
    },
    {
     "name": "stderr",
     "output_type": "stream",
     "text": [
      "Warning message in matrix(const, ncol = p + n, nrow = n, dimnames = list(label, :\n",
      "“data length [18] is not a sub-multiple or multiple of the number of columns [19]”\n"
     ]
    },
    {
     "name": "stdout",
     "output_type": "stream",
     "text": [
      "[1] \"using concorde solver.\"\n",
      "[1] \"done. append the current solution\"\n",
      "[1] \"subcase\"\n",
      "[1] 293\n",
      "[1] \"generating TSP instance for sub case\"\n"
     ]
    },
    {
     "name": "stderr",
     "output_type": "stream",
     "text": [
      "Warning message in matrix(const, ncol = p + n, nrow = n, dimnames = list(label, :\n",
      "“data length [9] is not a sub-multiple or multiple of the number of columns [10]”\n"
     ]
    },
    {
     "name": "stdout",
     "output_type": "stream",
     "text": [
      "[1] \"using concorde solver.\"\n",
      "[1] \"done. append the current solution\"\n",
      "[1] \"subcase\"\n",
      "[1] 294\n",
      "[1] \"trivial. number of points smaller or equal 2\"\n",
      "[1] \"subcase\"\n",
      "[1] 295\n",
      "[1] \"trivial. number of points smaller or equal 2\"\n",
      "[1] \"subcase\"\n",
      "[1] 296\n",
      "[1] \"trivial. number of points smaller or equal 2\"\n",
      "[1] \"subcase\"\n",
      "[1] 297\n",
      "[1] \"generating TSP instance for sub case\"\n"
     ]
    },
    {
     "name": "stderr",
     "output_type": "stream",
     "text": [
      "Warning message in matrix(const, ncol = p + n, nrow = n, dimnames = list(label, :\n",
      "“data length [3] is not a sub-multiple or multiple of the number of columns [4]”\n"
     ]
    },
    {
     "name": "stdout",
     "output_type": "stream",
     "text": [
      "[1] \"using concorde solver.\"\n",
      "[1] \"done. append the current solution\"\n",
      "[1] \"subcase\"\n",
      "[1] 298\n",
      "[1] \"generating TSP instance for sub case\"\n"
     ]
    },
    {
     "name": "stderr",
     "output_type": "stream",
     "text": [
      "Warning message in matrix(const, ncol = p + n, nrow = n, dimnames = list(label, :\n",
      "“data length [5] is not a sub-multiple or multiple of the number of columns [6]”\n"
     ]
    },
    {
     "name": "stdout",
     "output_type": "stream",
     "text": [
      "[1] \"using concorde solver.\"\n",
      "[1] \"done. append the current solution\"\n",
      "[1] \"subcase\"\n",
      "[1] 299\n",
      "[1] \"generating TSP instance for sub case\"\n"
     ]
    },
    {
     "name": "stderr",
     "output_type": "stream",
     "text": [
      "Warning message in matrix(const, ncol = p + n, nrow = n, dimnames = list(label, :\n",
      "“data length [5] is not a sub-multiple or multiple of the number of columns [6]”\n"
     ]
    },
    {
     "name": "stdout",
     "output_type": "stream",
     "text": [
      "[1] \"using concorde solver.\"\n",
      "[1] \"done. append the current solution\"\n",
      "[1] \"subcase\"\n",
      "[1] 300\n",
      "[1] \"trivial. number of points smaller or equal 2\"\n",
      "[1] \"subcase\"\n",
      "[1] 301\n",
      "[1] \"trivial. number of points smaller or equal 2\"\n",
      "[1] \"subcase\"\n",
      "[1] 302\n",
      "[1] \"generating TSP instance for sub case\"\n"
     ]
    },
    {
     "name": "stderr",
     "output_type": "stream",
     "text": [
      "Warning message in matrix(const, ncol = p + n, nrow = n, dimnames = list(label, :\n",
      "“data length [3] is not a sub-multiple or multiple of the number of columns [4]”\n"
     ]
    },
    {
     "name": "stdout",
     "output_type": "stream",
     "text": [
      "[1] \"using concorde solver.\"\n",
      "[1] \"done. append the current solution\"\n",
      "[1] \"subcase\"\n",
      "[1] 303\n",
      "[1] \"trivial. number of points smaller or equal 2\"\n",
      "[1] \"subcase\"\n",
      "[1] 304\n",
      "[1] \"generating TSP instance for sub case\"\n"
     ]
    },
    {
     "name": "stderr",
     "output_type": "stream",
     "text": [
      "Warning message in matrix(const, ncol = p + n, nrow = n, dimnames = list(label, :\n",
      "“data length [5] is not a sub-multiple or multiple of the number of columns [6]”\n"
     ]
    },
    {
     "name": "stdout",
     "output_type": "stream",
     "text": [
      "[1] \"using concorde solver.\"\n",
      "[1] \"done. append the current solution\"\n",
      "[1] \"subcase\"\n",
      "[1] 305\n",
      "[1] \"trivial. number of points smaller or equal 2\"\n",
      "[1] \"subcase\"\n",
      "[1] 306\n",
      "[1] \"generating TSP instance for sub case\"\n"
     ]
    },
    {
     "name": "stderr",
     "output_type": "stream",
     "text": [
      "Warning message in matrix(const, ncol = p + n, nrow = n, dimnames = list(label, :\n",
      "“data length [3] is not a sub-multiple or multiple of the number of columns [4]”\n"
     ]
    },
    {
     "name": "stdout",
     "output_type": "stream",
     "text": [
      "[1] \"using concorde solver.\"\n",
      "[1] \"done. append the current solution\"\n",
      "[1] \"subcase\"\n",
      "[1] 307\n",
      "[1] \"trivial. number of points smaller or equal 2\"\n",
      "[1] \"subcase\"\n",
      "[1] 308\n",
      "[1] \"generating TSP instance for sub case\"\n"
     ]
    },
    {
     "name": "stderr",
     "output_type": "stream",
     "text": [
      "Warning message in matrix(const, ncol = p + n, nrow = n, dimnames = list(label, :\n",
      "“data length [6] is not a sub-multiple or multiple of the number of columns [7]”\n"
     ]
    },
    {
     "name": "stdout",
     "output_type": "stream",
     "text": [
      "[1] \"using concorde solver.\"\n",
      "[1] \"done. append the current solution\"\n",
      "[1] \"subcase\"\n",
      "[1] 309\n",
      "[1] \"trivial. number of points smaller or equal 2\"\n",
      "[1] \"subcase\"\n",
      "[1] 310\n",
      "[1] \"trivial. number of points smaller or equal 2\"\n",
      "[1] \"subcase\"\n",
      "[1] 311\n",
      "[1] \"trivial. number of points smaller or equal 2\"\n",
      "[1] \"subcase\"\n",
      "[1] 312\n",
      "[1] \"trivial. number of points smaller or equal 2\"\n",
      "[1] \"subcase\"\n",
      "[1] 313\n",
      "[1] \"generating TSP instance for sub case\"\n"
     ]
    },
    {
     "name": "stderr",
     "output_type": "stream",
     "text": [
      "Warning message in matrix(const, ncol = p + n, nrow = n, dimnames = list(label, :\n",
      "“data length [3] is not a sub-multiple or multiple of the number of columns [4]”\n"
     ]
    },
    {
     "name": "stdout",
     "output_type": "stream",
     "text": [
      "[1] \"using concorde solver.\"\n",
      "[1] \"done. append the current solution\"\n",
      "[1] \"subcase\"\n",
      "[1] 314\n",
      "[1] \"trivial. number of points smaller or equal 2\"\n",
      "[1] \"subcase\"\n",
      "[1] 315\n",
      "[1] \"generating TSP instance for sub case\"\n"
     ]
    },
    {
     "name": "stderr",
     "output_type": "stream",
     "text": [
      "Warning message in matrix(const, ncol = p + n, nrow = n, dimnames = list(label, :\n",
      "“data length [9] is not a sub-multiple or multiple of the number of columns [10]”\n"
     ]
    },
    {
     "name": "stdout",
     "output_type": "stream",
     "text": [
      "[1] \"using concorde solver.\"\n",
      "[1] \"done. append the current solution\"\n",
      "[1] \"subcase\"\n",
      "[1] 316\n",
      "[1] \"generating TSP instance for sub case\"\n"
     ]
    },
    {
     "name": "stderr",
     "output_type": "stream",
     "text": [
      "Warning message in matrix(const, ncol = p + n, nrow = n, dimnames = list(label, :\n",
      "“data length [5] is not a sub-multiple or multiple of the number of columns [6]”\n"
     ]
    },
    {
     "name": "stdout",
     "output_type": "stream",
     "text": [
      "[1] \"using concorde solver.\"\n",
      "[1] \"done. append the current solution\"\n",
      "[1] \"subcase\"\n",
      "[1] 317\n",
      "[1] \"trivial. number of points smaller or equal 2\"\n",
      "[1] \"subcase\"\n",
      "[1] 318\n",
      "[1] \"trivial. number of points smaller or equal 2\"\n",
      "[1] \"subcase\"\n",
      "[1] 319\n",
      "[1] \"trivial. number of points smaller or equal 2\"\n",
      "[1] \"subcase\"\n",
      "[1] 320\n",
      "[1] \"trivial. number of points smaller or equal 2\"\n",
      "[1] \"subcase\"\n",
      "[1] 321\n",
      "[1] \"generating TSP instance for sub case\"\n"
     ]
    },
    {
     "name": "stderr",
     "output_type": "stream",
     "text": [
      "Warning message in matrix(const, ncol = p + n, nrow = n, dimnames = list(label, :\n",
      "“data length [3] is not a sub-multiple or multiple of the number of columns [4]”\n"
     ]
    },
    {
     "name": "stdout",
     "output_type": "stream",
     "text": [
      "[1] \"using concorde solver.\"\n",
      "[1] \"done. append the current solution\"\n",
      "[1] \"subcase\"\n",
      "[1] 322\n",
      "[1] \"trivial. number of points smaller or equal 2\"\n",
      "[1] \"subcase\"\n",
      "[1] 323\n",
      "[1] \"generating TSP instance for sub case\"\n"
     ]
    },
    {
     "name": "stderr",
     "output_type": "stream",
     "text": [
      "Warning message in matrix(const, ncol = p + n, nrow = n, dimnames = list(label, :\n",
      "“data length [5] is not a sub-multiple or multiple of the number of columns [6]”\n"
     ]
    },
    {
     "name": "stdout",
     "output_type": "stream",
     "text": [
      "[1] \"using concorde solver.\"\n",
      "[1] \"done. append the current solution\"\n",
      "[1] \"subcase\"\n",
      "[1] 324\n",
      "[1] \"generating TSP instance for sub case\"\n"
     ]
    },
    {
     "name": "stderr",
     "output_type": "stream",
     "text": [
      "Warning message in matrix(const, ncol = p + n, nrow = n, dimnames = list(label, :\n",
      "“data length [9] is not a sub-multiple or multiple of the number of columns [10]”\n"
     ]
    },
    {
     "name": "stdout",
     "output_type": "stream",
     "text": [
      "[1] \"using concorde solver.\"\n",
      "[1] \"done. append the current solution\"\n",
      "[1] \"subcase\"\n",
      "[1] 325\n",
      "[1] \"trivial. number of points smaller or equal 2\"\n",
      "[1] \"subcase\"\n",
      "[1] 326\n",
      "[1] \"trivial. number of points smaller or equal 2\"\n",
      "[1] \"subcase\"\n",
      "[1] 327\n",
      "[1] \"trivial. number of points smaller or equal 2\"\n",
      "[1] \"subcase\"\n",
      "[1] 328\n",
      "[1] \"trivial. number of points smaller or equal 2\"\n",
      "[1] \"subcase\"\n",
      "[1] 329\n",
      "[1] \"trivial. number of points smaller or equal 2\"\n",
      "[1] \"subcase\"\n",
      "[1] 330\n",
      "[1] \"trivial. number of points smaller or equal 2\"\n",
      "[1] \"subcase\"\n",
      "[1] 331\n",
      "[1] \"trivial. number of points smaller or equal 2\"\n",
      "[1] \"subcase\"\n",
      "[1] 332\n",
      "[1] \"trivial. number of points smaller or equal 2\"\n",
      "[1] \"subcase\"\n",
      "[1] 333\n",
      "[1] \"trivial. number of points smaller or equal 2\"\n",
      "[1] \"subcase\"\n",
      "[1] 334\n",
      "[1] \"generating TSP instance for sub case\"\n"
     ]
    },
    {
     "name": "stderr",
     "output_type": "stream",
     "text": [
      "Warning message in matrix(const, ncol = p + n, nrow = n, dimnames = list(label, :\n",
      "“data length [3] is not a sub-multiple or multiple of the number of columns [4]”\n"
     ]
    },
    {
     "name": "stdout",
     "output_type": "stream",
     "text": [
      "[1] \"using concorde solver.\"\n",
      "[1] \"done. append the current solution\"\n",
      "[1] \"subcase\"\n",
      "[1] 335\n",
      "[1] \"generating TSP instance for sub case\"\n"
     ]
    },
    {
     "name": "stderr",
     "output_type": "stream",
     "text": [
      "Warning message in matrix(const, ncol = p + n, nrow = n, dimnames = list(label, :\n",
      "“data length [3] is not a sub-multiple or multiple of the number of columns [4]”\n"
     ]
    },
    {
     "name": "stdout",
     "output_type": "stream",
     "text": [
      "[1] \"using concorde solver.\"\n",
      "[1] \"done. append the current solution\"\n",
      "[1] \"subcase\"\n",
      "[1] 336\n",
      "[1] \"generating TSP instance for sub case\"\n"
     ]
    },
    {
     "name": "stderr",
     "output_type": "stream",
     "text": [
      "Warning message in matrix(const, ncol = p + n, nrow = n, dimnames = list(label, :\n",
      "“data length [5] is not a sub-multiple or multiple of the number of columns [6]”\n"
     ]
    },
    {
     "name": "stdout",
     "output_type": "stream",
     "text": [
      "[1] \"using concorde solver.\"\n",
      "[1] \"done. append the current solution\"\n",
      "[1] \"subcase\"\n",
      "[1] 337\n",
      "[1] \"trivial. number of points smaller or equal 2\"\n",
      "[1] \"subcase\"\n",
      "[1] 338\n",
      "[1] \"trivial. number of points smaller or equal 2\"\n",
      "[1] \"subcase\"\n",
      "[1] 339\n",
      "[1] \"trivial. number of points smaller or equal 2\"\n",
      "[1] \"subcase\"\n",
      "[1] 340\n",
      "[1] \"trivial. number of points smaller or equal 2\"\n",
      "[1] \"subcase\"\n",
      "[1] 341\n",
      "[1] \"trivial. number of points smaller or equal 2\"\n",
      "[1] \"subcase\"\n",
      "[1] 342\n",
      "[1] \"trivial. number of points smaller or equal 2\"\n",
      "[1] \"subcase\"\n",
      "[1] 343\n",
      "[1] \"trivial. number of points smaller or equal 2\"\n",
      "[1] \"subcase\"\n",
      "[1] 344\n",
      "[1] \"trivial. number of points smaller or equal 2\"\n",
      "[1] \"subcase\"\n",
      "[1] 345\n",
      "[1] \"generating TSP instance for sub case\"\n"
     ]
    },
    {
     "name": "stderr",
     "output_type": "stream",
     "text": [
      "Warning message in matrix(const, ncol = p + n, nrow = n, dimnames = list(label, :\n",
      "“data length [8] is not a sub-multiple or multiple of the number of columns [9]”\n"
     ]
    },
    {
     "name": "stdout",
     "output_type": "stream",
     "text": [
      "[1] \"using concorde solver.\"\n",
      "[1] \"done. append the current solution\"\n",
      "[1] \"subcase\"\n",
      "[1] 346\n",
      "[1] \"trivial. number of points smaller or equal 2\"\n",
      "[1] \"subcase\"\n",
      "[1] 347\n",
      "[1] \"trivial. number of points smaller or equal 2\"\n",
      "[1] \"subcase\"\n",
      "[1] 348\n",
      "[1] \"trivial. number of points smaller or equal 2\"\n",
      "[1] \"subcase\"\n",
      "[1] 349\n",
      "[1] \"trivial. number of points smaller or equal 2\"\n",
      "[1] \"subcase\"\n",
      "[1] 350\n",
      "[1] \"trivial. number of points smaller or equal 2\"\n",
      "[1] \"subcase\"\n",
      "[1] 351\n",
      "[1] \"trivial. number of points smaller or equal 2\"\n",
      "[1] \"subcase\"\n",
      "[1] 352\n",
      "[1] \"trivial. number of points smaller or equal 2\"\n",
      "[1] \"subcase\"\n",
      "[1] 353\n",
      "[1] \"generating TSP instance for sub case\"\n"
     ]
    },
    {
     "name": "stderr",
     "output_type": "stream",
     "text": [
      "Warning message in matrix(const, ncol = p + n, nrow = n, dimnames = list(label, :\n",
      "“data length [45] is not a sub-multiple or multiple of the number of columns [46]”\n"
     ]
    },
    {
     "name": "stdout",
     "output_type": "stream",
     "text": [
      "[1] \"using concorde solver.\"\n",
      "[1] \"done. append the current solution\"\n",
      "[1] \"subcase\"\n",
      "[1] 354\n",
      "[1] \"generating TSP instance for sub case\"\n"
     ]
    },
    {
     "name": "stderr",
     "output_type": "stream",
     "text": [
      "Warning message in matrix(const, ncol = p + n, nrow = n, dimnames = list(label, :\n",
      "“data length [13] is not a sub-multiple or multiple of the number of columns [14]”\n"
     ]
    },
    {
     "name": "stdout",
     "output_type": "stream",
     "text": [
      "[1] \"using concorde solver.\"\n",
      "[1] \"done. append the current solution\"\n",
      "[1] \"subcase\"\n",
      "[1] 355\n",
      "[1] \"generating TSP instance for sub case\"\n"
     ]
    },
    {
     "name": "stderr",
     "output_type": "stream",
     "text": [
      "Warning message in matrix(const, ncol = p + n, nrow = n, dimnames = list(label, :\n",
      "“data length [170] is not a sub-multiple or multiple of the number of columns [171]”\n"
     ]
    },
    {
     "name": "stdout",
     "output_type": "stream",
     "text": [
      "[1] \"using concorde solver.\"\n",
      "[1] \"done. append the current solution\"\n",
      "[1] \"subcase\"\n",
      "[1] 356\n",
      "[1] \"trivial. number of points smaller or equal 2\"\n",
      "[1] \"subcase\"\n",
      "[1] 357\n",
      "[1] \"trivial. number of points smaller or equal 2\"\n",
      "[1] \"all subcases are solved. Total processing time\"\n",
      "Time difference of 1.462126 secs\n",
      "[1] \"merging\"\n",
      "   [1]    2    1    3    4    5   17    7    8    9   13   18   24   33   31\n",
      "  [15]   26   22   14   12   19   10   15   21   29   32  169  170  164  182\n",
      "  [29]  190  186  197  212  205  207  201  206  211  214  217  222  224  221\n",
      "  [43]  227  241  245  261  263  264  260  255  256  265  273  288  424  437\n",
      "  [57]  342  312  397  411  416  415  420  429  512  528  519  503  511  527\n",
      "  [71]  535  562  607  588  573  572  536  529  520  550  521  493  490  487\n",
      "  [85]  452  442  443  473  466  453  444  454  445  446  456  457  447  455\n",
      "  [99]  467  474  513  494  504  523  524  563  552  532  538  505  495  488\n",
      " [113]  472  468  470  451  448  431  417  400  418  414  395  396  379  366\n",
      " [127]  364  334  337  345  341  329  322  317  310  309  308  300  311  348\n",
      " [141]  350  356  369  378  388  352  344  354  377  382  394  399  428  463\n",
      " [155]  475  476  483  486  496  491  489  497  506  501  508  516  515  510\n",
      " [169]  514  518  526  560  567  579  574  578  594  610  615  622  642  687\n",
      " [183]  712  658  650  627  598  669  682  625  606  590  672  661  612  570\n",
      " [197]  587  575  566  544  545  534  539  543  556  589  582  674  719  703\n",
      " [211]  697  723  717  699  721  730  732  739  760  792  875  960 1005  998\n",
      " [225]  949  912  887  853  883  901  876  867  838  851  872  879  900  955\n",
      " [239]  936  946  953  950  945  941  930  939  999 1001  967  962  951  959\n",
      " [253]  964  969  973  981  971  986  984  988  989  987  991  995  974  978\n",
      " [267]  977  968  963  966  979  972  990 1010 1003 1028 1062 1071 1076 1078\n",
      " [281] 1083 1096 1103 1116 1131 1178 1184 1180 1168 1156 1138 1114 1093 1080\n",
      " [295] 1074 1043 1024 1030 1022 1018 1017 1013 1027  934  938  922  994  965\n",
      " [309]  961  956  970  957  980  937  933  927  852  844  841  801  780  771\n",
      " [323]  798  850  828  829  885  868  839  832  826  817  814  807  808  751\n",
      " [337]  793  811  799  800  802  810  803  865  840  842  822  825  790  779\n",
      " [351]  741  711  729  748  773  821  763  761  744  735  738  726  742  759\n",
      " [365]  757  774  782  788  846  785  772  770  749  737  714  704  693  686\n",
      " [379]  698  680  678  663  670  676  673  648  614  632  624  565  537  531\n",
      " [393]  522  530  551  577  591  609  621  640  641  628  626  633  659  636\n",
      " [407]  619  620  644  643  647  657  666  671  705  702  694  690  681  665\n",
      " [421]  679  701  708  716  724  728  745  752  769  762  755  750  725  740\n",
      " [435]  743  713  677  689  656  664  655  623  720  736  766  765  791  806\n",
      " [449]  787  781  767  758  764  809  816  820  834  849  921  896  904  866\n",
      " [463]  859  856  837  860  863  855  858  873  890  899  911  907  897  924\n",
      " [477]  943  976 1084 1101 1111 1119 1132 1143 1142 1145 1152 1157 1160 1174\n",
      " [491] 1169 1151 1095 1075 1048 1023 1008  920  919  983  954  917  889  819\n",
      " [505]  813  753  783  778  847  877  870  871  902  878  861  845  804  795\n",
      " [519]  756  684  695  727  734  651  685  639  613  585  568  549  548  630\n",
      " [533]  618  603  616  634  654  731  707  733  775  776  835  932  935  903\n",
      " [547]  929  944  975  952  982  942  931  923  906  891  881  830  812  843\n",
      " [561]  869  857  862  747  746  789 1000 1015  993 1069 1081 1089 1107 1113\n",
      " [575] 1122 1123 1130 1282 1278 1277 1360 1346 1351 1509 1517 1525 1519 1518\n",
      " [589] 1529 1586 1599 1611 1616 1617 1612 1613 1609 1614 1643 1651 1666 1678\n",
      " [603] 1679 1698 1699 1707 1708 1694 1697 1719 1738 1720 1710 1715 1696 1693\n",
      " [617] 1692 1688 1674 1670 1660 1652 1645 1634 1636 1646 1637 1625 1626 1622\n",
      " [631] 1618 1594 1595 1596 1589 1590 1597 1604 1603 1615 1619 1628 1641 1632\n",
      " [645] 1640 1639 1638 1647 1667 1671 1684 1689 1687 1682 1685 1681 1680 1701\n",
      " [659] 1712 1725 1737 1736 1727 1723 1731 1733 1734 1735 1740 1745 1747 1753\n",
      " [673] 1754 1755 1756 1757 1760 1761 1762 1763 1765 1766 1769 1768 1812 1975\n",
      " [687] 1974 1973 1969 1970 1972 1977 1978 1979 1976 1971 1967 1966 1968 1965\n",
      " [701] 1964 1962 1963 1960 1950 1945 1940 1957 1959 1954 1952 1953 1948 1941\n",
      " [715] 1929 1924 1931 1925 1926 1917 1912 1906 1897 1901 1902 1903 1889 1876\n",
      " [729] 1861 1877 1872 1874 1850 1847 1866 1868 1882 1873 1878 1888 1891 1892\n",
      " [743] 1896 1895 1899 1900 1904 1905 1927 1921 1907 1894 1887 1886 1884 1881\n",
      " [757] 1880 1848 1846 1849 1854 1864 1867 1870 1871 1865 1855 1853 1851 1843\n",
      " [771] 1836 1830 1825 1823 1826 1837 1845 1834 1841 1856 1883 1893 1898 1911\n",
      " [785] 1909 1908 1913 1910 1915 1919 1932 1930 1923 1928 1933 1938 1944 1946\n",
      " [799] 1935 1934 1918 1914 1922 1936 1956 1939 1947 1961 1958 1951 1937 1942\n",
      " [813] 1949 1955 1943 1920 1916 1860 1858 1869 1863 1875 1890 1885 1879 1859\n",
      " [827] 1862 1857 1852 1842 1839 1840 1832 1828 1818 1809 1807 1810 1811 1820\n",
      " [841] 1822 1824 1833 1827 1831 1835 1844 1838 1829 1815 1813 1819 1821 1816\n",
      " [855] 1817 1814 1808 1806 1804 1803 1797 1785 1781 1778 1773 1771 1774 1780\n",
      " [869] 1775 1786 1784 1779 1776 1777 1783 1787 1789 1802 1796 1798 1793 1791\n",
      " [883] 1792 1790 1795 1794 1805 1801 1800 1799 1788 1782 1772 1770 1767 1764\n",
      " [897] 1759 1758 1752 1751 1750 1749 1748 1746 1744 1743 1742 1741 1739 1732\n",
      " [911] 1730 1729 1728 1726 1724 1721 1717 1722 1718 1716 1714 1713 1711 1709\n",
      " [925] 1706 1705 1704 1703 1702 1700 1695 1691 1690 1683 1686 1677 1676 1675\n",
      " [939] 1673 1672 1668 1653 1656 1659 1665 1662 1664 1669 1663 1661 1658 1657\n",
      " [953] 1655 1654 1650 1648 1649 1635 1644 1642 1633 1631 1630 1629 1627 1624\n",
      " [967] 1623 1621 1620 1608 1610 1607 1606 1605 1602 1588 1600 1601 1598 1593\n",
      " [981] 1592 1591 1587 1584 1583 1585 1581 1582 1580 1575 1571 1569 1564 1560\n",
      " [995] 1558 1554 1553 1552 1551 1547 1542 1538 1536 1541 1531 1527 1520 1513\n",
      "[1009] 1510 1507 1503 1487 1484 1482 1481 1479 1477 1476 1474 1471 1466 1467\n",
      "[1023] 1464 1462 1457 1456 1445 1455 1450 1439 1451 1447 1442 1441 1437 1425\n",
      "[1037] 1421 1426 1427 1419 1411 1402 1397 1396 1394 1389 1386 1383 1357 1367\n",
      "[1051] 1372 1381 1385 1382 1384 1359 1338 1361 1375 1398 1395 1404 1403 1409\n",
      "[1065] 1407 1415 1422 1429 1431 1420 1408 1435 1448 1453 1443 1440 1428 1423\n",
      "[1079] 1449 1463 1473 1497 1506 1512 1516 1514 1515 1524 1559 1574 1579 1570\n",
      "[1093] 1557 1548 1537 1534 1535 1528 1486 1465 1493 1485 1488 1491 1470 1438\n",
      "[1107] 1452 1424 1401 1392 1365 1371 1377 1374 1378 1379 1387 1390 1414 1417\n",
      "[1121] 1434 1444 1469 1475 1490 1505 1500 1492 1480 1416 1454 1432 1446 1461\n",
      "[1135] 1460 1501 1498 1508 1521 1504 1496 1495 1483 1478 1459 1468 1472 1511\n",
      "[1149] 1526 1522 1523 1540 1533 1549 1563 1568 1556 1555 1566 1567 1578 1577\n",
      "[1163] 1576 1562 1573 1572 1565 1561 1543 1544 1550 1545 1546 1539 1530 1502\n",
      "[1177] 1494 1499 1436 1364 1363 1328 1321 1315 1326 1314 1313 1310 1238 1254\n",
      "[1191] 1233 1240 1245 1227 1215 1221 1234 1231 1228 1197 1194 1190 1203 1191\n",
      "[1205] 1222 1252 1263 1299 1294 1319 1331 1323 1306 1262 1226 1155 1097 1102\n",
      "[1219] 1162 1087 1104 1090 1079 1125 1154 1188 1235 1302 1303 1324 1332 1353\n",
      "[1233] 1369 1406 1412 1433 1373 1376 1399 1458 1532 1489 1430 1418 1400 1410\n",
      "[1247] 1405 1388 1370 1317 1311 1308 1305 1279 1304 1307 1329 1348 1356 1368\n",
      "[1261] 1393 1391 1413 1362 1366 1350 1344 1345 1343 1334 1320 1312 1296 1287\n",
      "[1275] 1293 1204 1163 1126 1070 1066 1040 1034 1045 1038 1026 1029 1053 1057\n",
      "[1289] 1063 1036  948  985  996 1006 1012 1041 1044 1055 1105 1135 1164 1182\n",
      "[1303] 1185 1139 1186 1171 1124 1112 1094 1073 1086 1088 1072 1068 1033 1039\n",
      "[1317] 1049 1059 1060 1091 1165 1166 1193 1206 1237 1246 1230 1216 1253 1258\n",
      "[1331] 1261 1270 1280 1290 1247 1232 1212 1201 1167 1092 1082 1077 1067 1042\n",
      "[1345] 1050 1051 1054 1099 1149 1181 1241 1250 1257 1242 1224 1207 1249 1196\n",
      "[1359] 1173 1172 1134 1127 1120 1100 1117 1121 1133 1144 1153 1158 1175 1146\n",
      "[1373] 1109 1064 1047 1037 1016 1020 1035 1115 1058 1085 1032 1046 1056 1118\n",
      "[1387] 1189 1200 1136 1179 1195 1183 1239 1259 1268 1309 1337 1339 1341 1340\n",
      "[1401] 1342 1347 1354 1352 1358 1380 1355 1349 1335 1322 1336 1330 1327 1333\n",
      "[1415] 1325 1316 1318 1300 1285 1251 1255 1225 1210 1177 1110 1129 1141 1150\n",
      "[1429] 1159 1147 1140 1137 1148 1170 1176 1199 1213 1220 1205 1217 1214 1218\n",
      "[1443] 1223 1229 1236 1244 1273 1265 1281 1274 1271 1286 1297 1298 1295 1301\n",
      "[1457] 1283 1288 1289 1291 1292 1284 1276 1269 1267 1256 1248 1243 1211 1202\n",
      "[1471] 1192 1161 1198 1264 1266 1275 1272 1260 1219 1209 1208 1187 1098 1128\n",
      "[1485] 1106 1061 1065 1031 1021 1011 1019 1009 1007 1004 1002  958  940  916\n",
      "[1499]  913  898  815  797  827  848  874  894  893  947 1025 1108 1052 1014\n",
      "[1513]  997  992  928  925  908  880  864  833  884  892  910  905  909  915\n",
      "[1527]  926  914  918  895  886  888  882  854  823  831  836  824  818  796\n",
      "[1541]  794  786  805  777  768  784  754  696  668  675  667  660  645  649\n",
      "[1555]  617  602  583  592  564  581  593  604  611  629  638  652  569  559\n",
      "[1569]  525  502  499  498  517  485  484  480  481  478  479  477  469  460\n",
      "[1583]  462  464  438  434  450  465  471  459  458  461  482  507  509  492\n",
      "[1597]  533  542  555  653  584  571  576  600  599  595  605  601  597  608\n",
      "[1611]  631  635  637  692  683  691  700  715  718  706  710  709  722  688\n",
      "[1625]  596  586  662  646  580  554  541  540  553  547  546  558  561  557\n",
      "[1639]  500  441  433  430  427  426  423  421  422  402  403  432  435  439\n",
      "[1653]  440  449  436  404  392  383  361  362  370  386  343  333  332  325\n",
      "[1667]  326  328  313  335  371  385  389  393  374  367  360  358  346  338\n",
      "[1681]  319  318  315  320  316  314  321  324  323  331  340  349  355  347\n",
      "[1695]  363  375  384  387  413  408  409  410  407  406  398  405  419  412\n",
      "[1709]  425  401  391  390  368  357  353  359  380  381  376  372  373  365\n",
      "[1723]  339  336  351  330  327  307  304  301  306  299  291  296  293  295\n",
      "[1737]  289  279  285  283  284  281  282  286  292  294  290  298  305  303\n",
      "[1751]  302  297  287  280  278  277  272  269  268  275  274  276  271  270\n",
      "[1765]  266  267  262  258  259  252  249  246  243  244  240  239  234  230\n",
      "[1779]  229  231  250  253  254  251  247  242  238  236  235  233  232  228\n",
      "[1793]  225  226  257  237  248  223  220  219  218  216  215  213  209  204\n",
      "[1807]  202  200  198  195  210  203  199  196  191  179  175   54   28   11\n",
      "[1821]   35   38   47   44   55  108   67   73   82  109  128  151  161  137\n",
      "[1835]  127  139  145  153  115  113  105   92   79   75   76   70   60   62\n",
      "[1849]   74  100   80   97  118  122  138  144  156  150  136  140  152  114\n",
      "[1863]  121  120  126  133  146  143  132  130  157  149  148  158  155  147\n",
      "[1877]  135  142  159  168  167  162  163  141  134  129  125  106   88  104\n",
      "[1891]  112  111  116   72   58   95   84   57   53   69  107   94   41   45\n",
      "[1905]   49   51   52   39   36   42   61   71   59   78   93   50   43   34\n",
      "[1919]   30   20   25   23   27   48   91   81   90   96   99  102   98  101\n",
      "[1933]  110  124  123  103  119  117   89   83   63   56   46   37   40   68\n",
      "[1947]   66   64   77   86   85   65   87  131  154  160  166  165  171  177\n",
      "[1961]  176  178  181  183  185  188  189  194  208  193  192  187  184  180\n",
      "[1975]  173  172  174   16    6\n",
      "Time difference of 0.03977132 secs\n",
      "[1] \"process ends. Total time\"\n",
      "Time difference of 158.0987 secs\n"
     ]
    }
   ],
   "source": [
    "print(\"preparing necessary data\")\n",
    "start_time <- Sys.time()\n",
    "for (i in 1:noPts){\n",
    "    pointSet[[toString(i)]] <- tuple(dataETSP[i], dataETSP[i+noPts])\n",
    "    element <- list(i, dataETSP[[i]],dataETSP[[i+noPts]])\n",
    "    horizontal_based <- append( horizontal_based, list(element))\n",
    "    vertical_based <- append(vertical_based, list(element))\n",
    "}\n",
    "\n",
    "horizontal_based <- horizontal_based[order(sapply(horizontal_based, '[[', 2))]\n",
    "vertical_based <- vertical_based[order(sapply(vertical_based,'[[',3))]\n",
    "vertices_mat <- as.matrix(as.TSP(dataETSP))\n",
    "done <- list \n",
    "current_tree <- list()\n",
    "checklist <-(c(1:noPts))\n",
    "\n",
    "\n",
    "end_time <-Sys.time()\n",
    "print(\"total time to pre process data\")\n",
    "add<- end_time - start_time\n",
    "total<-  add\n",
    "print(add)\n",
    "print(\"begin clustering vertices based on given radius\")\n",
    "start_time <- Sys.time()\n",
    "while (length(checklist) != 0){\n",
    "\n",
    "    branch <- list()\n",
    "\n",
    "    old_branch_len<- length(branch)\n",
    "\n",
    "    startPt = checklist[1]\n",
    "    branch<-append(branch, startPt)\n",
    "    done <- append(done, startPt)\n",
    "\n",
    "    counter =1\n",
    "\n",
    "    while(old_branch_len != length(branch)){\n",
    "\n",
    "        current_branch_len <- length(branch)\n",
    "\n",
    "        start <-old_branch_len+1\n",
    "        pts_to_connect <- c(branch[start:current_branch_len])\n",
    "\n",
    "        checklist <-checklist[!checklist %in% pts_to_connect]\n",
    "\n",
    "        old_branch_len= current_branch_len\n",
    "\n",
    "        for (connect_pt in pts_to_connect){\n",
    "            vPt1 <-values(pointSet, keys=connect_pt) \n",
    "            possible_connect <- get_possible_pts(vPt1[[1]],vPt1[[2]], radius, horizontal_based,vertical_based, done)\n",
    "\n",
    "            for (comparePt in possible_connect){\n",
    "\n",
    "                if (!comparePt %in%branch){\n",
    "\n",
    "                    vPt2 <-values(pointSet, keys=comparePt) \n",
    "\n",
    "                    if (dist_pts(vPt1,vPt2) <= 2*radius){\n",
    "\n",
    "                        branch<-append(branch,comparePt)\n",
    "                        done <- append(done,comparePt)\n",
    "                        checklist <-checklist[!checklist %in% c(comparePt)]\n",
    "\n",
    "\n",
    "                    } \n",
    "                } \n",
    "            }\n",
    "        }\n",
    "        counter <- counter +1\n",
    "\n",
    "    }\n",
    "    current_tree <- append(current_tree, list(branch))\n",
    "}\n",
    "end_time <- Sys.time()\n",
    "\n",
    "print(\"finished clustering. Total processing time: \")\n",
    "add<- end_time - start_time\n",
    "total<- total + add\n",
    "print(add)\n",
    "\n",
    "\n",
    "branch_no <- length(current_tree)\n",
    "print(\"number of branches in tree\")\n",
    "print(branch_no)\n",
    "if (branch_no <= 2){\n",
    "    print(\"number of clusters smaller or equal 2. Concorde Solver will halt\")\n",
    "    cont <- FALSE\n",
    "} else {\n",
    "    print(\"generating new tsp instances\")\n",
    "    start_time <- Sys.time()\n",
    "    cluster_mat <- matrix(rep(0,branch_no^2),nrow=branch_no)\n",
    "\n",
    "    #for each branch, need to find the shortest distance \n",
    "    #remember, have to put points already taken out of consideration\n",
    "\n",
    "    connections <- hash()\n",
    "\n",
    "    for (branch_index in 1:branch_no){\n",
    "        #other branches to be compared to\n",
    "            for (branch_compare_ind in 1:length(current_tree)){\n",
    "                if (has.key(sprintf(\"%s-%s\",branch_index,branch_compare_ind),connections) == FALSE){\n",
    "\n",
    "                if (branch_index != branch_compare_ind){\n",
    "                    minimum_dist <- Inf\n",
    "                    connect_pts <- NULL\n",
    "\n",
    "                    for (vertex in current_tree[[branch_index]]){\n",
    "                        \n",
    "                        for (vertex_compare in current_tree[[branch_compare_ind]]){\n",
    "                            if (minimum_dist == Inf){\n",
    "                                minimum_dist <- vertices_mat[vertex, vertex_compare]\n",
    "                                connect_pts <- list(vertex, vertex_compare)\n",
    "                            } else{\n",
    "                                distance <- vertices_mat[vertex, vertex_compare]\n",
    "                                if (distance <= minimum_dist){\n",
    "                                    minimum_dist <- distance\n",
    "                                    connect_pts <- list(vertex, vertex_compare)\n",
    "                                } \n",
    "                            }\n",
    "                        } \n",
    "                    }\n",
    "\n",
    "                    connections[[sprintf(\"%s-%s\",branch_index,branch_compare_ind)]] <-  tuple(connect_pts[[1]],connect_pts[[2]])\n",
    "                    connections[[sprintf(\"%s-%s\",branch_compare_ind,branch_index)]] <-  tuple(connect_pts[[2]],connect_pts[[1]])\n",
    "                    #append distances to matrix\n",
    "                    cluster_mat <- add_data_mat(branch_index,branch_compare_ind,minimum_dist, cluster_mat)\n",
    "\n",
    "                }\n",
    "            }\n",
    "        }\n",
    "    }\n",
    "    tsp_cluster <- as.TSP(cluster_mat)\n",
    "    end_time <- Sys.time()\n",
    "    \n",
    "    print(\"cluster TSP generated. Total processing time\")\n",
    "    add<- end_time - start_time\n",
    "    total<- total + add\n",
    "    print(add)\n",
    "    \n",
    "    print(\"solving the cluster-based TSP\")\n",
    "    start_time <- Sys.time()\n",
    "\n",
    "    cluster_tour <- solve_TSP(tsp_cluster, method=\"concorde\")\n",
    "    end_time <- Sys.time()\n",
    "    print(\"cluster tour solved. Total processing time\")\n",
    "    add<- end_time - start_time\n",
    "    total<- total + add\n",
    "    print(add)\n",
    "    \n",
    "    print(\" computing suitable endpoints\")\n",
    "    start_time <- Sys.time()\n",
    "    end_points_list<- end_points_det(cluster_tour, connections)\n",
    "    end_time <- Sys.time()\n",
    "    print(\"end points determined. total processing time\")\n",
    "    add<- end_time - start_time\n",
    "    total<- total + add\n",
    "    print(add)\n",
    "    \n",
    "    print(\"solving for ALL sub cases\")\n",
    "    start_time <- Sys.time()\n",
    "\n",
    "    all_solutions <- list()\n",
    "    for (branchNo in 1:length(current_tree)){\n",
    "        print(\"subcase\")\n",
    "        print(branchNo)\n",
    "        pts  <- data.frame(x=c(), y=c())\n",
    "        if ( length(current_tree[[branchNo]]) <=2){\n",
    "            print(\"trivial. number of points smaller or equal 2\")\n",
    "            if (length(current_tree[[branchNo]]) == 1){\n",
    "\n",
    "                all_solutions <- append(all_solutions, list(list(1)))\n",
    "            }\n",
    "\n",
    "            if (length(current_tree[[branchNo]]) == 2){\n",
    "                all_solutions <- append(all_solutions, list(list(2,1)))\n",
    "            }\n",
    "\n",
    "        }else{\n",
    "            \n",
    "            end_points <- end_points_list[[toString(branchNo)]]\n",
    "            end_points_pos <-list()\n",
    "            \n",
    "            print(\"generating TSP instance for sub case\")\n",
    "            for (pt in current_tree[[branchNo]]){\n",
    "                if (pt %in% end_points){\n",
    "                    end_points_pos <- append(end_points_pos, match(pt,current_tree[[branchNo]] ))\n",
    "                }\n",
    "                pt_data <- values(pointSet, keys=pt)\n",
    "                pts <- rbind(pts, c(pt_data[[1]],pt_data[2]))           \n",
    "\n",
    "            }\n",
    "            tsp_subcase <- TSP(dist(pts))\n",
    "            end_points <- end_points_list[[toString(branchNo)]]\n",
    "            \n",
    "            \n",
    "            tsp_subcase <- add_end_points(tsp_subcase, end_points_pos)\n",
    "\n",
    "            \n",
    "            print(\"using concorde solver.\")\n",
    "            cont <- TRUE\n",
    "            while (cont == TRUE){\n",
    "                tour <-  solve_TSP(tsp_subcase)\n",
    "                if (tour_length(tour, tsp_subcase) != Inf){\n",
    "                    cont <- FALSE\n",
    "                }\n",
    "            }\n",
    "            print(\"done. append the current solution\")\n",
    "\n",
    "            all_solutions <- append(all_solutions, list(as.list(as.integer(tour))))\n",
    "        }\n",
    "    }\n",
    "    end_time <- Sys.time()\n",
    "    print(\"all subcases are solved. Total processing time\")\n",
    "    add<- end_time - start_time\n",
    "    total<- total + add\n",
    "    print(add)\n",
    "    \n",
    "    print(\"merging\") \n",
    "    start_time <- Sys.time()\n",
    "    to_global_subtours <- to_global(all_solutions, current_tree)\n",
    "    all_subtours <- filter_before_merge(to_global_subtours,end_points_list)\n",
    "    merged_tour <-merge_all(all_subtours, cluster_tour)\n",
    "    end_time <- Sys.time()\n",
    "    add<- end_time - start_time\n",
    "    total<- total + add\n",
    "    print(add)\n",
    "    print(\"process ends. Total time\")\n",
    "    print(total)\n",
    "}\n",
    "\n"
   ]
  },
  {
   "cell_type": "code",
   "execution_count": 53,
   "metadata": {
    "scrolled": true
   },
   "outputs": [
    {
     "name": "stdout",
     "output_type": "stream",
     "text": [
      "[1] \"evaluation of result: \"\n",
      "[1] \"the ratio of this heuristics result over concorde result is: \"\n"
     ]
    },
    {
     "data": {
      "text/html": [
       "1.06196045868441"
      ],
      "text/latex": [
       "1.06196045868441"
      ],
      "text/markdown": [
       "1.06196045868441"
      ],
      "text/plain": [
       "[1] 1.06196"
      ]
     },
     "metadata": {},
     "output_type": "display_data"
    },
    {
     "name": "stdout",
     "output_type": "stream",
     "text": [
      "[1] \"the absolute value of the difference between 2 results\"\n"
     ]
    },
    {
     "data": {
      "text/html": [
       "5383.28574769384"
      ],
      "text/latex": [
       "5383.28574769384"
      ],
      "text/markdown": [
       "5383.28574769384"
      ],
      "text/plain": [
       "[1] 5383.286"
      ]
     },
     "metadata": {},
     "output_type": "display_data"
    },
    {
     "name": "stdout",
     "output_type": "stream",
     "text": [
      "[1] \"the time it takes for the heuristic method is \"\n"
     ]
    },
    {
     "data": {
      "text/plain": [
       "Time difference of 158.0987 secs"
      ]
     },
     "metadata": {},
     "output_type": "display_data"
    },
    {
     "name": "stdout",
     "output_type": "stream",
     "text": [
      "[1] \"the time it takes for the concorde solver is \"\n"
     ]
    },
    {
     "data": {
      "text/html": [
       "'Time difference of 41.54333 mins'"
      ],
      "text/latex": [
       "'Time difference of 41.54333 mins'"
      ],
      "text/markdown": [
       "'Time difference of 41.54333 mins'"
      ],
      "text/plain": [
       "[1] \"Time difference of 41.54333 mins\""
      ]
     },
     "metadata": {},
     "output_type": "display_data"
    },
    {
     "name": "stdout",
     "output_type": "stream",
     "text": [
      "[1] \"this is the plot of the heuristic produced tour: \"\n"
     ]
    },
    {
     "data": {
      "image/png": "[encoded data removed]",
      "text/plain": [
       "plot without title"
      ]
     },
     "metadata": {
      "image/png": {
       "height": 420,
       "width": 420
      },
      "text/plain": {
       "height": 420,
       "width": 420
      }
     },
     "output_type": "display_data"
    }
   ],
   "source": [
    "print(\"evaluation of result: \")\n",
    "print(\"the ratio of this heuristics result over concorde result is: \")\n",
    "tour_length(as.TOUR(merged_tour),dataETSP)/concorde_result\n",
    "\n",
    "print(\"the absolute value of the difference between 2 results\")\n",
    "tour_length(as.TOUR(merged_tour),dataETSP) - concorde_result\n",
    "\n",
    "print(\"the time it takes for the heuristic method is \")\n",
    "total\n",
    "print(\"the time it takes for the concorde solver is \")\n",
    "concorde_time\n",
    "\n",
    "print(\"this is the plot of the heuristic produced tour: \")\n",
    "plot(dataETSP, as.TOUR(merged_tour),xlim=c(17000,27000), ylim=c(51500,61500))"
   ]
  },
  {
   "cell_type": "code",
   "execution_count": 72,
   "metadata": {},
   "outputs": [
    {
     "name": "stdout",
     "output_type": "stream",
     "text": [
      "found: linkern linkern_fixed.c linkern_fixed.o linkern_path.c linkern_path.o linkern.a linkern.c linkern.o \n"
     ]
    }
   ],
   "source": [
    "library(\"TSP\")\n",
    "concorde_path(\"~/concorde/LINKERN\")\n",
    "\n",
    "processing_time <- list()\n",
    "percentage_over <- list()\n",
    "\n",
    "for (i in 1:10){\n",
    "    start_time <- Sys.time()\n",
    "    heuristic_tour <- solve_TSP(dataTSP, method=\"two_opt\")\n",
    "    end_time <- Sys.time()\n",
    "    heuristic_time <- end_time-start_time\n",
    "    processing_time <- append(processing_time, as.numeric(toString(heuristic_time))*60)\n",
    "    percentage <- (tour_length(heuristic_tour,dataETSP)/concorde_result - 1)*100\n",
    "    percentage_over <- append(percentage_over, percentage)\n",
    "}"
   ]
  },
  {
   "cell_type": "code",
   "execution_count": 73,
   "metadata": {},
   "outputs": [
    {
     "data": {
      "text/html": [
       "<ol>\n",
       "\t<li>142.272722482681</li>\n",
       "\t<li>145.332579374314</li>\n",
       "\t<li>140.076773881912</li>\n",
       "\t<li>145.167620658875</li>\n",
       "\t<li>143.056572675705</li>\n",
       "\t<li>140.361341238022</li>\n",
       "\t<li>141.925971984863</li>\n",
       "\t<li>141.862525701523</li>\n",
       "\t<li>140.8457634449</li>\n",
       "\t<li>141.451455116272</li>\n",
       "</ol>\n"
      ],
      "text/latex": [
       "\\begin{enumerate}\n",
       "\\item 142.272722482681\n",
       "\\item 145.332579374314\n",
       "\\item 140.076773881912\n",
       "\\item 145.167620658875\n",
       "\\item 143.056572675705\n",
       "\\item 140.361341238022\n",
       "\\item 141.925971984863\n",
       "\\item 141.862525701523\n",
       "\\item 140.8457634449\n",
       "\\item 141.451455116272\n",
       "\\end{enumerate}\n"
      ],
      "text/markdown": [
       "1. 142.272722482681\n",
       "2. 145.332579374314\n",
       "3. 140.076773881912\n",
       "4. 145.167620658875\n",
       "5. 143.056572675705\n",
       "6. 140.361341238022\n",
       "7. 141.925971984863\n",
       "8. 141.862525701523\n",
       "9. 140.8457634449\n",
       "10. 141.451455116272\n",
       "\n",
       "\n"
      ],
      "text/plain": [
       "[[1]]\n",
       "[1] 142.2727\n",
       "\n",
       "[[2]]\n",
       "[1] 145.3326\n",
       "\n",
       "[[3]]\n",
       "[1] 140.0768\n",
       "\n",
       "[[4]]\n",
       "[1] 145.1676\n",
       "\n",
       "[[5]]\n",
       "[1] 143.0566\n",
       "\n",
       "[[6]]\n",
       "[1] 140.3613\n",
       "\n",
       "[[7]]\n",
       "[1] 141.926\n",
       "\n",
       "[[8]]\n",
       "[1] 141.8625\n",
       "\n",
       "[[9]]\n",
       "[1] 140.8458\n",
       "\n",
       "[[10]]\n",
       "[1] 141.4515\n"
      ]
     },
     "metadata": {},
     "output_type": "display_data"
    }
   ],
   "source": [
    "processing_time"
   ]
  },
  {
   "cell_type": "code",
   "execution_count": 74,
   "metadata": {},
   "outputs": [
    {
     "data": {
      "text/html": [
       "<ol>\n",
       "\t<li>15.7487393109353</li>\n",
       "\t<li>16.1346676815507</li>\n",
       "\t<li>9.05091373285742</li>\n",
       "\t<li>8.86070567789141</li>\n",
       "\t<li>11.3326564457577</li>\n",
       "\t<li>9.20681875994944</li>\n",
       "\t<li>11.1841906583385</li>\n",
       "\t<li>7.05195055819019</li>\n",
       "\t<li>10.7859641648609</li>\n",
       "\t<li>10.0689105205803</li>\n",
       "</ol>\n"
      ],
      "text/latex": [
       "\\begin{enumerate}\n",
       "\\item 15.7487393109353\n",
       "\\item 16.1346676815507\n",
       "\\item 9.05091373285742\n",
       "\\item 8.86070567789141\n",
       "\\item 11.3326564457577\n",
       "\\item 9.20681875994944\n",
       "\\item 11.1841906583385\n",
       "\\item 7.05195055819019\n",
       "\\item 10.7859641648609\n",
       "\\item 10.0689105205803\n",
       "\\end{enumerate}\n"
      ],
      "text/markdown": [
       "1. 15.7487393109353\n",
       "2. 16.1346676815507\n",
       "3. 9.05091373285742\n",
       "4. 8.86070567789141\n",
       "5. 11.3326564457577\n",
       "6. 9.20681875994944\n",
       "7. 11.1841906583385\n",
       "8. 7.05195055819019\n",
       "9. 10.7859641648609\n",
       "10. 10.0689105205803\n",
       "\n",
       "\n"
      ],
      "text/plain": [
       "[[1]]\n",
       "[1] 15.74874\n",
       "\n",
       "[[2]]\n",
       "[1] 16.13467\n",
       "\n",
       "[[3]]\n",
       "[1] 9.050914\n",
       "\n",
       "[[4]]\n",
       "[1] 8.860706\n",
       "\n",
       "[[5]]\n",
       "[1] 11.33266\n",
       "\n",
       "[[6]]\n",
       "[1] 9.206819\n",
       "\n",
       "[[7]]\n",
       "[1] 11.18419\n",
       "\n",
       "[[8]]\n",
       "[1] 7.051951\n",
       "\n",
       "[[9]]\n",
       "[1] 10.78596\n",
       "\n",
       "[[10]]\n",
       "[1] 10.06891\n"
      ]
     },
     "metadata": {},
     "output_type": "display_data"
    }
   ],
   "source": [
    "percentage_over"
   ]
  },
  {
   "cell_type": "code",
   "execution_count": null,
   "metadata": {},
   "outputs": [],
   "source": []
  }
 ],
 "metadata": {
  "kernelspec": {
   "display_name": "R",
   "language": "R",
   "name": "ir"
  },
  "language_info": {
   "codemirror_mode": "r",
   "file_extension": ".r",
   "mimetype": "text/x-r-source",
   "name": "R",
   "pygments_lexer": "r",
   "version": "4.0.2"
  }
 },
 "nbformat": 4,
 "nbformat_minor": 4
}
